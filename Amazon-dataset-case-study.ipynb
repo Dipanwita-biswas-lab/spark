{
 "cells": [
  {
   "cell_type": "markdown",
   "metadata": {},
   "source": [
    "use Spark Dataframes to query an Amazon review dataset that contains product reviews by various customers on Amazon’s platform."
   ]
  },
  {
   "cell_type": "code",
   "execution_count": 1,
   "metadata": {},
   "outputs": [],
   "source": [
    "#import libraries\n",
    "from pyspark.sql import SparkSession"
   ]
  },
  {
   "cell_type": "code",
   "execution_count": null,
   "metadata": {},
   "outputs": [],
   "source": [
    "# https://www.kaggle.com/datasets/mojiman/bigdatafinal007?resource=download&select=Electronics_5.json"
   ]
  },
  {
   "cell_type": "code",
   "execution_count": 2,
   "metadata": {},
   "outputs": [
    {
     "name": "stdout",
     "output_type": "stream",
     "text": [
      "22/12/16 10:30:09 WARN Utils: Your hostname, Dipanwitas-MacBook-Pro.local resolves to a loopback address: 127.0.0.1; using 192.168.0.5 instead (on interface en0)\n",
      "22/12/16 10:30:09 WARN Utils: Set SPARK_LOCAL_IP if you need to bind to another address\n"
     ]
    },
    {
     "name": "stderr",
     "output_type": "stream",
     "text": [
      "Setting default log level to \"WARN\".\n",
      "To adjust logging level use sc.setLogLevel(newLevel). For SparkR, use setLogLevel(newLevel).\n"
     ]
    },
    {
     "name": "stdout",
     "output_type": "stream",
     "text": [
      "22/12/16 10:30:10 WARN NativeCodeLoader: Unable to load native-hadoop library for your platform... using builtin-java classes where applicable\n",
      "22/12/16 10:30:10 WARN Utils: Service 'SparkUI' could not bind on port 4040. Attempting port 4041.\n"
     ]
    }
   ],
   "source": [
    "spark= SparkSession.builder.appName(\"Amazon\").master('local'). getOrCreate()"
   ]
  },
  {
   "cell_type": "code",
   "execution_count": 3,
   "metadata": {},
   "outputs": [
    {
     "name": "stderr",
     "output_type": "stream",
     "text": [
      "                                                                                \r"
     ]
    }
   ],
   "source": [
    "df= spark.read.json('Amazon-Electronics_5.json')"
   ]
  },
  {
   "cell_type": "code",
   "execution_count": 4,
   "metadata": {},
   "outputs": [
    {
     "name": "stdout",
     "output_type": "stream",
     "text": [
      "+----------+--------+-------+--------------------+-----------+--------------+--------------------+--------------------+--------------+\n",
      "|      asin| helpful|overall|          reviewText| reviewTime|    reviewerID|        reviewerName|             summary|unixReviewTime|\n",
      "+----------+--------+-------+--------------------+-----------+--------------+--------------------+--------------------+--------------+\n",
      "|0528881469|  [0, 0]|    5.0|We got this GPS f...| 06 2, 2013| AO94DHGC771SJ|             amazdnu|     Gotta have GPS!|    1370131200|\n",
      "|0528881469|[12, 15]|    1.0|I'm a professiona...|11 25, 2010| AMO214LNFCEI4|     Amazon Customer|   Very Disappointed|    1290643200|\n",
      "|0528881469|[43, 45]|    3.0|Well, what can I ...| 09 9, 2010|A3N7T0DY83Y4IG|       C. A. Freeman|      1st impression|    1283990400|\n",
      "|0528881469| [9, 10]|    2.0|Not going to writ...|11 24, 2010|A1H8PY3QHMQQA0|Dave M. Shaw \"mac...|Great grafics, PO...|    1290556800|\n",
      "|0528881469|  [0, 0]|    1.0|I've had mine for...|09 29, 2011|A24EV6RXELQZ63|         Wayne Smith|Major issues, onl...|    1317254400|\n",
      "+----------+--------+-------+--------------------+-----------+--------------+--------------------+--------------------+--------------+\n",
      "only showing top 5 rows\n",
      "\n"
     ]
    }
   ],
   "source": [
    "df.show(5)"
   ]
  },
  {
   "cell_type": "code",
   "execution_count": 5,
   "metadata": {},
   "outputs": [
    {
     "name": "stdout",
     "output_type": "stream",
     "text": [
      "root\n",
      " |-- asin: string (nullable = true)\n",
      " |-- helpful: array (nullable = true)\n",
      " |    |-- element: long (containsNull = true)\n",
      " |-- overall: double (nullable = true)\n",
      " |-- reviewText: string (nullable = true)\n",
      " |-- reviewTime: string (nullable = true)\n",
      " |-- reviewerID: string (nullable = true)\n",
      " |-- reviewerName: string (nullable = true)\n",
      " |-- summary: string (nullable = true)\n",
      " |-- unixReviewTime: long (nullable = true)\n",
      "\n"
     ]
    }
   ],
   "source": [
    "df.printSchema()"
   ]
  },
  {
   "cell_type": "code",
   "execution_count": 6,
   "metadata": {},
   "outputs": [
    {
     "name": "stderr",
     "output_type": "stream",
     "text": [
      "                                                                                \r"
     ]
    },
    {
     "data": {
      "text/plain": [
       "192403"
      ]
     },
     "execution_count": 6,
     "metadata": {},
     "output_type": "execute_result"
    }
   ],
   "source": [
    "# find individual count of reviewers\n",
    "df.select('reviewerID').distinct().count()"
   ]
  },
  {
   "cell_type": "code",
   "execution_count": 7,
   "metadata": {},
   "outputs": [
    {
     "name": "stderr",
     "output_type": "stream",
     "text": [
      "                                                                                \r"
     ]
    },
    {
     "data": {
      "text/plain": [
       "63001"
      ]
     },
     "execution_count": 7,
     "metadata": {},
     "output_type": "execute_result"
    }
   ],
   "source": [
    "# get number of products\n",
    "df.select('asin').distinct().count()"
   ]
  },
  {
   "cell_type": "code",
   "execution_count": 8,
   "metadata": {},
   "outputs": [
    {
     "name": "stderr",
     "output_type": "stream",
     "text": [
      "[Stage 14:==============================================>         (10 + 1) / 12]\r"
     ]
    },
    {
     "name": "stdout",
     "output_type": "stream",
     "text": [
      "+----------+-----+\n",
      "|      asin|count|\n",
      "+----------+-----+\n",
      "|B007WTAJTO| 4915|\n",
      "|B003ES5ZUU| 4143|\n",
      "|B00DR0PDNE| 3798|\n",
      "|B0019EHU8G| 3435|\n",
      "|B002WE6D44| 2813|\n",
      "|B003ELYQGG| 2652|\n",
      "|B0002L5R78| 2599|\n",
      "|B009SYZ8OC| 2542|\n",
      "|B00BGGDVOO| 2104|\n",
      "|B002V88HFE| 2082|\n",
      "|B0074BW614| 2069|\n",
      "|B000LRMS66| 1960|\n",
      "|B006GWO5WK| 1917|\n",
      "|B000QUUFRW| 1890|\n",
      "|B005FYNSPK| 1884|\n",
      "|B005HMKKH4| 1866|\n",
      "|B0041Q38NU| 1812|\n",
      "|B00622AG6S| 1710|\n",
      "|B004QK7HI8| 1581|\n",
      "|B005DKZTMG| 1564|\n",
      "+----------+-----+\n",
      "only showing top 20 rows\n",
      "\n"
     ]
    },
    {
     "name": "stderr",
     "output_type": "stream",
     "text": [
      "                                                                                \r"
     ]
    }
   ],
   "source": [
    "# find product with count of reviews in desc order \n",
    "df.select('asin').groupby('asin').count().orderBy('count', ascending=False).show()"
   ]
  },
  {
   "cell_type": "code",
   "execution_count": 9,
   "metadata": {},
   "outputs": [
    {
     "name": "stderr",
     "output_type": "stream",
     "text": [
      "[Stage 17:==============================================>         (10 + 1) / 12]\r"
     ]
    },
    {
     "name": "stdout",
     "output_type": "stream",
     "text": [
      "+--------------+-----+\n",
      "|    reviewerID|count|\n",
      "+--------------+-----+\n",
      "|  ADLVFFE4VBT8|  431|\n",
      "|A3OXHLG6DIBRW8|  407|\n",
      "|  A6FIAB28IS79|  367|\n",
      "| A680RUE1FDO8B|  352|\n",
      "| A5JLAU2ARJ0BO|  351|\n",
      "|A1ODOGXEYECQQ8|  333|\n",
      "|A36K2N527TXXJN|  281|\n",
      "| ARBKYIVNYWK3C|  267|\n",
      "|A25C2M3QF9G7OQ|  261|\n",
      "| AWPODHOB4GFWL|  260|\n",
      "|A22CW0ZHY3NJH8|  255|\n",
      "|A3EXWV8FNSSFL6|  250|\n",
      "|A3LGT6UZL99IW1|  245|\n",
      "| A38RMU1Y5TDP9|  244|\n",
      "|A2NOW4U7W3F7RI|  241|\n",
      "|A23GFTVIETX7DS|  241|\n",
      "|A3AYSYSLHU26U9|  231|\n",
      "|A2AY4YUOX2N1BQ|  228|\n",
      "|A17BUUBOU0598B|  228|\n",
      "|A1UQBFCERIP7VJ|  228|\n",
      "+--------------+-----+\n",
      "only showing top 20 rows\n",
      "\n"
     ]
    },
    {
     "name": "stderr",
     "output_type": "stream",
     "text": [
      "                                                                                \r"
     ]
    }
   ],
   "source": [
    "# get count of reviews by each user\n",
    "\n",
    "df.select('reviewerID').groupby('reviewerID').count().orderBy('count', ascending=False).show()"
   ]
  },
  {
   "cell_type": "code",
   "execution_count": 10,
   "metadata": {},
   "outputs": [],
   "source": [
    "# number of users every month sorted in descending order \n",
    "from pyspark.sql.functions import *\n",
    "df= df.withColumn('ReviewedTime', to_timestamp(df['unixReviewTime']))"
   ]
  },
  {
   "cell_type": "code",
   "execution_count": 11,
   "metadata": {},
   "outputs": [
    {
     "name": "stdout",
     "output_type": "stream",
     "text": [
      "+----------+--------+-------+--------------------+-----------+--------------+--------------------+--------------------+--------------+-------------------+\n",
      "|      asin| helpful|overall|          reviewText| reviewTime|    reviewerID|        reviewerName|             summary|unixReviewTime|       ReviewedTime|\n",
      "+----------+--------+-------+--------------------+-----------+--------------+--------------------+--------------------+--------------+-------------------+\n",
      "|0528881469|  [0, 0]|    5.0|We got this GPS f...| 06 2, 2013| AO94DHGC771SJ|             amazdnu|     Gotta have GPS!|    1370131200|2013-06-02 05:30:00|\n",
      "|0528881469|[12, 15]|    1.0|I'm a professiona...|11 25, 2010| AMO214LNFCEI4|     Amazon Customer|   Very Disappointed|    1290643200|2010-11-25 05:30:00|\n",
      "|0528881469|[43, 45]|    3.0|Well, what can I ...| 09 9, 2010|A3N7T0DY83Y4IG|       C. A. Freeman|      1st impression|    1283990400|2010-09-09 05:30:00|\n",
      "|0528881469| [9, 10]|    2.0|Not going to writ...|11 24, 2010|A1H8PY3QHMQQA0|Dave M. Shaw \"mac...|Great grafics, PO...|    1290556800|2010-11-24 05:30:00|\n",
      "|0528881469|  [0, 0]|    1.0|I've had mine for...|09 29, 2011|A24EV6RXELQZ63|         Wayne Smith|Major issues, onl...|    1317254400|2011-09-29 05:30:00|\n",
      "+----------+--------+-------+--------------------+-----------+--------------+--------------------+--------------------+--------------+-------------------+\n",
      "only showing top 5 rows\n",
      "\n"
     ]
    }
   ],
   "source": [
    "df.show(5)"
   ]
  },
  {
   "cell_type": "code",
   "execution_count": 21,
   "metadata": {},
   "outputs": [],
   "source": [
    "df= df.withColumn('year', year('ReviewedTime'))\\\n",
    "    .withColumn('month', month('ReviewedTime'))"
   ]
  },
  {
   "cell_type": "code",
   "execution_count": 22,
   "metadata": {},
   "outputs": [
    {
     "name": "stderr",
     "output_type": "stream",
     "text": [
      "[Stage 21:==============================================>         (10 + 1) / 12]\r"
     ]
    },
    {
     "name": "stdout",
     "output_type": "stream",
     "text": [
      "+----+--------------+-----+\n",
      "|year|    reviewerID|count|\n",
      "+----+--------------+-----+\n",
      "|2012|A2AY4YUOX2N1BQ|  126|\n",
      "|2012| AEJAGHLC675A7|  109|\n",
      "|2013|A2KYRPDKVBI2R4|  108|\n",
      "|2013|A3OA4DV4L81N1D|  106|\n",
      "|2013|A2HRHF83I3NDGT|  103|\n",
      "|2014|A2NYK9KWFMJV4Y|   96|\n",
      "|2013|  ADLVFFE4VBT8|   95|\n",
      "|2013|A12DQZKRKTNF5E|   94|\n",
      "|2013| A1E1LEVQ9VQNK|   93|\n",
      "|2013|A1ODOGXEYECQQ8|   92|\n",
      "|2013|A36K2N527TXXJN|   92|\n",
      "|2014|A2BYV7S1QP2YIG|   92|\n",
      "|2013|A27M75LRSJ788H|   89|\n",
      "|2014|A3H4S6YO9VNGDZ|   88|\n",
      "|2013| ARBKYIVNYWK3C|   87|\n",
      "|2014|A1G650TTTHEAL5|   86|\n",
      "|2010|A3OXHLG6DIBRW8|   85|\n",
      "|2013|A3IOQ7NVVLAUEE|   85|\n",
      "|2014| AAQ9NJ480N9W5|   83|\n",
      "|2013|A22CW0ZHY3NJH8|   83|\n",
      "+----+--------------+-----+\n",
      "only showing top 20 rows\n",
      "\n"
     ]
    },
    {
     "name": "stderr",
     "output_type": "stream",
     "text": [
      "                                                                                \r"
     ]
    }
   ],
   "source": [
    "\n",
    "df.select('year','reviewerID' ).groupby('year','reviewerID' ).count().orderBy('count', ascending=False).show()"
   ]
  },
  {
   "cell_type": "code",
   "execution_count": 25,
   "metadata": {},
   "outputs": [
    {
     "name": "stderr",
     "output_type": "stream",
     "text": [
      "[Stage 27:==============================================>         (10 + 1) / 12]\r"
     ]
    },
    {
     "name": "stdout",
     "output_type": "stream",
     "text": [
      "+----------+-----+\n",
      "|      asin|count|\n",
      "+----------+-----+\n",
      "|B007WTAJTO| 1096|\n",
      "|B003ES5ZUU| 1013|\n",
      "|B00DR0PDNE| 1012|\n",
      "|B0019EHU8G|  977|\n",
      "|B003ELYQGG|  832|\n",
      "|B0074BW614|  712|\n",
      "|B002WE6D44|  621|\n",
      "|B0002L5R78|  616|\n",
      "|B00BGGDVOO|  604|\n",
      "|B009SYZ8OC|  558|\n",
      "|B00007E7JU|  542|\n",
      "|B005DKZTMG|  536|\n",
      "|B002MAPRYU|  464|\n",
      "|B0027VT6V4|  440|\n",
      "|B005FYNSPK|  418|\n",
      "|B005HMKKH4|  413|\n",
      "|B002V88HFE|  406|\n",
      "|B0052SCU8U|  395|\n",
      "|B000LRMS66|  392|\n",
      "|B0052YFYFK|  387|\n",
      "+----------+-----+\n",
      "only showing top 20 rows\n",
      "\n"
     ]
    },
    {
     "name": "stderr",
     "output_type": "stream",
     "text": [
      "                                                                                \r"
     ]
    }
   ],
   "source": [
    "# how many times a product is reviewed 'great'\n",
    "great_reviews= df.filter(df.reviewText.contains('great'))\n",
    "great_reviews.select('asin').groupBy('asin').count().orderBy('count', ascending=False).show()"
   ]
  },
  {
   "cell_type": "code",
   "execution_count": null,
   "metadata": {},
   "outputs": [],
   "source": []
  }
 ],
 "metadata": {
  "kernelspec": {
   "display_name": "Python 3.9.13 64-bit",
   "language": "python",
   "name": "python3"
  },
  "language_info": {
   "codemirror_mode": {
    "name": "ipython",
    "version": 3
   },
   "file_extension": ".py",
   "mimetype": "text/x-python",
   "name": "python",
   "nbconvert_exporter": "python",
   "pygments_lexer": "ipython3",
   "version": "3.9.13"
  },
  "orig_nbformat": 4,
  "vscode": {
   "interpreter": {
    "hash": "b0fa6594d8f4cbf19f97940f81e996739fb7646882a419484c72d19e05852a7e"
   }
  }
 },
 "nbformat": 4,
 "nbformat_minor": 2
}
