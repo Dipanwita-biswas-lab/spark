{
 "cells": [
  {
   "cell_type": "code",
   "execution_count": null,
   "metadata": {},
   "outputs": [],
   "source": [
    "#! wget https://upgrad-spark-data.s3.amazonaws.com/Parking_Violations_Issued_-_Fiscal_Year_2017.csv"
   ]
  },
  {
   "cell_type": "markdown",
   "metadata": {},
   "source": [
    "New York City is a thriving metropolis. Just like most other metros its size, one of the biggest problems its citizens face is parking. The classic combination of a huge number of cars and cramped geography leads to a huge number of parking tickets.\n",
    "\n",
    " \n",
    "\n",
    "In an attempt to scientifically analyse this phenomenon, the NYC Police Department has collected data for parking tickets. Of these, the data files for multiple years are publicly available on Kaggle. We will try and perform some exploratory analysis on a part of this data. Spark will allow us to analyse the full files at high speeds as opposed to taking a series of random samples that will approximate the population. For the scope of this analysis, we will analyse the parking tickets over the year 2017. \n",
    "\n",
    " "
   ]
  },
  {
   "cell_type": "markdown",
   "metadata": {},
   "source": [
    "\n"
   ]
  },
  {
   "cell_type": "code",
   "execution_count": 1,
   "metadata": {},
   "outputs": [],
   "source": [
    "#import libraries\n",
    "from pyspark.sql import SparkSession, Window\n",
    "from pyspark.sql.functions import *"
   ]
  },
  {
   "cell_type": "code",
   "execution_count": 2,
   "metadata": {},
   "outputs": [
    {
     "name": "stdout",
     "output_type": "stream",
     "text": [
      "22/12/18 11:40:24 WARN Utils: Your hostname, Dipanwitas-MacBook-Pro.local resolves to a loopback address: 127.0.0.1; using 192.168.0.5 instead (on interface en0)\n",
      "22/12/18 11:40:24 WARN Utils: Set SPARK_LOCAL_IP if you need to bind to another address\n"
     ]
    },
    {
     "name": "stderr",
     "output_type": "stream",
     "text": [
      "Setting default log level to \"WARN\".\n",
      "To adjust logging level use sc.setLogLevel(newLevel). For SparkR, use setLogLevel(newLevel).\n"
     ]
    },
    {
     "name": "stdout",
     "output_type": "stream",
     "text": [
      "22/12/18 11:40:24 WARN NativeCodeLoader: Unable to load native-hadoop library for your platform... using builtin-java classes where applicable\n"
     ]
    }
   ],
   "source": [
    "spark= SparkSession.builder.appName('nycparking').master(\"local\").getOrCreate()"
   ]
  },
  {
   "cell_type": "code",
   "execution_count": 3,
   "metadata": {},
   "outputs": [
    {
     "name": "stderr",
     "output_type": "stream",
     "text": [
      "                                                                                \r"
     ]
    }
   ],
   "source": [
    "df=spark.read.csv('Parking_Violations_Issued_-_Fiscal_Year_2017.csv', header= True, inferSchema=True)"
   ]
  },
  {
   "cell_type": "code",
   "execution_count": 4,
   "metadata": {},
   "outputs": [
    {
     "name": "stdout",
     "output_type": "stream",
     "text": [
      "root\n",
      " |-- Summons Number: long (nullable = true)\n",
      " |-- Plate ID: string (nullable = true)\n",
      " |-- Registration State: string (nullable = true)\n",
      " |-- Plate Type: string (nullable = true)\n",
      " |-- Issue Date: string (nullable = true)\n",
      " |-- Violation Code: integer (nullable = true)\n",
      " |-- Vehicle Body Type: string (nullable = true)\n",
      " |-- Vehicle Make: string (nullable = true)\n",
      " |-- Issuing Agency: string (nullable = true)\n",
      " |-- Street Code1: integer (nullable = true)\n",
      " |-- Street Code2: integer (nullable = true)\n",
      " |-- Street Code3: integer (nullable = true)\n",
      " |-- Vehicle Expiration Date: integer (nullable = true)\n",
      " |-- Violation Location: integer (nullable = true)\n",
      " |-- Violation Precinct: integer (nullable = true)\n",
      " |-- Issuer Precinct: integer (nullable = true)\n",
      " |-- Issuer Code: integer (nullable = true)\n",
      " |-- Issuer Command: string (nullable = true)\n",
      " |-- Issuer Squad: string (nullable = true)\n",
      " |-- Violation Time: string (nullable = true)\n",
      " |-- Time First Observed: string (nullable = true)\n",
      " |-- Violation County: string (nullable = true)\n",
      " |-- Violation In Front Of Or Opposite: string (nullable = true)\n",
      " |-- House Number: string (nullable = true)\n",
      " |-- Street Name: string (nullable = true)\n",
      " |-- Intersecting Street: string (nullable = true)\n",
      " |-- Date First Observed: integer (nullable = true)\n",
      " |-- Law Section: integer (nullable = true)\n",
      " |-- Sub Division: string (nullable = true)\n",
      " |-- Violation Legal Code: string (nullable = true)\n",
      " |-- Days Parking In Effect    : string (nullable = true)\n",
      " |-- From Hours In Effect: string (nullable = true)\n",
      " |-- To Hours In Effect: string (nullable = true)\n",
      " |-- Vehicle Color: string (nullable = true)\n",
      " |-- Unregistered Vehicle?: integer (nullable = true)\n",
      " |-- Vehicle Year: integer (nullable = true)\n",
      " |-- Meter Number: string (nullable = true)\n",
      " |-- Feet From Curb: integer (nullable = true)\n",
      " |-- Violation Post Code: string (nullable = true)\n",
      " |-- Violation Description: string (nullable = true)\n",
      " |-- No Standing or Stopping Violation: string (nullable = true)\n",
      " |-- Hydrant Violation: string (nullable = true)\n",
      " |-- Double Parking Violation: string (nullable = true)\n",
      "\n"
     ]
    }
   ],
   "source": [
    "df.printSchema()"
   ]
  },
  {
   "cell_type": "code",
   "execution_count": 5,
   "metadata": {},
   "outputs": [],
   "source": [
    "# drop duplicates\n",
    "df= df.dropDuplicates()"
   ]
  },
  {
   "cell_type": "code",
   "execution_count": 6,
   "metadata": {},
   "outputs": [
    {
     "name": "stdout",
     "output_type": "stream",
     "text": [
      "22/12/18 11:42:03 WARN package: Truncated the string representation of a plan since it was too large. This behavior can be adjusted by setting 'spark.sql.debug.maxToStringFields'.\n"
     ]
    },
    {
     "name": "stderr",
     "output_type": "stream",
     "text": [
      "                                                                                \r"
     ]
    },
    {
     "data": {
      "text/plain": [
       "10803028"
      ]
     },
     "execution_count": 6,
     "metadata": {},
     "output_type": "execute_result"
    }
   ],
   "source": [
    "#Find the total number of tickets for the year.\n",
    "df.select('Summons Number').count()"
   ]
  },
  {
   "cell_type": "code",
   "execution_count": 7,
   "metadata": {},
   "outputs": [
    {
     "name": "stderr",
     "output_type": "stream",
     "text": [
      "                                                                                \r"
     ]
    },
    {
     "data": {
      "text/plain": [
       "36625"
      ]
     },
     "execution_count": 7,
     "metadata": {},
     "output_type": "execute_result"
    }
   ],
   "source": [
    "# There is a numeric entry '99' in the column'Registration State, which should be corrected. \n",
    "# Replace it with the state having the maximum entries. Provide the number of unique states again.\n",
    "df.select('Registration State').where(df['Registration State']==99).count()"
   ]
  },
  {
   "cell_type": "code",
   "execution_count": 8,
   "metadata": {},
   "outputs": [
    {
     "name": "stderr",
     "output_type": "stream",
     "text": [
      "                                                                                \r"
     ]
    }
   ],
   "source": [
    "max_tickets=df.groupby('Registration State').count().orderBy('count',ascending=False).first()['Registration State']"
   ]
  },
  {
   "cell_type": "code",
   "execution_count": 9,
   "metadata": {},
   "outputs": [],
   "source": [
    "df=df.withColumn('Registration State', when(df['Registration State']==99, max_tickets).otherwise(df['Registration State']))"
   ]
  },
  {
   "cell_type": "code",
   "execution_count": 10,
   "metadata": {},
   "outputs": [
    {
     "name": "stderr",
     "output_type": "stream",
     "text": [
      "                                                                                \r"
     ]
    },
    {
     "data": {
      "text/plain": [
       "0"
      ]
     },
     "execution_count": 10,
     "metadata": {},
     "output_type": "execute_result"
    }
   ],
   "source": [
    "df.select('Registration State').where(df['Registration State']==99).count()"
   ]
  },
  {
   "cell_type": "code",
   "execution_count": 11,
   "metadata": {},
   "outputs": [
    {
     "name": "stderr",
     "output_type": "stream",
     "text": [
      "[Stage 25:======================================================> (39 + 1) / 40]\r"
     ]
    },
    {
     "name": "stdout",
     "output_type": "stream",
     "text": [
      "+------------------+-------+\n",
      "|Registration State|  count|\n",
      "+------------------+-------+\n",
      "|                NY|8517686|\n",
      "|                NJ| 925965|\n",
      "|                PA| 285419|\n",
      "|                FL| 144556|\n",
      "|                CT| 141088|\n",
      "|                MA|  85547|\n",
      "|                IN|  80749|\n",
      "|                VA|  72626|\n",
      "|                MD|  61800|\n",
      "|                NC|  55806|\n",
      "|                IL|  37329|\n",
      "|                GA|  36852|\n",
      "|                TX|  36516|\n",
      "|                AZ|  26426|\n",
      "|                OH|  25302|\n",
      "|                CA|  24260|\n",
      "|                SC|  21836|\n",
      "|                ME|  21574|\n",
      "|                MN|  18227|\n",
      "|                OK|  18165|\n",
      "+------------------+-------+\n",
      "only showing top 20 rows\n",
      "\n"
     ]
    },
    {
     "name": "stderr",
     "output_type": "stream",
     "text": [
      "                                                                                \r"
     ]
    }
   ],
   "source": [
    "# Find out the number of unique states from where the cars that got parking tickets came. \n",
    "# (Hint: Use the column 'Registration State'.)\n",
    "df.groupby('Registration State').count().orderBy('count', ascending=False).show()"
   ]
  },
  {
   "cell_type": "code",
   "execution_count": 12,
   "metadata": {},
   "outputs": [
    {
     "name": "stderr",
     "output_type": "stream",
     "text": [
      "[Stage 31:======================================================> (39 + 1) / 40]\r"
     ]
    },
    {
     "name": "stdout",
     "output_type": "stream",
     "text": [
      "+--------------+-------+\n",
      "|Violation Code|  count|\n",
      "+--------------+-------+\n",
      "|            21|1528588|\n",
      "|            36|1400614|\n",
      "|            38|1062304|\n",
      "|            14| 893498|\n",
      "|            20| 618593|\n",
      "+--------------+-------+\n",
      "only showing top 5 rows\n",
      "\n"
     ]
    },
    {
     "name": "stderr",
     "output_type": "stream",
     "text": [
      "                                                                                \r"
     ]
    }
   ],
   "source": [
    "# How often does each violation code occur? Display the frequency of the top five violation codes.\n",
    "df.groupBy('Violation Code').count().orderBy('count', ascending=False).show(5)"
   ]
  },
  {
   "cell_type": "code",
   "execution_count": 13,
   "metadata": {},
   "outputs": [
    {
     "name": "stderr",
     "output_type": "stream",
     "text": [
      "[Stage 37:======================================================> (39 + 1) / 40]\r"
     ]
    },
    {
     "name": "stdout",
     "output_type": "stream",
     "text": [
      "+-----------------+-------+\n",
      "|vehicle body type|  count|\n",
      "+-----------------+-------+\n",
      "|             SUBN|3719802|\n",
      "|             4DSD|3082020|\n",
      "|              VAN|1411970|\n",
      "|             DELV| 687330|\n",
      "|              SDN| 438191|\n",
      "+-----------------+-------+\n",
      "only showing top 5 rows\n",
      "\n"
     ]
    },
    {
     "name": "stderr",
     "output_type": "stream",
     "text": [
      "                                                                                \r"
     ]
    }
   ],
   "source": [
    "#How often does each 'vehicle body type' get a parking ticket? \n",
    "df.groupBy('vehicle body type').count().orderBy('count', ascending=False).show(5)\n"
   ]
  },
  {
   "cell_type": "code",
   "execution_count": 14,
   "metadata": {},
   "outputs": [
    {
     "name": "stderr",
     "output_type": "stream",
     "text": [
      "[Stage 43:======================================================> (39 + 1) / 40]\r"
     ]
    },
    {
     "name": "stdout",
     "output_type": "stream",
     "text": [
      "+------------+-------+\n",
      "|vehicle make|  count|\n",
      "+------------+-------+\n",
      "|        FORD|1280958|\n",
      "|       TOYOT|1211451|\n",
      "|       HONDA|1079238|\n",
      "|       NISSA| 918590|\n",
      "|       CHEVR| 714655|\n",
      "+------------+-------+\n",
      "only showing top 5 rows\n",
      "\n"
     ]
    },
    {
     "name": "stderr",
     "output_type": "stream",
     "text": [
      "                                                                                \r"
     ]
    }
   ],
   "source": [
    "\n",
    "# How about the 'vehicle make'? (Hint: Find the top 5 for both.)\n",
    "df.groupBy('vehicle make').count().orderBy('count', ascending=False).show(5)"
   ]
  },
  {
   "cell_type": "code",
   "execution_count": 15,
   "metadata": {},
   "outputs": [
    {
     "name": "stderr",
     "output_type": "stream",
     "text": [
      "[Stage 49:======================================================> (39 + 1) / 40]\r"
     ]
    },
    {
     "name": "stdout",
     "output_type": "stream",
     "text": [
      "+------------------+-------+\n",
      "|Violation Precinct|  count|\n",
      "+------------------+-------+\n",
      "|                 0|2072400|\n",
      "|                19| 535671|\n",
      "|                14| 352450|\n",
      "|                 1| 331810|\n",
      "|                18| 306920|\n",
      "+------------------+-------+\n",
      "only showing top 5 rows\n",
      "\n"
     ]
    },
    {
     "name": "stderr",
     "output_type": "stream",
     "text": [
      "                                                                                \r"
     ]
    }
   ],
   "source": [
    "#A precinct is a police station that has a certain zone of the city under its command. \n",
    "# Find the (5 highest) frequencies of tickets for each of the following:\n",
    "#'Violation Precinct' (This is the precinct of the zone where the violation occurred). \n",
    "# Using this, can you draw any insights for parking violations in any specific areas of the city?\n",
    "df.groupBy('Violation Precinct').count().orderBy('count', ascending=False).show(5)\n"
   ]
  },
  {
   "cell_type": "code",
   "execution_count": 16,
   "metadata": {},
   "outputs": [
    {
     "name": "stderr",
     "output_type": "stream",
     "text": [
      "[Stage 55:======================================================> (39 + 1) / 40]\r"
     ]
    },
    {
     "name": "stdout",
     "output_type": "stream",
     "text": [
      "+---------------+-------+\n",
      "|Issuer Precinct|  count|\n",
      "+---------------+-------+\n",
      "|              0|2388479|\n",
      "|             19| 521513|\n",
      "|             14| 344977|\n",
      "|              1| 321170|\n",
      "|             18| 296553|\n",
      "+---------------+-------+\n",
      "only showing top 5 rows\n",
      "\n"
     ]
    },
    {
     "name": "stderr",
     "output_type": "stream",
     "text": [
      "                                                                                \r"
     ]
    }
   ],
   "source": [
    "\n",
    "#'Issuer Precinct' (This is the precinct that issued the ticket.)\n",
    "df.groupBy('Issuer Precinct').count().orderBy('count', ascending=False).show(5)\n"
   ]
  },
  {
   "cell_type": "code",
   "execution_count": 17,
   "metadata": {},
   "outputs": [
    {
     "name": "stderr",
     "output_type": "stream",
     "text": [
      "[Stage 61:======================================================> (39 + 1) / 40]\r"
     ]
    },
    {
     "name": "stdout",
     "output_type": "stream",
     "text": [
      "+------------------+-------+\n",
      "|Violation Precinct|  count|\n",
      "+------------------+-------+\n",
      "|                 0|2072400|\n",
      "|                19| 535671|\n",
      "|                14| 352450|\n",
      "|                 1| 331810|\n",
      "|                18| 306920|\n",
      "|               114| 296514|\n",
      "+------------------+-------+\n",
      "only showing top 6 rows\n",
      "\n"
     ]
    },
    {
     "name": "stderr",
     "output_type": "stream",
     "text": [
      "                                                                                \r"
     ]
    }
   ],
   "source": [
    "# Here, you would have noticed that the dataframe has the 'Violating Precinct' or 'Issuing Precinct' as '0'. \n",
    "# These are erroneous entries. Hence, you need to provide the records for five correct precincts. \n",
    "# (Hint: Print the top six entries after sorting.)\n",
    "df.groupBy('Violation Precinct').count().orderBy('count', ascending=False).show(6)\n"
   ]
  },
  {
   "cell_type": "code",
   "execution_count": 18,
   "metadata": {},
   "outputs": [
    {
     "name": "stderr",
     "output_type": "stream",
     "text": [
      "[Stage 67:======================================================> (39 + 1) / 40]\r"
     ]
    },
    {
     "name": "stdout",
     "output_type": "stream",
     "text": [
      "+---------------+-------+\n",
      "|Issuer Precinct|  count|\n",
      "+---------------+-------+\n",
      "|              0|2388479|\n",
      "|             19| 521513|\n",
      "|             14| 344977|\n",
      "|              1| 321170|\n",
      "|             18| 296553|\n",
      "|            114| 289950|\n",
      "+---------------+-------+\n",
      "only showing top 6 rows\n",
      "\n"
     ]
    },
    {
     "name": "stderr",
     "output_type": "stream",
     "text": [
      "                                                                                \r"
     ]
    }
   ],
   "source": [
    "df.groupBy('Issuer Precinct').count().orderBy('count', ascending=False).show(6)"
   ]
  },
  {
   "cell_type": "code",
   "execution_count": 19,
   "metadata": {},
   "outputs": [],
   "source": [
    "# Find the violation code frequencies for three precincts that have issued the most number of tickets. \n",
    "# Do these precinct zones have an exceptionally high frequency of certain violation codes? \n",
    "# Are these codes common across precincts? \n",
    "#(Hint: In the SQL view, use the 'where' attribute to filter among three precincts.)\n",
    "df.createTempView('parking_violation')\n"
   ]
  },
  {
   "cell_type": "code",
   "execution_count": 22,
   "metadata": {},
   "outputs": [
    {
     "name": "stderr",
     "output_type": "stream",
     "text": [
      "[Stage 101:==================================>                      (3 + 1) / 5]\r"
     ]
    },
    {
     "name": "stdout",
     "output_type": "stream",
     "text": [
      "+---------------+--------------+---------------------+---+\n",
      "|Issuer Precinct|violation Code|count(Summons Number)| rn|\n",
      "+---------------+--------------+---------------------+---+\n",
      "|              1|            14|                73522|  1|\n",
      "|              1|            16|                38937|  2|\n",
      "|              1|            20|                27841|  3|\n",
      "|             14|            14|                73837|  1|\n",
      "|             14|            69|                58026|  2|\n",
      "|             14|            31|                39857|  3|\n",
      "|             19|            46|                86390|  1|\n",
      "|             19|            37|                72437|  2|\n",
      "|             19|            38|                72344|  3|\n",
      "+---------------+--------------+---------------------+---+\n",
      "\n"
     ]
    },
    {
     "name": "stderr",
     "output_type": "stream",
     "text": [
      "                                                                                \r"
     ]
    }
   ],
   "source": [
    "query ='''Select * from\n",
    "(select `Issuer Precinct`, `violation Code`, \n",
    "count(`Summons Number`) ,\n",
    "row_number() over (partition by `Issuer Precinct` order by count(`Summons Number`) desc ) as rn\n",
    "from parking_violation\n",
    "where `Issuer Precinct` in \n",
    "    (select `Issuer Precinct` from parking_violation\n",
    "    where `Issuer Precinct`!=0  \n",
    "    group by `Issuer Precinct`\n",
    "    order by count(`Issuer Precinct`) desc \n",
    "    limit 3)\n",
    "group by `Issuer Precinct`, `violation Code`)\n",
    "where rn<=3\n",
    "'''\n",
    "\n",
    "spark.sql(query).show()"
   ]
  },
  {
   "cell_type": "code",
   "execution_count": 23,
   "metadata": {},
   "outputs": [
    {
     "name": "stderr",
     "output_type": "stream",
     "text": [
      "[Stage 109:===================================================>   (15 + 1) / 16]\r"
     ]
    },
    {
     "name": "stdout",
     "output_type": "stream",
     "text": [
      "+------+\n",
      "|counts|\n",
      "+------+\n",
      "|    63|\n",
      "+------+\n",
      "\n"
     ]
    },
    {
     "name": "stderr",
     "output_type": "stream",
     "text": [
      "                                                                                \r"
     ]
    }
   ],
   "source": [
    "\n",
    "# Find out the properties of parking violations across different times of the day:\n",
    "#Find a way to deal with missing values, if any.\n",
    "#(Hint: Check for the null values using 'isNull' under the SQL. \n",
    "\n",
    "query= '''select count(`Summons Number`) as counts from parking_violation\n",
    "where `Violation Time` is NULL'''\n",
    "\n",
    "spark.sql(query).show()"
   ]
  },
  {
   "cell_type": "code",
   "execution_count": 24,
   "metadata": {},
   "outputs": [],
   "source": [
    "df=df.filter('`Violation Time` is not NULL')"
   ]
  },
  {
   "cell_type": "code",
   "execution_count": 25,
   "metadata": {},
   "outputs": [],
   "source": [
    "df.createOrReplaceTempView('parking_violation')"
   ]
  },
  {
   "cell_type": "code",
   "execution_count": 26,
   "metadata": {},
   "outputs": [
    {
     "name": "stderr",
     "output_type": "stream",
     "text": [
      "[Stage 115:===================================================>   (15 + 1) / 16]\r"
     ]
    },
    {
     "name": "stdout",
     "output_type": "stream",
     "text": [
      "+------+\n",
      "|counts|\n",
      "+------+\n",
      "|     0|\n",
      "+------+\n",
      "\n"
     ]
    },
    {
     "name": "stderr",
     "output_type": "stream",
     "text": [
      "                                                                                \r"
     ]
    }
   ],
   "source": [
    "query= '''select count(`Summons Number`) as counts from parking_violation\n",
    "where `Violation Time` is NULL'''\n",
    "\n",
    "spark.sql(query).show()"
   ]
  },
  {
   "cell_type": "code",
   "execution_count": 27,
   "metadata": {},
   "outputs": [
    {
     "name": "stderr",
     "output_type": "stream",
     "text": [
      "[Stage 120:=====================================================> (39 + 1) / 40]\r"
     ]
    },
    {
     "name": "stdout",
     "output_type": "stream",
     "text": [
      "+--------------+\n",
      "|Violation Time|\n",
      "+--------------+\n",
      "|         .240P|\n",
      "|         .359A|\n",
      "|         .933A|\n",
      "|         0+45A|\n",
      "|         0.22A|\n",
      "|         0.47A|\n",
      "|         0.51P|\n",
      "|         0000A|\n",
      "|         0000A|\n",
      "|         0000A|\n",
      "|         0000A|\n",
      "|         0000A|\n",
      "|         0000A|\n",
      "|         0000A|\n",
      "|         0000A|\n",
      "|         0000A|\n",
      "|         0000A|\n",
      "|         0000A|\n",
      "|         0000A|\n",
      "|         0000A|\n",
      "+--------------+\n",
      "only showing top 20 rows\n",
      "\n"
     ]
    },
    {
     "name": "stderr",
     "output_type": "stream",
     "text": [
      "                                                                                \r"
     ]
    }
   ],
   "source": [
    "df.select('Violation Time').orderBy('Violation Time').show()"
   ]
  },
  {
   "cell_type": "code",
   "execution_count": 28,
   "metadata": {},
   "outputs": [],
   "source": [
    "# there are a few data which does not look right. dropping those records\n",
    "df= df.where(~(df['Violation Time'].isin(['.240P','.359A', '.933A','0+45A', '0.22A', '0.47A', '0.51P'])))"
   ]
  },
  {
   "cell_type": "code",
   "execution_count": 29,
   "metadata": {},
   "outputs": [],
   "source": [
    "# The Violation Time field is specified in a strange format. \n",
    "# Find a way to make this a time attribute that you can use to divide into groups.\n",
    "df=df.withColumn('Violation Time', lpad(df['Violation Time'], 5,'0'))\n"
   ]
  },
  {
   "cell_type": "code",
   "execution_count": 30,
   "metadata": {},
   "outputs": [],
   "source": [
    "\n",
    "df=df.withColumn('Violation Time', \\\n",
    "    when(df['Violation Time'].contains('A'), \\\n",
    "        regexp_replace(df['Violation Time'], 'A', 'am')).\\\n",
    "            otherwise(regexp_replace(df['Violation Time'], 'P', 'pm')))"
   ]
  },
  {
   "cell_type": "code",
   "execution_count": 31,
   "metadata": {},
   "outputs": [],
   "source": [
    "pattern= 'hhmma'\n",
    "df=df.withColumn('Violationtime', to_timestamp(df['Violation Time'], pattern))\n"
   ]
  },
  {
   "cell_type": "code",
   "execution_count": 32,
   "metadata": {},
   "outputs": [],
   "source": [
    "df.createOrReplaceTempView('parking_violation')"
   ]
  },
  {
   "cell_type": "code",
   "execution_count": 33,
   "metadata": {},
   "outputs": [
    {
     "name": "stderr",
     "output_type": "stream",
     "text": [
      "[Stage 123:=====================================================> (39 + 1) / 40]\r"
     ]
    },
    {
     "name": "stdout",
     "output_type": "stream",
     "text": [
      "+--------------+-----+-------+---+\n",
      "|violation Code| TIME| counts| rn|\n",
      "+--------------+-----+-------+---+\n",
      "|            21| null|  23924|  1|\n",
      "|            14| null|   8028|  2|\n",
      "|            40| null|   6260|  3|\n",
      "|            21|  0-3|  53600|  1|\n",
      "|            40|  0-3|  44737|  2|\n",
      "|            78|  0-3|  28716|  3|\n",
      "|            36|12-15| 588395|  1|\n",
      "|            38|12-15| 462756|  2|\n",
      "|            37|12-15| 337074|  3|\n",
      "|            38|16-20| 221419|  1|\n",
      "|            14|16-20| 156366|  2|\n",
      "|             7|16-20| 152038|  3|\n",
      "|             7|21-23|  45323|  1|\n",
      "|            40|21-23|  34688|  2|\n",
      "|            14|21-23|  33160|  3|\n",
      "|            14|  4-7| 141275|  1|\n",
      "|            21|  4-7| 119466|  2|\n",
      "|            40|  4-7| 112186|  3|\n",
      "|            21| 8-11|1182676|  1|\n",
      "|            36| 8-11| 751422|  2|\n",
      "+--------------+-----+-------+---+\n",
      "only showing top 20 rows\n",
      "\n"
     ]
    },
    {
     "name": "stderr",
     "output_type": "stream",
     "text": [
      "                                                                                \r"
     ]
    }
   ],
   "source": [
    "#Divide 24 hours into six equal discrete bins of time. Choose the intervals as you see fit. \n",
    "# For each of these groups, find the three most commonly occurring violations.\n",
    "#(Hint: Use the CASE-WHEN in SQL view to segregate into bins. \n",
    "# To find the most commonly occurring violations, you can use an approach similar to the one mentioned in the hint for question 4.)\n",
    "query= '''Select * from \n",
    "(select `violation Code`, TIME, \n",
    "count(`violation Code`) as counts,\n",
    "row_number() over (partition by TIME order by count(`violation Code`) desc ) as rn\n",
    "from        \n",
    " (select `violation Code`,  case when hour(`ViolationTime`) between 0 and 3 then '0-3'\n",
    "    when hour(`ViolationTime`) between 4 and 7 then '4-7'\n",
    "    when hour(`ViolationTime`) between 8 and 11 then '8-11'\n",
    "    when hour(`ViolationTime`) between 12 and 15 then '12-15'\n",
    "    when hour(`ViolationTime`) between 16 and 20 then '16-20'\n",
    "    when hour(`ViolationTime`) between 21 and 23 then '21-23' END AS TIME\n",
    "    from parking_violation) temp\n",
    "group by `violation Code` ,TIME )\n",
    "where rn<=3'''\n",
    "\n",
    "spark.sql(query).show()"
   ]
  },
  {
   "cell_type": "code",
   "execution_count": 34,
   "metadata": {},
   "outputs": [
    {
     "name": "stderr",
     "output_type": "stream",
     "text": [
      "[Stage 131:===================================================>   (15 + 1) / 16]\r"
     ]
    },
    {
     "name": "stdout",
     "output_type": "stream",
     "text": [
      "+----------+\n",
      "|Issue Date|\n",
      "+----------+\n",
      "|09/21/2016|\n",
      "|07/07/2016|\n",
      "|03/16/2017|\n",
      "|10/17/2016|\n",
      "|12/28/2016|\n",
      "|05/17/2017|\n",
      "|12/08/2016|\n",
      "|09/22/2016|\n",
      "|02/01/2017|\n",
      "|01/26/2017|\n",
      "|03/29/2017|\n",
      "|09/07/2016|\n",
      "|01/05/2017|\n",
      "|07/25/2016|\n",
      "|04/11/2017|\n",
      "|03/02/2017|\n",
      "|12/11/2016|\n",
      "|01/19/2017|\n",
      "|05/13/2017|\n",
      "|05/27/2017|\n",
      "+----------+\n",
      "only showing top 20 rows\n",
      "\n"
     ]
    },
    {
     "name": "stderr",
     "output_type": "stream",
     "text": [
      "                                                                                \r"
     ]
    }
   ],
   "source": [
    "# Let’s try and find some seasonality in this data:\n",
    "#First, divide the year into a certain number of seasons, \n",
    "# and find the frequencies of tickets for each season. \n",
    "# (Hint: Use Issue Date to segregate into seasons.)\n",
    "\n",
    "# cnvert the issue date to date\n",
    "df.select('Issue Date').show()\n"
   ]
  },
  {
   "cell_type": "code",
   "execution_count": 35,
   "metadata": {},
   "outputs": [],
   "source": [
    "pattern= 'MM/dd/yyyy'\n",
    "df=df.withColumn('Issue Date', to_timestamp(df['Issue Date'], pattern))"
   ]
  },
  {
   "cell_type": "code",
   "execution_count": 36,
   "metadata": {},
   "outputs": [],
   "source": [
    "df=df.withColumn('Season', when (month(df['Issue Date']).isin(11,12,1,2),'winter').\\\n",
    "    when(month(df['Issue Date']).isin(3,4,5,6,),'summer').\\\n",
    "    when(month(df['Issue Date']).isin(7,8,9,10),'rainy'))"
   ]
  },
  {
   "cell_type": "code",
   "execution_count": 37,
   "metadata": {},
   "outputs": [
    {
     "name": "stderr",
     "output_type": "stream",
     "text": [
      "[Stage 136:=====================================================> (39 + 1) / 40]\r"
     ]
    },
    {
     "name": "stdout",
     "output_type": "stream",
     "text": [
      "+------+-------+\n",
      "|Season|  count|\n",
      "+------+-------+\n",
      "|summer|3984066|\n",
      "| rainy|3433735|\n",
      "|winter|3385157|\n",
      "+------+-------+\n",
      "\n"
     ]
    },
    {
     "name": "stderr",
     "output_type": "stream",
     "text": [
      "                                                                                \r"
     ]
    }
   ],
   "source": [
    "df.groupby('Season').count().orderBy('count', ascending=False).show()"
   ]
  },
  {
   "cell_type": "code",
   "execution_count": 38,
   "metadata": {},
   "outputs": [],
   "source": [
    "\n",
    "#Then, find the three most common violations for each of these seasons.\n",
    "#(Hint: You can use an approach similar to the one mentioned in the hint for question 4.)\n",
    "seasonal_violation=df.groupby('Season', 'violation Code').count()"
   ]
  },
  {
   "cell_type": "code",
   "execution_count": 39,
   "metadata": {},
   "outputs": [],
   "source": [
    "seasonal_violation1=seasonal_violation.select('Season', 'violation Code', row_number().over(Window.partitionBy('Season').orderBy('count')).alias('rn'))"
   ]
  },
  {
   "cell_type": "code",
   "execution_count": 40,
   "metadata": {},
   "outputs": [
    {
     "name": "stderr",
     "output_type": "stream",
     "text": [
      "[Stage 142:=====================================================> (39 + 1) / 40]\r"
     ]
    },
    {
     "name": "stdout",
     "output_type": "stream",
     "text": [
      "+------+--------------+---+\n",
      "|Season|violation Code| rn|\n",
      "+------+--------------+---+\n",
      "| rainy|            57|  1|\n",
      "| rainy|             0|  2|\n",
      "| rainy|            34|  3|\n",
      "|summer|            87|  1|\n",
      "|summer|            54|  2|\n",
      "|summer|            57|  3|\n",
      "|winter|            44|  1|\n",
      "|winter|            57|  2|\n",
      "|winter|            28|  3|\n",
      "+------+--------------+---+\n",
      "\n"
     ]
    },
    {
     "name": "stderr",
     "output_type": "stream",
     "text": [
      "                                                                                \r"
     ]
    }
   ],
   "source": [
    "seasonal_violation1.filter(seasonal_violation1['rn']<='3').show()"
   ]
  },
  {
   "cell_type": "code",
   "execution_count": 41,
   "metadata": {},
   "outputs": [],
   "source": [
    "#The fines collected from all the instances of parking violation constitute a source of revenue for the NYC Police Department. \n",
    "# Let’s take an example of estimating this for the three most commonly occurring codes:\n",
    "\n",
    "#Find the total occurrences of the three most common violation codes.\n",
    "\n",
    "df.createOrReplaceTempView('parking_violation')"
   ]
  },
  {
   "cell_type": "code",
   "execution_count": 42,
   "metadata": {},
   "outputs": [],
   "source": [
    "query= '''select `violation code`, \n",
    "            count(`violation code`) as counts \n",
    "            from parking_violation \n",
    "            group by `violation code` \n",
    "            order by count(`violation code`) desc\n",
    "            limit 3;'''\n",
    "\n",
    "most_violation=spark.sql(query)"
   ]
  },
  {
   "cell_type": "code",
   "execution_count": 43,
   "metadata": {},
   "outputs": [
    {
     "name": "stderr",
     "output_type": "stream",
     "text": [
      "[Stage 152:=====================================================> (39 + 1) / 40]\r"
     ]
    },
    {
     "name": "stdout",
     "output_type": "stream",
     "text": [
      "+--------------+-------+\n",
      "|violation code| counts|\n",
      "+--------------+-------+\n",
      "|            21|1528587|\n",
      "|            36|1400614|\n",
      "|            38|1062304|\n",
      "+--------------+-------+\n",
      "\n"
     ]
    },
    {
     "name": "stderr",
     "output_type": "stream",
     "text": [
      "                                                                                \r"
     ]
    }
   ],
   "source": [
    "most_violation.show()"
   ]
  },
  {
   "cell_type": "code",
   "execution_count": 44,
   "metadata": {},
   "outputs": [
    {
     "name": "stdout",
     "output_type": "stream",
     "text": [
      "+----+-----+--------+\n",
      "|code|metro|nonmetro|\n",
      "+----+-----+--------+\n",
      "|  21|   65|      65|\n",
      "|  36|   50|      50|\n",
      "|  38|   65|      35|\n",
      "+----+-----+--------+\n",
      "\n"
     ]
    }
   ],
   "source": [
    "#Then, visit the website: http://www1.nyc.gov/site/finance/vehicles/services-violation-codes.page\n",
    "\n",
    "#It lists the fines associated with different violation codes. \n",
    "# They’re divided into two categories: \n",
    "#   one for the highest-density locations in the city \n",
    "#   the other for the rest of the city. \n",
    "# \n",
    "# For the sake of simplicity, take the average of the two.\n",
    "\n",
    "finedata=[{'code':21, 'metro':65, 'nonmetro':65},\n",
    "{'code':36, 'metro':50, 'nonmetro':50},\n",
    "{'code':38, 'metro':65, 'nonmetro':35}]\n",
    "\n",
    "finedf= spark.createDataFrame(finedata)\n",
    "finedf.show()\n",
    "\n"
   ]
  },
  {
   "cell_type": "code",
   "execution_count": 45,
   "metadata": {},
   "outputs": [
    {
     "name": "stdout",
     "output_type": "stream",
     "text": [
      "+----+-----+--------+-----------+\n",
      "|code|metro|nonmetro|averagefine|\n",
      "+----+-----+--------+-----------+\n",
      "|  21|   65|      65|       65.0|\n",
      "|  36|   50|      50|       50.0|\n",
      "|  38|   65|      35|       50.0|\n",
      "+----+-----+--------+-----------+\n",
      "\n"
     ]
    }
   ],
   "source": [
    "finedf=finedf.withColumn('averagefine', (finedf['metro']+finedf['nonmetro'])/2)\n",
    "finedf.show()"
   ]
  },
  {
   "cell_type": "code",
   "execution_count": 46,
   "metadata": {},
   "outputs": [],
   "source": [
    "#Using this information, find the total amount collected for the three violation codes with the maximum tickets. \n",
    "# State the code that has the highest total collection.\n",
    "#\n",
    "# What can you intuitively infer from these findings?\n",
    "joined_table=most_violation.join(finedf, most_violation['violation code']==finedf['code']  , how= 'inner')"
   ]
  },
  {
   "cell_type": "code",
   "execution_count": 48,
   "metadata": {},
   "outputs": [
    {
     "name": "stderr",
     "output_type": "stream",
     "text": [
      "[Stage 167:=====================================================> (39 + 1) / 40]\r"
     ]
    },
    {
     "name": "stdout",
     "output_type": "stream",
     "text": [
      "+--------------+---------------+\n",
      "|violation code|fines collected|\n",
      "+--------------+---------------+\n",
      "|21            |9.9358155E7    |\n",
      "|36            |7.00307E7      |\n",
      "|38            |5.31152E7      |\n",
      "+--------------+---------------+\n",
      "\n"
     ]
    },
    {
     "name": "stderr",
     "output_type": "stream",
     "text": [
      "                                                                                \r"
     ]
    }
   ],
   "source": [
    "joined_table.select('violation code', (joined_table['counts']*joined_table['averagefine']).alias('fines collected')).orderBy('fines collected', ascending=False).show(truncate=False)"
   ]
  },
  {
   "cell_type": "markdown",
   "metadata": {},
   "source": [
    "Thus the top vilation code is \n",
    "\n",
    "- Code 21: Street Cleaning: No parking where parking is not allowed by sign, street marking or traffic control device.\n",
    "- Code 36: Exceeding the posted speed limit in or near a designated school zone.\n",
    "- Code 38: Failing to show a receipt or tag in the windshield."
   ]
  },
  {
   "cell_type": "code",
   "execution_count": null,
   "metadata": {},
   "outputs": [],
   "source": []
  },
  {
   "cell_type": "code",
   "execution_count": null,
   "metadata": {},
   "outputs": [],
   "source": []
  }
 ],
 "metadata": {
  "kernelspec": {
   "display_name": "Python 3.9.13 64-bit",
   "language": "python",
   "name": "python3"
  },
  "language_info": {
   "codemirror_mode": {
    "name": "ipython",
    "version": 3
   },
   "file_extension": ".py",
   "mimetype": "text/x-python",
   "name": "python",
   "nbconvert_exporter": "python",
   "pygments_lexer": "ipython3",
   "version": "3.9.13"
  },
  "orig_nbformat": 4,
  "vscode": {
   "interpreter": {
    "hash": "b0fa6594d8f4cbf19f97940f81e996739fb7646882a419484c72d19e05852a7e"
   }
  }
 },
 "nbformat": 4,
 "nbformat_minor": 2
}
