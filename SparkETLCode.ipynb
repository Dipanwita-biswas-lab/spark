{
 "cells": [
  {
   "cell_type": "code",
   "execution_count": 144,
   "id": "e43165d6",
   "metadata": {},
   "outputs": [
    {
     "data": {
      "application/vnd.jupyter.widget-view+json": {
       "model_id": "2758e5b24f674f2db69b931685b64446",
       "version_major": 2,
       "version_minor": 0
      },
      "text/plain": [
       "VBox()"
      ]
     },
     "metadata": {},
     "output_type": "display_data"
    },
    {
     "data": {
      "application/vnd.jupyter.widget-view+json": {
       "model_id": "",
       "version_major": 2,
       "version_minor": 0
      },
      "text/plain": [
       "FloatProgress(value=0.0, bar_style='info', description='Progress:', layout=Layout(height='25px', width='50%'),…"
      ]
     },
     "metadata": {},
     "output_type": "display_data"
    },
    {
     "name": "stdout",
     "output_type": "stream",
     "text": [
      "<pyspark.sql.session.SparkSession object at 0x7fd8d0d47bd0>"
     ]
    }
   ],
   "source": [
    "#Create Spark Context\n",
    "spark"
   ]
  },
  {
   "cell_type": "code",
   "execution_count": 145,
   "id": "1cf8fbe9",
   "metadata": {},
   "outputs": [
    {
     "data": {
      "application/vnd.jupyter.widget-view+json": {
       "model_id": "166ebc7faaea4ca780ea8afd20c80223",
       "version_major": 2,
       "version_minor": 0
      },
      "text/plain": [
       "VBox()"
      ]
     },
     "metadata": {},
     "output_type": "display_data"
    },
    {
     "data": {
      "application/vnd.jupyter.widget-view+json": {
       "model_id": "",
       "version_major": 2,
       "version_minor": 0
      },
      "text/plain": [
       "FloatProgress(value=0.0, bar_style='info', description='Progress:', layout=Layout(height='25px', width='50%'),…"
      ]
     },
     "metadata": {},
     "output_type": "display_data"
    }
   ],
   "source": [
    "# import necessary libraries\n",
    "from pyspark.sql.types import *\n",
    "from pyspark.sql.window import Window\n",
    "import pyspark.sql.functions as f\n",
    "from pyspark.sql.functions import *"
   ]
  },
  {
   "cell_type": "markdown",
   "id": "0186748f",
   "metadata": {},
   "source": [
    "## Reading the data from files in HDFS\n",
    "\n",
    "### Create input schema using StructType"
   ]
  },
  {
   "cell_type": "code",
   "execution_count": 146,
   "id": "95509506",
   "metadata": {},
   "outputs": [
    {
     "data": {
      "application/vnd.jupyter.widget-view+json": {
       "model_id": "e2871ed90cae4b34a16dc59b45ab02f7",
       "version_major": 2,
       "version_minor": 0
      },
      "text/plain": [
       "VBox()"
      ]
     },
     "metadata": {},
     "output_type": "display_data"
    },
    {
     "data": {
      "application/vnd.jupyter.widget-view+json": {
       "model_id": "",
       "version_major": 2,
       "version_minor": 0
      },
      "text/plain": [
       "FloatProgress(value=0.0, bar_style='info', description='Progress:', layout=Layout(height='25px', width='50%'),…"
      ]
     },
     "metadata": {},
     "output_type": "display_data"
    }
   ],
   "source": [
    "fileSchema = StructType([StructField('year', IntegerType(),True),\n",
    "StructField('month', StringType(),True),\n",
    "StructField('day', IntegerType(),True),\n",
    "StructField('weekday', StringType(),True),\n",
    "StructField('hour', IntegerType(),True),\n",
    "StructField('atm_status', StringType(),True),\n",
    "StructField('atm_id', StringType(),True),\n",
    "StructField('atm_manufacturer',  StringType(),True),\n",
    "StructField('atm_location', StringType(),True),\n",
    "StructField('atm_streetname', StringType(),True),\n",
    "StructField('atm_street_number', IntegerType(),True),\n",
    "StructField('atm_zipcode', IntegerType(),True),\n",
    "StructField('atm_lat', DoubleType(), True),\n",
    "StructField('atm_lon', DoubleType(), True),\n",
    "StructField('currency', StringType(),True),\n",
    "StructField('card_type', StringType(),True),\n",
    "StructField('transaction_amount', IntegerType(),True),\n",
    "StructField('service', StringType(),True),\n",
    "StructField('message_code', StringType(),True),\n",
    "StructField('message_text', StringType(),True),\n",
    "StructField('weather_lat', DoubleType(), True),\n",
    "StructField('weather_lon', DoubleType(), True),\n",
    "StructField('weather_city_id', IntegerType(),True),\n",
    "StructField('weather_city_name', StringType(),True),\n",
    "StructField('temp', DoubleType(), True),\n",
    "StructField('pressure', IntegerType(),True),\n",
    "StructField('humidity', IntegerType(),True),\n",
    "StructField('wind_speed', IntegerType(),True),\n",
    "StructField('wind_deg', IntegerType(),True),\n",
    "StructField('rain_3h', DoubleType(), True),\n",
    "StructField('clouds_all', IntegerType(),True),\n",
    "StructField('weather_id', IntegerType(),True),\n",
    "StructField('weather_main', StringType(),True),\n",
    "StructField('weather_description', StringType(),True)])\n"
   ]
  },
  {
   "cell_type": "markdown",
   "id": "0bec452c",
   "metadata": {},
   "source": [
    "### Read the data using the input schema created"
   ]
  },
  {
   "cell_type": "code",
   "execution_count": 147,
   "id": "513a739d",
   "metadata": {},
   "outputs": [
    {
     "data": {
      "application/vnd.jupyter.widget-view+json": {
       "model_id": "97cebd5c06064943aa3966f471348f39",
       "version_major": 2,
       "version_minor": 0
      },
      "text/plain": [
       "VBox()"
      ]
     },
     "metadata": {},
     "output_type": "display_data"
    },
    {
     "data": {
      "application/vnd.jupyter.widget-view+json": {
       "model_id": "",
       "version_major": 2,
       "version_minor": 0
      },
      "text/plain": [
       "FloatProgress(value=0.0, bar_style='info', description='Progress:', layout=Layout(height='25px', width='50%'),…"
      ]
     },
     "metadata": {},
     "output_type": "display_data"
    }
   ],
   "source": [
    "df= spark.read.load('hdfs://ip-172-31-28-221.ap-northeast-1.compute.internal:8020/user/livy/data/part-m-00000',format='csv',  schema=fileSchema)"
   ]
  },
  {
   "cell_type": "code",
   "execution_count": 109,
   "id": "a19d7dea",
   "metadata": {},
   "outputs": [
    {
     "data": {
      "application/vnd.jupyter.widget-view+json": {
       "model_id": "44d899aaec594323812a5f0235f0113e",
       "version_major": 2,
       "version_minor": 0
      },
      "text/plain": [
       "VBox()"
      ]
     },
     "metadata": {},
     "output_type": "display_data"
    },
    {
     "data": {
      "application/vnd.jupyter.widget-view+json": {
       "model_id": "",
       "version_major": 2,
       "version_minor": 0
      },
      "text/plain": [
       "FloatProgress(value=0.0, bar_style='info', description='Progress:', layout=Layout(height='25px', width='50%'),…"
      ]
     },
     "metadata": {},
     "output_type": "display_data"
    },
    {
     "name": "stdout",
     "output_type": "stream",
     "text": [
      "root\n",
      " |-- year: integer (nullable = true)\n",
      " |-- month: string (nullable = true)\n",
      " |-- day: integer (nullable = true)\n",
      " |-- weekday: string (nullable = true)\n",
      " |-- hour: integer (nullable = true)\n",
      " |-- atm_status: string (nullable = true)\n",
      " |-- atm_id: string (nullable = true)\n",
      " |-- atm_manufacturer: string (nullable = true)\n",
      " |-- atm_location: string (nullable = true)\n",
      " |-- atm_streetname: string (nullable = true)\n",
      " |-- atm_street_number: integer (nullable = true)\n",
      " |-- atm_zipcode: integer (nullable = true)\n",
      " |-- atm_lat: double (nullable = true)\n",
      " |-- atm_lon: double (nullable = true)\n",
      " |-- currency: string (nullable = true)\n",
      " |-- card_type: string (nullable = true)\n",
      " |-- transaction_amount: integer (nullable = true)\n",
      " |-- service: string (nullable = true)\n",
      " |-- message_code: string (nullable = true)\n",
      " |-- message_text: string (nullable = true)\n",
      " |-- weather_lat: double (nullable = true)\n",
      " |-- weather_lon: double (nullable = true)\n",
      " |-- weather_city_id: integer (nullable = true)\n",
      " |-- weather_city_name: string (nullable = true)\n",
      " |-- temp: double (nullable = true)\n",
      " |-- pressure: integer (nullable = true)\n",
      " |-- humidity: integer (nullable = true)\n",
      " |-- wind_speed: integer (nullable = true)\n",
      " |-- wind_deg: integer (nullable = true)\n",
      " |-- rain_3h: double (nullable = true)\n",
      " |-- clouds_all: integer (nullable = true)\n",
      " |-- weather_id: integer (nullable = true)\n",
      " |-- weather_main: string (nullable = true)\n",
      " |-- weather_description: string (nullable = true)"
     ]
    }
   ],
   "source": [
    "# print the schema\n",
    "df.printSchema()"
   ]
  },
  {
   "cell_type": "markdown",
   "id": "31b36ffa",
   "metadata": {},
   "source": [
    "### verifying the data using count function"
   ]
  },
  {
   "cell_type": "code",
   "execution_count": 148,
   "id": "84b9e6a7",
   "metadata": {
    "scrolled": true
   },
   "outputs": [
    {
     "data": {
      "application/vnd.jupyter.widget-view+json": {
       "model_id": "7dfbfa82016f40d2a511d6a8b4742e9d",
       "version_major": 2,
       "version_minor": 0
      },
      "text/plain": [
       "VBox()"
      ]
     },
     "metadata": {},
     "output_type": "display_data"
    },
    {
     "data": {
      "application/vnd.jupyter.widget-view+json": {
       "model_id": "",
       "version_major": 2,
       "version_minor": 0
      },
      "text/plain": [
       "FloatProgress(value=0.0, bar_style='info', description='Progress:', layout=Layout(height='25px', width='50%'),…"
      ]
     },
     "metadata": {},
     "output_type": "display_data"
    },
    {
     "name": "stdout",
     "output_type": "stream",
     "text": [
      "2468572"
     ]
    }
   ],
   "source": [
    "df.count()"
   ]
  },
  {
   "cell_type": "markdown",
   "id": "7b8ceb70",
   "metadata": {},
   "source": [
    "## Creation of Dimension tables(20%)\n",
    "\n",
    "1. Location_DIM\n",
    "2. DIM_CARD_TYPE\n",
    "3. DIM_ATM\n",
    "4. Date_DIM"
   ]
  },
  {
   "cell_type": "code",
   "execution_count": 149,
   "id": "a698c698",
   "metadata": {},
   "outputs": [
    {
     "data": {
      "application/vnd.jupyter.widget-view+json": {
       "model_id": "28cfde742db041369eb97bd7b08bf106",
       "version_major": 2,
       "version_minor": 0
      },
      "text/plain": [
       "VBox()"
      ]
     },
     "metadata": {},
     "output_type": "display_data"
    },
    {
     "data": {
      "application/vnd.jupyter.widget-view+json": {
       "model_id": "",
       "version_major": 2,
       "version_minor": 0
      },
      "text/plain": [
       "FloatProgress(value=0.0, bar_style='info', description='Progress:', layout=Layout(height='25px', width='50%'),…"
      ]
     },
     "metadata": {},
     "output_type": "display_data"
    }
   ],
   "source": [
    "# Create Location_DIM\n",
    "df_location= df.select (['atm_location', 'atm_streetname', 'atm_street_number', 'atm_zipcode', 'atm_lat', 'atm_lon']).distinct()"
   ]
  },
  {
   "cell_type": "code",
   "execution_count": 154,
   "id": "d6b20715",
   "metadata": {},
   "outputs": [
    {
     "data": {
      "application/vnd.jupyter.widget-view+json": {
       "model_id": "776d51e3f03c4c5b80cbf3602509dc38",
       "version_major": 2,
       "version_minor": 0
      },
      "text/plain": [
       "VBox()"
      ]
     },
     "metadata": {},
     "output_type": "display_data"
    },
    {
     "data": {
      "application/vnd.jupyter.widget-view+json": {
       "model_id": "",
       "version_major": 2,
       "version_minor": 0
      },
      "text/plain": [
       "FloatProgress(value=0.0, bar_style='info', description='Progress:', layout=Layout(height='25px', width='50%'),…"
      ]
     },
     "metadata": {},
     "output_type": "display_data"
    },
    {
     "name": "stdout",
     "output_type": "stream",
     "text": [
      "109"
     ]
    }
   ],
   "source": [
    "# df_location.count()-109\n",
    "# df.select('atm_location').distinct().count()-106\n",
    "#df.select('atm_location','atm_streetname').distinct().count() -109"
   ]
  },
  {
   "cell_type": "code",
   "execution_count": 155,
   "id": "e9cf2d20",
   "metadata": {},
   "outputs": [
    {
     "data": {
      "application/vnd.jupyter.widget-view+json": {
       "model_id": "2bef113f329147aeb3769405caff8b7c",
       "version_major": 2,
       "version_minor": 0
      },
      "text/plain": [
       "VBox()"
      ]
     },
     "metadata": {},
     "output_type": "display_data"
    },
    {
     "data": {
      "application/vnd.jupyter.widget-view+json": {
       "model_id": "",
       "version_major": 2,
       "version_minor": 0
      },
      "text/plain": [
       "FloatProgress(value=0.0, bar_style='info', description='Progress:', layout=Layout(height='25px', width='50%'),…"
      ]
     },
     "metadata": {},
     "output_type": "display_data"
    }
   ],
   "source": [
    "#create primarykey Location_id\n",
    "windowSpec = Window.orderBy(\"atm_location\")\n",
    "df_location=df_location.withColumn(\"location_id\",f.row_number().over(windowSpec))"
   ]
  },
  {
   "cell_type": "code",
   "execution_count": 156,
   "id": "85624bc8",
   "metadata": {},
   "outputs": [
    {
     "data": {
      "application/vnd.jupyter.widget-view+json": {
       "model_id": "f06c9cb9d6fb42588ffdaf8b55f9ea7c",
       "version_major": 2,
       "version_minor": 0
      },
      "text/plain": [
       "VBox()"
      ]
     },
     "metadata": {},
     "output_type": "display_data"
    },
    {
     "data": {
      "application/vnd.jupyter.widget-view+json": {
       "model_id": "",
       "version_major": 2,
       "version_minor": 0
      },
      "text/plain": [
       "FloatProgress(value=0.0, bar_style='info', description='Progress:', layout=Layout(height='25px', width='50%'),…"
      ]
     },
     "metadata": {},
     "output_type": "display_data"
    },
    {
     "name": "stdout",
     "output_type": "stream",
     "text": [
      "+-----------+--------------------+------------------+-----------------+-----------+-------+-------+\n",
      "|location_id|        atm_location|    atm_streetname|atm_street_number|atm_zipcode|atm_lat|atm_lon|\n",
      "+-----------+--------------------+------------------+-----------------+-----------+-------+-------+\n",
      "|          1|             Aabybro|      ÃƒËœstergade|                6|       9440| 57.162|   9.73|\n",
      "|          2|      Aalborg Hallen|      Europa Plads|                4|       9000| 57.044|  9.913|\n",
      "|          3|Aalborg Storcente...|          Hobrovej|              452|       9200| 57.005|  9.876|\n",
      "|          4|Aalborg Storcente...|          Hobrovej|              452|       9200| 57.005|  9.876|\n",
      "|          5|         Aalborg Syd|          Hobrovej|              440|       9200| 57.005|  9.881|\n",
      "|          6|           AalbÃƒÂ¦k|        Centralvej|                5|       9982| 57.593| 10.412|\n",
      "|          7|              Aarhus|    SÃƒÂ¸nder Alle|               11|       8000| 56.153| 10.206|\n",
      "|          8|              Aarhus|        Ceres Byen|               75|       8000| 56.157| 10.194|\n",
      "|          9|     Aarhus Lufthavn|   Ny Lufthavnsvej|               24|       8560| 56.308| 10.627|\n",
      "|         10|                Aars|   Himmerlandsgade|               70|       9600| 56.803|  9.518|\n",
      "|         11|          Abildgaard|    HjÃƒÂ¸rringvej|              144|       9900| 57.447| 10.506|\n",
      "|         12|               Arden|        Vestergade|                6|       9510| 56.769|  9.859|\n",
      "|         13|            Bindslev|       NÃƒÂ¸rrebro|               18|       9881| 57.541|   10.2|\n",
      "|         14|         Bispensgade|       Bispensgade|               35|       9800| 57.453|  9.996|\n",
      "|         15|         Brugsen ANS|SÃƒÂ¸ndermarksgade|               14|       8643| 56.306|  9.594|\n",
      "|         16|     Brugsen i Breum|     AakjÃƒÂ¦rsvej|                1|       7870| 56.688|  9.069|\n",
      "|         17|      Bryggen  Vejle|  SÃƒÂ¸nderbrogade|                2|       7100| 55.705|  9.532|\n",
      "|         18|      BrÃƒÂ¸nderslev|            Algade|                4|       9700| 57.269|  9.945|\n",
      "|         19|    DAYZ Feriecenter|        LivÃƒÂ¸vej|               80|       9681| 56.893|  9.171|\n",
      "|         20|Daglig Brugsen Ãƒ...|         Kystvejen|               51|       9560| 56.804| 10.271|\n",
      "+-----------+--------------------+------------------+-----------------+-----------+-------+-------+\n",
      "only showing top 20 rows"
     ]
    }
   ],
   "source": [
    "# reordering the columns\n",
    "df_location= df_location.select('location_id', 'atm_location', 'atm_streetname','atm_street_number','atm_zipcode','atm_lat','atm_lon')\n",
    "df_location.show()                       "
   ]
  },
  {
   "cell_type": "code",
   "execution_count": 157,
   "id": "c27e6a41",
   "metadata": {},
   "outputs": [
    {
     "data": {
      "application/vnd.jupyter.widget-view+json": {
       "model_id": "6049b315b21144f4b48082d393dfc938",
       "version_major": 2,
       "version_minor": 0
      },
      "text/plain": [
       "VBox()"
      ]
     },
     "metadata": {},
     "output_type": "display_data"
    },
    {
     "data": {
      "application/vnd.jupyter.widget-view+json": {
       "model_id": "",
       "version_major": 2,
       "version_minor": 0
      },
      "text/plain": [
       "FloatProgress(value=0.0, bar_style='info', description='Progress:', layout=Layout(height='25px', width='50%'),…"
      ]
     },
     "metadata": {},
     "output_type": "display_data"
    }
   ],
   "source": [
    "#Create  DIM_CARD_TYPE\n",
    "df_card_type= df.select('card_type').distinct()\n",
    "\n",
    "# Create the primary key\n",
    "windowcard = Window.orderBy(\"card_type\")\n",
    "df_card_type=df_card_type.withColumn(\"card_type_id\",f.row_number().over(windowcard))"
   ]
  },
  {
   "cell_type": "code",
   "execution_count": 158,
   "id": "66dd8828",
   "metadata": {},
   "outputs": [
    {
     "data": {
      "application/vnd.jupyter.widget-view+json": {
       "model_id": "0bf46b627115438ab12a0ca3c3d3624f",
       "version_major": 2,
       "version_minor": 0
      },
      "text/plain": [
       "VBox()"
      ]
     },
     "metadata": {},
     "output_type": "display_data"
    },
    {
     "data": {
      "application/vnd.jupyter.widget-view+json": {
       "model_id": "",
       "version_major": 2,
       "version_minor": 0
      },
      "text/plain": [
       "FloatProgress(value=0.0, bar_style='info', description='Progress:', layout=Layout(height='25px', width='50%'),…"
      ]
     },
     "metadata": {},
     "output_type": "display_data"
    },
    {
     "name": "stdout",
     "output_type": "stream",
     "text": [
      "+------------+--------------------+\n",
      "|card_type_id|           card_type|\n",
      "+------------+--------------------+\n",
      "|           1|              CIRRUS|\n",
      "|           2|             Dankort|\n",
      "|           3|     Dankort - on-us|\n",
      "|           4|         HÃƒÂ¦vekort|\n",
      "|           5| HÃƒÂ¦vekort - on-us|\n",
      "|           6|             Maestro|\n",
      "|           7|          MasterCard|\n",
      "|           8|  Mastercard - on-us|\n",
      "|           9|                VISA|\n",
      "|          10|        Visa Dankort|\n",
      "|          11|Visa Dankort - on-us|\n",
      "|          12|            VisaPlus|\n",
      "+------------+--------------------+"
     ]
    }
   ],
   "source": [
    "#rearranging clumns\n",
    "df_card_type=df_card_type.select('card_type_id','card_type')\n",
    "df_card_type.show()"
   ]
  },
  {
   "cell_type": "code",
   "execution_count": 159,
   "id": "6b33eb32",
   "metadata": {},
   "outputs": [
    {
     "data": {
      "application/vnd.jupyter.widget-view+json": {
       "model_id": "066b514dc9e04727905f35d766a37db1",
       "version_major": 2,
       "version_minor": 0
      },
      "text/plain": [
       "VBox()"
      ]
     },
     "metadata": {},
     "output_type": "display_data"
    },
    {
     "data": {
      "application/vnd.jupyter.widget-view+json": {
       "model_id": "",
       "version_major": 2,
       "version_minor": 0
      },
      "text/plain": [
       "FloatProgress(value=0.0, bar_style='info', description='Progress:', layout=Layout(height='25px', width='50%'),…"
      ]
     },
     "metadata": {},
     "output_type": "display_data"
    }
   ],
   "source": [
    "# create DIM_ATM\n",
    "df_atm= df.select('atm_id', 'atm_manufacturer','atm_location', 'atm_streetname').distinct()"
   ]
  },
  {
   "cell_type": "code",
   "execution_count": 160,
   "id": "adc5034d",
   "metadata": {
    "scrolled": true
   },
   "outputs": [
    {
     "data": {
      "application/vnd.jupyter.widget-view+json": {
       "model_id": "cf254d63c61f41c1b070d683170b7479",
       "version_major": 2,
       "version_minor": 0
      },
      "text/plain": [
       "VBox()"
      ]
     },
     "metadata": {},
     "output_type": "display_data"
    },
    {
     "data": {
      "application/vnd.jupyter.widget-view+json": {
       "model_id": "",
       "version_major": 2,
       "version_minor": 0
      },
      "text/plain": [
       "FloatProgress(value=0.0, bar_style='info', description='Progress:', layout=Layout(height='25px', width='50%'),…"
      ]
     },
     "metadata": {},
     "output_type": "display_data"
    }
   ],
   "source": [
    "# As  Atm_number corresponds to the ATM_ID in the fact table we will rename the column\n",
    "df_atm=df_atm.withColumnRenamed(\"atm_id\",\"atm_number\")"
   ]
  },
  {
   "cell_type": "code",
   "execution_count": 161,
   "id": "c145e07b",
   "metadata": {},
   "outputs": [
    {
     "data": {
      "application/vnd.jupyter.widget-view+json": {
       "model_id": "cceae11a04e645308378b4172ff1fceb",
       "version_major": 2,
       "version_minor": 0
      },
      "text/plain": [
       "VBox()"
      ]
     },
     "metadata": {},
     "output_type": "display_data"
    },
    {
     "data": {
      "application/vnd.jupyter.widget-view+json": {
       "model_id": "",
       "version_major": 2,
       "version_minor": 0
      },
      "text/plain": [
       "FloatProgress(value=0.0, bar_style='info', description='Progress:', layout=Layout(height='25px', width='50%'),…"
      ]
     },
     "metadata": {},
     "output_type": "display_data"
    }
   ],
   "source": [
    "# join the location_DIm with ATM_Im to get the locaion_ID\n",
    "df_atm=df_atm.join(df_location, [df_atm.atm_location==df_location.atm_location ,\\\n",
    "                                 df_atm.atm_streetname==df_location.atm_streetname]\\\n",
    "                   ,'inner')"
   ]
  },
  {
   "cell_type": "code",
   "execution_count": 162,
   "id": "25b25022",
   "metadata": {},
   "outputs": [
    {
     "data": {
      "application/vnd.jupyter.widget-view+json": {
       "model_id": "1ccb8151732144d1b24a78d91813cb0d",
       "version_major": 2,
       "version_minor": 0
      },
      "text/plain": [
       "VBox()"
      ]
     },
     "metadata": {},
     "output_type": "display_data"
    },
    {
     "data": {
      "application/vnd.jupyter.widget-view+json": {
       "model_id": "",
       "version_major": 2,
       "version_minor": 0
      },
      "text/plain": [
       "FloatProgress(value=0.0, bar_style='info', description='Progress:', layout=Layout(height='25px', width='50%'),…"
      ]
     },
     "metadata": {},
     "output_type": "display_data"
    }
   ],
   "source": [
    "windowatm = Window.orderBy(\"atm_number\")\n",
    "df_atm=df_atm.withColumn(\"atm_id_dim\",f.row_number().over(windowatm))"
   ]
  },
  {
   "cell_type": "code",
   "execution_count": 163,
   "id": "f87cfc85",
   "metadata": {},
   "outputs": [
    {
     "data": {
      "application/vnd.jupyter.widget-view+json": {
       "model_id": "17e96cfe9c3b409982d2677f4a19d659",
       "version_major": 2,
       "version_minor": 0
      },
      "text/plain": [
       "VBox()"
      ]
     },
     "metadata": {},
     "output_type": "display_data"
    },
    {
     "data": {
      "application/vnd.jupyter.widget-view+json": {
       "model_id": "",
       "version_major": 2,
       "version_minor": 0
      },
      "text/plain": [
       "FloatProgress(value=0.0, bar_style='info', description='Progress:', layout=Layout(height='25px', width='50%'),…"
      ]
     },
     "metadata": {},
     "output_type": "display_data"
    },
    {
     "name": "stdout",
     "output_type": "stream",
     "text": [
      "+----------+----------+----------------+-----------+\n",
      "|atm_id_dim|atm_number|atm_manufacturer|location_id|\n",
      "+----------+----------+----------------+-----------+\n",
      "|         1|         1|             NCR|         74|\n",
      "|         2|        10|             NCR|         76|\n",
      "|         3|       100|             NCR|         56|\n",
      "|         4|       101|             NCR|         17|\n",
      "|         5|       102|             NCR|          3|\n",
      "|         6|       103| Diebold Nixdorf|        103|\n",
      "|         7|       104|             NCR|         58|\n",
      "|         8|       105| Diebold Nixdorf|         76|\n",
      "|         9|       106|             NCR|         55|\n",
      "|        10|       107| Diebold Nixdorf|         62|\n",
      "|        11|       108|             NCR|         47|\n",
      "|        12|       109| Diebold Nixdorf|          5|\n",
      "|        13|        11|             NCR|         80|\n",
      "|        14|       110| Diebold Nixdorf|         41|\n",
      "|        15|       111| Diebold Nixdorf|          8|\n",
      "|        16|       112| Diebold Nixdorf|         75|\n",
      "|        17|       113| Diebold Nixdorf|         88|\n",
      "|        18|        12|             NCR|        108|\n",
      "|        19|        13|             NCR|         97|\n",
      "|        20|        14|             NCR|         46|\n",
      "+----------+----------+----------------+-----------+\n",
      "only showing top 20 rows"
     ]
    }
   ],
   "source": [
    "df_atm=df_atm.select('atm_id_dim', 'atm_number','atm_manufacturer', 'location_id')\n",
    "df_atm.show()"
   ]
  },
  {
   "cell_type": "code",
   "execution_count": 165,
   "id": "6ca19d2e",
   "metadata": {},
   "outputs": [
    {
     "data": {
      "application/vnd.jupyter.widget-view+json": {
       "model_id": "c6bc980e6f714b5587eabf111133ba82",
       "version_major": 2,
       "version_minor": 0
      },
      "text/plain": [
       "VBox()"
      ]
     },
     "metadata": {},
     "output_type": "display_data"
    },
    {
     "data": {
      "application/vnd.jupyter.widget-view+json": {
       "model_id": "",
       "version_major": 2,
       "version_minor": 0
      },
      "text/plain": [
       "FloatProgress(value=0.0, bar_style='info', description='Progress:', layout=Layout(height='25px', width='50%'),…"
      ]
     },
     "metadata": {},
     "output_type": "display_data"
    },
    {
     "name": "stdout",
     "output_type": "stream",
     "text": [
      "113"
     ]
    }
   ],
   "source": [
    "#df.select('atm_id').distinct().count() -113\n",
    "# df_atm.count()-113"
   ]
  },
  {
   "cell_type": "code",
   "execution_count": 166,
   "id": "daa1567a",
   "metadata": {},
   "outputs": [
    {
     "data": {
      "application/vnd.jupyter.widget-view+json": {
       "model_id": "70a75c5c8b1b40a6b7a798c69481f065",
       "version_major": 2,
       "version_minor": 0
      },
      "text/plain": [
       "VBox()"
      ]
     },
     "metadata": {},
     "output_type": "display_data"
    },
    {
     "data": {
      "application/vnd.jupyter.widget-view+json": {
       "model_id": "",
       "version_major": 2,
       "version_minor": 0
      },
      "text/plain": [
       "FloatProgress(value=0.0, bar_style='info', description='Progress:', layout=Layout(height='25px', width='50%'),…"
      ]
     },
     "metadata": {},
     "output_type": "display_data"
    }
   ],
   "source": [
    "# Create anew column for converting month to month number\n",
    "df=df.withColumn(\"mon\", from_unixtime(unix_timestamp(col(\"month\"), 'MMM'),'MM') )"
   ]
  },
  {
   "cell_type": "code",
   "execution_count": 167,
   "id": "b9aa3343",
   "metadata": {
    "scrolled": true
   },
   "outputs": [
    {
     "data": {
      "application/vnd.jupyter.widget-view+json": {
       "model_id": "7d5d0dfce4404e5f8247de206786eedf",
       "version_major": 2,
       "version_minor": 0
      },
      "text/plain": [
       "VBox()"
      ]
     },
     "metadata": {},
     "output_type": "display_data"
    },
    {
     "data": {
      "application/vnd.jupyter.widget-view+json": {
       "model_id": "",
       "version_major": 2,
       "version_minor": 0
      },
      "text/plain": [
       "FloatProgress(value=0.0, bar_style='info', description='Progress:', layout=Layout(height='25px', width='50%'),…"
      ]
     },
     "metadata": {},
     "output_type": "display_data"
    }
   ],
   "source": [
    "# create a full date with yyyy-mm-dd hh:00:00 as as the monute and second values are not available\n",
    "df=df.withColumn(\"full_date_time\", f.to_timestamp(f.concat_ws(\" \",f.concat_ws(\"-\", \"year\", \"mon\", \"day\" ), \"hour\")))"
   ]
  },
  {
   "cell_type": "code",
   "execution_count": 168,
   "id": "deb4562c",
   "metadata": {},
   "outputs": [
    {
     "data": {
      "application/vnd.jupyter.widget-view+json": {
       "model_id": "ab058f9717f344b9b1e094b4dc538d70",
       "version_major": 2,
       "version_minor": 0
      },
      "text/plain": [
       "VBox()"
      ]
     },
     "metadata": {},
     "output_type": "display_data"
    },
    {
     "data": {
      "application/vnd.jupyter.widget-view+json": {
       "model_id": "",
       "version_major": 2,
       "version_minor": 0
      },
      "text/plain": [
       "FloatProgress(value=0.0, bar_style='info', description='Progress:', layout=Layout(height='25px', width='50%'),…"
      ]
     },
     "metadata": {},
     "output_type": "display_data"
    }
   ],
   "source": [
    "# Create Date_DIM\n",
    "df_date= df.select('full_date_time','year', 'month', 'day','hour', 'weekday' ).distinct()"
   ]
  },
  {
   "cell_type": "code",
   "execution_count": 169,
   "id": "204dd2cc",
   "metadata": {},
   "outputs": [
    {
     "data": {
      "application/vnd.jupyter.widget-view+json": {
       "model_id": "91c081f712d9436d9e7dd09e1c22859d",
       "version_major": 2,
       "version_minor": 0
      },
      "text/plain": [
       "VBox()"
      ]
     },
     "metadata": {},
     "output_type": "display_data"
    },
    {
     "data": {
      "application/vnd.jupyter.widget-view+json": {
       "model_id": "",
       "version_major": 2,
       "version_minor": 0
      },
      "text/plain": [
       "FloatProgress(value=0.0, bar_style='info', description='Progress:', layout=Layout(height='25px', width='50%'),…"
      ]
     },
     "metadata": {},
     "output_type": "display_data"
    }
   ],
   "source": [
    "windowdate = Window.orderBy(\"full_date_time\")\n",
    "df_date=df_date.withColumn(\"date_id\",f.row_number().over(windowdate))"
   ]
  },
  {
   "cell_type": "code",
   "execution_count": 170,
   "id": "dcd03ccd",
   "metadata": {},
   "outputs": [
    {
     "data": {
      "application/vnd.jupyter.widget-view+json": {
       "model_id": "0474207636bc428ebdee59089874b3c3",
       "version_major": 2,
       "version_minor": 0
      },
      "text/plain": [
       "VBox()"
      ]
     },
     "metadata": {},
     "output_type": "display_data"
    },
    {
     "data": {
      "application/vnd.jupyter.widget-view+json": {
       "model_id": "",
       "version_major": 2,
       "version_minor": 0
      },
      "text/plain": [
       "FloatProgress(value=0.0, bar_style='info', description='Progress:', layout=Layout(height='25px', width='50%'),…"
      ]
     },
     "metadata": {},
     "output_type": "display_data"
    }
   ],
   "source": [
    "df_date=df_date.select('date_id', 'full_date_time','year', 'month','day','hour','weekday')"
   ]
  },
  {
   "cell_type": "code",
   "execution_count": 171,
   "id": "f6005bcd",
   "metadata": {
    "scrolled": true
   },
   "outputs": [
    {
     "data": {
      "application/vnd.jupyter.widget-view+json": {
       "model_id": "ba9cc785815540769b86e621244f04b8",
       "version_major": 2,
       "version_minor": 0
      },
      "text/plain": [
       "VBox()"
      ]
     },
     "metadata": {},
     "output_type": "display_data"
    },
    {
     "data": {
      "application/vnd.jupyter.widget-view+json": {
       "model_id": "",
       "version_major": 2,
       "version_minor": 0
      },
      "text/plain": [
       "FloatProgress(value=0.0, bar_style='info', description='Progress:', layout=Layout(height='25px', width='50%'),…"
      ]
     },
     "metadata": {},
     "output_type": "display_data"
    },
    {
     "name": "stdout",
     "output_type": "stream",
     "text": [
      "+-------+-------------------+----+-------+---+----+-------+\n",
      "|date_id|     full_date_time|year|  month|day|hour|weekday|\n",
      "+-------+-------------------+----+-------+---+----+-------+\n",
      "|      1|2017-01-01 00:00:00|2017|January|  1|   0| Sunday|\n",
      "|      2|2017-01-01 01:00:00|2017|January|  1|   1| Sunday|\n",
      "|      3|2017-01-01 02:00:00|2017|January|  1|   2| Sunday|\n",
      "|      4|2017-01-01 03:00:00|2017|January|  1|   3| Sunday|\n",
      "|      5|2017-01-01 04:00:00|2017|January|  1|   4| Sunday|\n",
      "|      6|2017-01-01 05:00:00|2017|January|  1|   5| Sunday|\n",
      "|      7|2017-01-01 06:00:00|2017|January|  1|   6| Sunday|\n",
      "|      8|2017-01-01 07:00:00|2017|January|  1|   7| Sunday|\n",
      "|      9|2017-01-01 08:00:00|2017|January|  1|   8| Sunday|\n",
      "|     10|2017-01-01 09:00:00|2017|January|  1|   9| Sunday|\n",
      "|     11|2017-01-01 10:00:00|2017|January|  1|  10| Sunday|\n",
      "|     12|2017-01-01 11:00:00|2017|January|  1|  11| Sunday|\n",
      "|     13|2017-01-01 12:00:00|2017|January|  1|  12| Sunday|\n",
      "|     14|2017-01-01 13:00:00|2017|January|  1|  13| Sunday|\n",
      "|     15|2017-01-01 14:00:00|2017|January|  1|  14| Sunday|\n",
      "|     16|2017-01-01 15:00:00|2017|January|  1|  15| Sunday|\n",
      "|     17|2017-01-01 16:00:00|2017|January|  1|  16| Sunday|\n",
      "|     18|2017-01-01 17:00:00|2017|January|  1|  17| Sunday|\n",
      "|     19|2017-01-01 18:00:00|2017|January|  1|  18| Sunday|\n",
      "|     20|2017-01-01 19:00:00|2017|January|  1|  19| Sunday|\n",
      "+-------+-------------------+----+-------+---+----+-------+\n",
      "only showing top 20 rows"
     ]
    }
   ],
   "source": [
    "df_date.show()"
   ]
  },
  {
   "cell_type": "markdown",
   "id": "8a677eed",
   "metadata": {},
   "source": [
    "## Creation of Transaction Fact table(10%)"
   ]
  },
  {
   "cell_type": "code",
   "execution_count": 172,
   "id": "e766128d",
   "metadata": {},
   "outputs": [
    {
     "data": {
      "application/vnd.jupyter.widget-view+json": {
       "model_id": "084c50955b594c3486d75fd5a67e6eee",
       "version_major": 2,
       "version_minor": 0
      },
      "text/plain": [
       "VBox()"
      ]
     },
     "metadata": {},
     "output_type": "display_data"
    },
    {
     "data": {
      "application/vnd.jupyter.widget-view+json": {
       "model_id": "",
       "version_major": 2,
       "version_minor": 0
      },
      "text/plain": [
       "FloatProgress(value=0.0, bar_style='info', description='Progress:', layout=Layout(height='25px', width='50%'),…"
      ]
     },
     "metadata": {},
     "output_type": "display_data"
    }
   ],
   "source": [
    "# join the df_card_type to get the card_type_id\n",
    "df_fact=df.join(df_card_type, df_card_type.card_type==df.card_type,'inner').drop((\"card_type\"))"
   ]
  },
  {
   "cell_type": "code",
   "execution_count": 173,
   "id": "4c8b9353",
   "metadata": {},
   "outputs": [
    {
     "data": {
      "application/vnd.jupyter.widget-view+json": {
       "model_id": "c231fc6ff11b460e9a4a514379bf19bf",
       "version_major": 2,
       "version_minor": 0
      },
      "text/plain": [
       "VBox()"
      ]
     },
     "metadata": {},
     "output_type": "display_data"
    },
    {
     "data": {
      "application/vnd.jupyter.widget-view+json": {
       "model_id": "",
       "version_major": 2,
       "version_minor": 0
      },
      "text/plain": [
       "FloatProgress(value=0.0, bar_style='info', description='Progress:', layout=Layout(height='25px', width='50%'),…"
      ]
     },
     "metadata": {},
     "output_type": "display_data"
    }
   ],
   "source": [
    "# join with df_date to get the date_id\n",
    "df_fact=df_fact.join(df_date, df_date.full_date_time==df_fact.full_date_time,'inner').drop(*('full_date_time','year', 'month', 'day','hour', 'weekday', 'mon' ))\n",
    "\n"
   ]
  },
  {
   "cell_type": "code",
   "execution_count": 174,
   "id": "57a0951f",
   "metadata": {},
   "outputs": [
    {
     "data": {
      "application/vnd.jupyter.widget-view+json": {
       "model_id": "0ba7bf640e084602adfcd609085e2b21",
       "version_major": 2,
       "version_minor": 0
      },
      "text/plain": [
       "VBox()"
      ]
     },
     "metadata": {},
     "output_type": "display_data"
    },
    {
     "data": {
      "application/vnd.jupyter.widget-view+json": {
       "model_id": "",
       "version_major": 2,
       "version_minor": 0
      },
      "text/plain": [
       "FloatProgress(value=0.0, bar_style='info', description='Progress:', layout=Layout(height='25px', width='50%'),…"
      ]
     },
     "metadata": {},
     "output_type": "display_data"
    }
   ],
   "source": [
    "# join the df_atm to get the atm_id\n",
    "df_fact=df_fact.join(df_atm, df_atm.atm_number==df_fact.atm_id,'inner'). drop(*('atm_manufacturer', 'atm_number', 'location_id', 'atm_id' ))\n"
   ]
  },
  {
   "cell_type": "code",
   "execution_count": 175,
   "id": "86540caf",
   "metadata": {},
   "outputs": [
    {
     "data": {
      "application/vnd.jupyter.widget-view+json": {
       "model_id": "ae2737bcec324befac0bb295c1f23054",
       "version_major": 2,
       "version_minor": 0
      },
      "text/plain": [
       "VBox()"
      ]
     },
     "metadata": {},
     "output_type": "display_data"
    },
    {
     "data": {
      "application/vnd.jupyter.widget-view+json": {
       "model_id": "",
       "version_major": 2,
       "version_minor": 0
      },
      "text/plain": [
       "FloatProgress(value=0.0, bar_style='info', description='Progress:', layout=Layout(height='25px', width='50%'),…"
      ]
     },
     "metadata": {},
     "output_type": "display_data"
    }
   ],
   "source": [
    "# join with the location_dim to get the location_id\n",
    "df_fact=df_fact.join(df_location, [df_fact.atm_location==df_location.atm_location , \\\n",
    "                                   df_fact.atm_streetname==df_location.atm_streetname],'inner')\\\n",
    ".drop(*('atm_location', 'atm_streetname', 'atm_street_number', 'atm_zipcode', 'atm_lat', 'atm_lon'))\n"
   ]
  },
  {
   "cell_type": "code",
   "execution_count": 176,
   "id": "071e05a4",
   "metadata": {},
   "outputs": [
    {
     "data": {
      "application/vnd.jupyter.widget-view+json": {
       "model_id": "07af30a5bc9d441bb5fc95bfc7f2c1c3",
       "version_major": 2,
       "version_minor": 0
      },
      "text/plain": [
       "VBox()"
      ]
     },
     "metadata": {},
     "output_type": "display_data"
    },
    {
     "data": {
      "application/vnd.jupyter.widget-view+json": {
       "model_id": "",
       "version_major": 2,
       "version_minor": 0
      },
      "text/plain": [
       "FloatProgress(value=0.0, bar_style='info', description='Progress:', layout=Layout(height='25px', width='50%'),…"
      ]
     },
     "metadata": {},
     "output_type": "display_data"
    }
   ],
   "source": [
    "# create primary_key for the fact_table\n",
    "windowdate = Window.orderBy('date_id')\n",
    "df_fact=df_fact.withColumn(\"trans_id\",f.row_number().over(windowdate))"
   ]
  },
  {
   "cell_type": "code",
   "execution_count": 177,
   "id": "4bda665c",
   "metadata": {},
   "outputs": [
    {
     "data": {
      "application/vnd.jupyter.widget-view+json": {
       "model_id": "63c5320f32aa4c238b2d3282f3065715",
       "version_major": 2,
       "version_minor": 0
      },
      "text/plain": [
       "VBox()"
      ]
     },
     "metadata": {},
     "output_type": "display_data"
    },
    {
     "data": {
      "application/vnd.jupyter.widget-view+json": {
       "model_id": "",
       "version_major": 2,
       "version_minor": 0
      },
      "text/plain": [
       "FloatProgress(value=0.0, bar_style='info', description='Progress:', layout=Layout(height='25px', width='50%'),…"
      ]
     },
     "metadata": {},
     "output_type": "display_data"
    }
   ],
   "source": [
    "# As  Atm_number corresponds to the ATM_ID in the fact table\n",
    "df_fact=df_fact.withColumnRenamed(\"location_id\",\"weather_loc_id\")"
   ]
  },
  {
   "cell_type": "code",
   "execution_count": 178,
   "id": "c86cadf8",
   "metadata": {},
   "outputs": [
    {
     "data": {
      "application/vnd.jupyter.widget-view+json": {
       "model_id": "fab7c8945fcb4c39bf34c2714b486f9a",
       "version_major": 2,
       "version_minor": 0
      },
      "text/plain": [
       "VBox()"
      ]
     },
     "metadata": {},
     "output_type": "display_data"
    },
    {
     "data": {
      "application/vnd.jupyter.widget-view+json": {
       "model_id": "",
       "version_major": 2,
       "version_minor": 0
      },
      "text/plain": [
       "FloatProgress(value=0.0, bar_style='info', description='Progress:', layout=Layout(height='25px', width='50%'),…"
      ]
     },
     "metadata": {},
     "output_type": "display_data"
    }
   ],
   "source": [
    "df_fact=df_fact.select('trans_id','atm_id_dim',  'weather_loc_id', 'date_id', 'card_type_id', 'atm_status', 'currency',\\\n",
    "                      'service', 'transaction_amount', 'message_code', 'message_text', 'rain_3h',  'clouds_all', \\\n",
    "                      'weather_id', 'weather_main', 'weather_description')\n"
   ]
  },
  {
   "cell_type": "code",
   "execution_count": 179,
   "id": "550aec0e",
   "metadata": {
    "scrolled": true
   },
   "outputs": [
    {
     "data": {
      "application/vnd.jupyter.widget-view+json": {
       "model_id": "484a4cdf815e46ba8511332780435dff",
       "version_major": 2,
       "version_minor": 0
      },
      "text/plain": [
       "VBox()"
      ]
     },
     "metadata": {},
     "output_type": "display_data"
    },
    {
     "data": {
      "application/vnd.jupyter.widget-view+json": {
       "model_id": "",
       "version_major": 2,
       "version_minor": 0
      },
      "text/plain": [
       "FloatProgress(value=0.0, bar_style='info', description='Progress:', layout=Layout(height='25px', width='50%'),…"
      ]
     },
     "metadata": {},
     "output_type": "display_data"
    },
    {
     "name": "stdout",
     "output_type": "stream",
     "text": [
      "+--------+----------+--------------+-------+------------+----------+--------+----------+------------------+------------+------------+-------+----------+----------+------------+--------------------+\n",
      "|trans_id|atm_id_dim|weather_loc_id|date_id|card_type_id|atm_status|currency|   service|transaction_amount|message_code|message_text|rain_3h|clouds_all|weather_id|weather_main| weather_description|\n",
      "+--------+----------+--------------+-------+------------+----------+--------+----------+------------------+------------+------------+-------+----------+----------+------------+--------------------+\n",
      "|       1|        26|           103|      1|           9|  Inactive|     DKK|Withdrawal|              1891|        null|        null|   0.59|        92|       500|        Rain|          light rain|\n",
      "|       2|        37|            48|      1|           9|  Inactive|     DKK|Withdrawal|              4166|        null|        null|    0.0|        75|       300|     Drizzle|light intensity d...|\n",
      "|       3|       103|            31|      1|           9|    Active|     DKK|Withdrawal|              8473|        null|        null|   0.59|        92|       500|        Rain|          light rain|\n",
      "|       4|        23|            78|      1|           9|    Active|     DKK|Withdrawal|              1630|        null|        null|   0.59|        92|       500|        Rain|          light rain|\n",
      "|       5|        70|            25|      1|           9|    Active|     DKK|Withdrawal|              7452|        null|        null|   0.29|        92|       500|        Rain|          light rain|\n",
      "|       6|        24|           105|      1|           9|    Active|     DKK|Withdrawal|              4062|        null|        null|    0.0|        75|       300|     Drizzle|light intensity d...|\n",
      "|       7|        32|            77|      1|           9|    Active|     DKK|Withdrawal|              1005|        null|        null|   0.19|        92|       500|        Rain|          light rain|\n",
      "|       8|        81|            38|      1|           8|    Active|     DKK|Withdrawal|              4626|        null|        null|   0.59|        92|       500|        Rain|          light rain|\n",
      "|       9|        26|           103|      1|           8|  Inactive|     DKK|Withdrawal|              3874|        null|        null|   0.59|        92|       500|        Rain|          light rain|\n",
      "|      10|        18|           108|      1|           8|  Inactive|     DKK|Withdrawal|              1329|        null|        null|   0.59|        92|       500|        Rain|          light rain|\n",
      "|      11|        19|            97|      1|           8|    Active|     DKK|Withdrawal|              5024|        null|        null|  1.275|        92|       500|        Rain|          light rain|\n",
      "|      12|        18|           108|      1|           8|  Inactive|     DKK|Withdrawal|              9570|        null|        null|   0.59|        92|       500|        Rain|          light rain|\n",
      "|      13|        28|           109|      1|           8|    Active|     DKK|Withdrawal|              4607|        null|        null|   0.59|        92|       500|        Rain|          light rain|\n",
      "|      14|        31|            40|      1|           8|    Active|     DKK|Withdrawal|              7768|        null|        null|   0.59|        92|       500|        Rain|          light rain|\n",
      "|      15|        28|           109|      1|           8|    Active|     DKK|Withdrawal|              2438|        null|        null|   0.59|        92|       500|        Rain|          light rain|\n",
      "|      16|        20|            46|      1|          11|  Inactive|     DKK|Withdrawal|              1133|        null|        null|    0.0|        92|       300|     Drizzle|light intensity d...|\n",
      "|      17|        92|            30|      1|          11|    Active|     DKK|Withdrawal|              4009|        null|        null|    0.0|        75|       300|     Drizzle|light intensity d...|\n",
      "|      18|        30|           107|      1|          11|    Active|     DKK|Withdrawal|              5993|        null|        null|   0.59|        92|       500|        Rain|          light rain|\n",
      "|      19|        13|            80|      1|          10|    Active|     DKK|Withdrawal|              9346|        null|        null|   0.59|        92|       500|        Rain|          light rain|\n",
      "|      20|        22|            86|      1|          10|  Inactive|     DKK|Withdrawal|              6068|        null|        null|    0.0|        75|       300|     Drizzle|light intensity d...|\n",
      "+--------+----------+--------------+-------+------------+----------+--------+----------+------------------+------------+------------+-------+----------+----------+------------+--------------------+\n",
      "only showing top 20 rows"
     ]
    }
   ],
   "source": [
    "df_fact.show()"
   ]
  },
  {
   "cell_type": "code",
   "execution_count": null,
   "id": "6ac5971c",
   "metadata": {},
   "outputs": [],
   "source": [
    "## Loading dimension and fact tables to S3 bucket(5%)"
   ]
  },
  {
   "cell_type": "code",
   "execution_count": 180,
   "id": "b3a479f1",
   "metadata": {},
   "outputs": [
    {
     "data": {
      "application/vnd.jupyter.widget-view+json": {
       "model_id": "45d76c7c2190408798c62bdb280d30cd",
       "version_major": 2,
       "version_minor": 0
      },
      "text/plain": [
       "VBox()"
      ]
     },
     "metadata": {},
     "output_type": "display_data"
    },
    {
     "data": {
      "application/vnd.jupyter.widget-view+json": {
       "model_id": "",
       "version_major": 2,
       "version_minor": 0
      },
      "text/plain": [
       "FloatProgress(value=0.0, bar_style='info', description='Progress:', layout=Layout(height='25px', width='50%'),…"
      ]
     },
     "metadata": {},
     "output_type": "display_data"
    }
   ],
   "source": [
    "df_fact.write.save(\"s3://etlprojectdipanwita/FACT_ATM_TRANS\", format='csv', header=True)"
   ]
  },
  {
   "cell_type": "code",
   "execution_count": 181,
   "id": "c3ae51f0",
   "metadata": {},
   "outputs": [
    {
     "data": {
      "application/vnd.jupyter.widget-view+json": {
       "model_id": "3ba23667a6754fcc944f34a150818404",
       "version_major": 2,
       "version_minor": 0
      },
      "text/plain": [
       "VBox()"
      ]
     },
     "metadata": {},
     "output_type": "display_data"
    },
    {
     "data": {
      "application/vnd.jupyter.widget-view+json": {
       "model_id": "",
       "version_major": 2,
       "version_minor": 0
      },
      "text/plain": [
       "FloatProgress(value=0.0, bar_style='info', description='Progress:', layout=Layout(height='25px', width='50%'),…"
      ]
     },
     "metadata": {},
     "output_type": "display_data"
    }
   ],
   "source": [
    "df_location.write.save(\"s3://etlprojectdipanwita/DIM_LOCATION\", format='csv', header=True)"
   ]
  },
  {
   "cell_type": "code",
   "execution_count": 182,
   "id": "b1cca499",
   "metadata": {},
   "outputs": [
    {
     "data": {
      "application/vnd.jupyter.widget-view+json": {
       "model_id": "b7948fe389294d659ce3e7f1383be851",
       "version_major": 2,
       "version_minor": 0
      },
      "text/plain": [
       "VBox()"
      ]
     },
     "metadata": {},
     "output_type": "display_data"
    },
    {
     "data": {
      "application/vnd.jupyter.widget-view+json": {
       "model_id": "",
       "version_major": 2,
       "version_minor": 0
      },
      "text/plain": [
       "FloatProgress(value=0.0, bar_style='info', description='Progress:', layout=Layout(height='25px', width='50%'),…"
      ]
     },
     "metadata": {},
     "output_type": "display_data"
    }
   ],
   "source": [
    "df_atm.write.save(\"s3://etlprojectdipanwita/DIM_ATM\", format='csv', header=True)"
   ]
  },
  {
   "cell_type": "code",
   "execution_count": 183,
   "id": "6aad5b1d",
   "metadata": {},
   "outputs": [
    {
     "data": {
      "application/vnd.jupyter.widget-view+json": {
       "model_id": "62f1c61e4a8f4f0e9632b6d0184f0649",
       "version_major": 2,
       "version_minor": 0
      },
      "text/plain": [
       "VBox()"
      ]
     },
     "metadata": {},
     "output_type": "display_data"
    },
    {
     "data": {
      "application/vnd.jupyter.widget-view+json": {
       "model_id": "",
       "version_major": 2,
       "version_minor": 0
      },
      "text/plain": [
       "FloatProgress(value=0.0, bar_style='info', description='Progress:', layout=Layout(height='25px', width='50%'),…"
      ]
     },
     "metadata": {},
     "output_type": "display_data"
    }
   ],
   "source": [
    "df_card_type.write.save(\"s3://etlprojectdipanwita/DIM_CARD_TYPE\", format='csv', header=True)"
   ]
  },
  {
   "cell_type": "code",
   "execution_count": 184,
   "id": "c2fb27eb",
   "metadata": {},
   "outputs": [
    {
     "data": {
      "application/vnd.jupyter.widget-view+json": {
       "model_id": "6fa737f6459c448fa8b2579ce422f21d",
       "version_major": 2,
       "version_minor": 0
      },
      "text/plain": [
       "VBox()"
      ]
     },
     "metadata": {},
     "output_type": "display_data"
    },
    {
     "data": {
      "application/vnd.jupyter.widget-view+json": {
       "model_id": "",
       "version_major": 2,
       "version_minor": 0
      },
      "text/plain": [
       "FloatProgress(value=0.0, bar_style='info', description='Progress:', layout=Layout(height='25px', width='50%'),…"
      ]
     },
     "metadata": {},
     "output_type": "display_data"
    }
   ],
   "source": [
    "df_date.write.save(\"s3://etlprojectdipanwita/DIM_DATE\", format='csv', header=True)"
   ]
  },
  {
   "cell_type": "code",
   "execution_count": null,
   "id": "3486bb9c",
   "metadata": {},
   "outputs": [],
   "source": []
  }
 ],
 "metadata": {
  "kernelspec": {
   "display_name": "PySpark",
   "language": "",
   "name": "pysparkkernel"
  },
  "language_info": {
   "codemirror_mode": {
    "name": "python",
    "version": 2
   },
   "mimetype": "text/x-python",
   "name": "pyspark",
   "pygments_lexer": "python2"
  }
 },
 "nbformat": 4,
 "nbformat_minor": 5
}
