{
 "cells": [
  {
   "cell_type": "code",
   "execution_count": null,
   "metadata": {},
   "outputs": [],
   "source": []
  },
  {
   "cell_type": "markdown",
   "metadata": {},
   "source": [
    "The problem statement is to find new categories that each user is searching for recently.\n",
    "\n"
   ]
  },
  {
   "cell_type": "code",
   "execution_count": 1,
   "metadata": {},
   "outputs": [
    {
     "name": "stdout",
     "output_type": "stream",
     "text": [
      "22/12/15 00:42:01 WARN Utils: Your hostname, Dipanwitas-MacBook-Pro.local resolves to a loopback address: 127.0.0.1; using 192.168.0.5 instead (on interface en0)\n",
      "22/12/15 00:42:01 WARN Utils: Set SPARK_LOCAL_IP if you need to bind to another address\n"
     ]
    },
    {
     "name": "stderr",
     "output_type": "stream",
     "text": [
      "Setting default log level to \"WARN\".\n",
      "To adjust logging level use sc.setLogLevel(newLevel). For SparkR, use setLogLevel(newLevel).\n"
     ]
    },
    {
     "name": "stdout",
     "output_type": "stream",
     "text": [
      "22/12/15 00:42:02 WARN NativeCodeLoader: Unable to load native-hadoop library for your platform... using builtin-java classes where applicable\n",
      "22/12/15 00:42:02 WARN Utils: Service 'SparkUI' could not bind on port 4040. Attempting port 4041.\n"
     ]
    }
   ],
   "source": [
    "from pyspark.sql import SparkSession\n",
    "\n",
    "session= SparkSession.builder.appName(\"userpin\").master(\"local\").getOrCreate()\n"
   ]
  },
  {
   "cell_type": "code",
   "execution_count": 2,
   "metadata": {},
   "outputs": [],
   "source": [
    "spark= session.sparkContext"
   ]
  },
  {
   "cell_type": "code",
   "execution_count": 6,
   "metadata": {},
   "outputs": [],
   "source": [
    "user_pin= spark.textFile('userpins.txt')"
   ]
  },
  {
   "cell_type": "code",
   "execution_count": 7,
   "metadata": {},
   "outputs": [
    {
     "data": {
      "text/plain": [
       "['Rohit, Photography',\n",
       " 'Rohit, Photo Creation',\n",
       " 'Rohit, Adobe Effects',\n",
       " 'Rohit, Video Editing',\n",
       " 'Rohit, Youtube video making',\n",
       " '',\n",
       " 'Rahul, Photography',\n",
       " 'Rahul, Instagram growth',\n",
       " 'Rahul, Photo Creation',\n",
       " 'Rahul, digital marketing',\n",
       " 'Rahul, Blogging',\n",
       " '',\n",
       " 'Sachin, Photo Creation',\n",
       " 'Sachin, Blogging',\n",
       " 'Sachin, Adobe Effects',\n",
       " 'Sachin, Video Editing',\n",
       " 'Sachin, Youtube video making',\n",
       " '',\n",
       " 'Saurav, Youtube video making',\n",
       " 'Saurav, UI/UX designs',\n",
       " 'Saurav, Instagram growth',\n",
       " 'Saurav, Web development',\n",
       " 'Saurav, Blogging',\n",
       " '',\n",
       " 'Irfan, UI/UX designs',\n",
       " 'Irfan, Web development',\n",
       " 'Irfan, Blogging',\n",
       " 'Irfan, Adobe Effects',\n",
       " 'Irfan, Video Editing']"
      ]
     },
     "execution_count": 7,
     "metadata": {},
     "output_type": "execute_result"
    }
   ],
   "source": [
    "user_pin.collect()"
   ]
  },
  {
   "cell_type": "code",
   "execution_count": 8,
   "metadata": {},
   "outputs": [],
   "source": [
    "user_search= spark.textFile('Usersearch.txt')"
   ]
  },
  {
   "cell_type": "code",
   "execution_count": 9,
   "metadata": {},
   "outputs": [
    {
     "data": {
      "text/plain": [
       "['Rohit, Photography',\n",
       " 'Rohit, Web development',\n",
       " '',\n",
       " 'Rahul, Photography',\n",
       " 'Rahul, Instagram growth',\n",
       " '',\n",
       " 'Sachin, Photography',\n",
       " 'Sachin, Instagram growth',\n",
       " 'Sachin, Adobe Effects',\n",
       " '',\n",
       " 'Irfan, Photography',\n",
       " 'Irfan, Instagram growth']"
      ]
     },
     "execution_count": 9,
     "metadata": {},
     "output_type": "execute_result"
    }
   ],
   "source": [
    "user_search.collect()"
   ]
  },
  {
   "cell_type": "code",
   "execution_count": 10,
   "metadata": {},
   "outputs": [],
   "source": [
    "# remove the blank lines\n",
    "user_pin1= user_pin.filter(lambda x: x!='')\n"
   ]
  },
  {
   "cell_type": "code",
   "execution_count": 11,
   "metadata": {},
   "outputs": [],
   "source": [
    "user_search1= user_search.filter(lambda x: x!='')"
   ]
  },
  {
   "cell_type": "code",
   "execution_count": 12,
   "metadata": {},
   "outputs": [
    {
     "data": {
      "text/plain": [
       "['Rohit, Photography',\n",
       " 'Rohit, Photo Creation',\n",
       " 'Rohit, Adobe Effects',\n",
       " 'Rohit, Video Editing',\n",
       " 'Rohit, Youtube video making',\n",
       " 'Rahul, Photography',\n",
       " 'Rahul, Instagram growth',\n",
       " 'Rahul, Photo Creation',\n",
       " 'Rahul, digital marketing',\n",
       " 'Rahul, Blogging',\n",
       " 'Sachin, Photo Creation',\n",
       " 'Sachin, Blogging',\n",
       " 'Sachin, Adobe Effects',\n",
       " 'Sachin, Video Editing',\n",
       " 'Sachin, Youtube video making',\n",
       " 'Saurav, Youtube video making',\n",
       " 'Saurav, UI/UX designs',\n",
       " 'Saurav, Instagram growth',\n",
       " 'Saurav, Web development',\n",
       " 'Saurav, Blogging',\n",
       " 'Irfan, UI/UX designs',\n",
       " 'Irfan, Web development',\n",
       " 'Irfan, Blogging',\n",
       " 'Irfan, Adobe Effects',\n",
       " 'Irfan, Video Editing']"
      ]
     },
     "execution_count": 12,
     "metadata": {},
     "output_type": "execute_result"
    }
   ],
   "source": [
    "user_pin1.collect()"
   ]
  },
  {
   "cell_type": "code",
   "execution_count": 13,
   "metadata": {},
   "outputs": [],
   "source": [
    "# convert to individual lists\n",
    "user_pin2=user_pin1.map(lambda x: x.split(\", \"))"
   ]
  },
  {
   "cell_type": "code",
   "execution_count": 14,
   "metadata": {},
   "outputs": [
    {
     "data": {
      "text/plain": [
       "[['Rohit', 'Photography'],\n",
       " ['Rohit', 'Photo Creation'],\n",
       " ['Rohit', 'Adobe Effects'],\n",
       " ['Rohit', 'Video Editing'],\n",
       " ['Rohit', 'Youtube video making'],\n",
       " ['Rahul', 'Photography'],\n",
       " ['Rahul', 'Instagram growth'],\n",
       " ['Rahul', 'Photo Creation'],\n",
       " ['Rahul', 'digital marketing'],\n",
       " ['Rahul', 'Blogging'],\n",
       " ['Sachin', 'Photo Creation'],\n",
       " ['Sachin', 'Blogging'],\n",
       " ['Sachin', 'Adobe Effects'],\n",
       " ['Sachin', 'Video Editing'],\n",
       " ['Sachin', 'Youtube video making'],\n",
       " ['Saurav', 'Youtube video making'],\n",
       " ['Saurav', 'UI/UX designs'],\n",
       " ['Saurav', 'Instagram growth'],\n",
       " ['Saurav', 'Web development'],\n",
       " ['Saurav', 'Blogging'],\n",
       " ['Irfan', 'UI/UX designs'],\n",
       " ['Irfan', 'Web development'],\n",
       " ['Irfan', 'Blogging'],\n",
       " ['Irfan', 'Adobe Effects'],\n",
       " ['Irfan', 'Video Editing']]"
      ]
     },
     "execution_count": 14,
     "metadata": {},
     "output_type": "execute_result"
    }
   ],
   "source": [
    "user_pin2.collect()"
   ]
  },
  {
   "cell_type": "code",
   "execution_count": 15,
   "metadata": {},
   "outputs": [
    {
     "data": {
      "text/plain": [
       "[['Rohit', 'Photography'],\n",
       " ['Rohit', 'Web development'],\n",
       " ['Rahul', 'Photography'],\n",
       " ['Rahul', 'Instagram growth'],\n",
       " ['Sachin', 'Photography'],\n",
       " ['Sachin', 'Instagram growth'],\n",
       " ['Sachin', 'Adobe Effects'],\n",
       " ['Irfan', 'Photography'],\n",
       " ['Irfan', 'Instagram growth']]"
      ]
     },
     "execution_count": 15,
     "metadata": {},
     "output_type": "execute_result"
    }
   ],
   "source": [
    "user_search2= user_search1.map(lambda x: x.split(\", \"))\n",
    "user_search2.collect()"
   ]
  },
  {
   "cell_type": "code",
   "execution_count": 16,
   "metadata": {},
   "outputs": [
    {
     "data": {
      "text/plain": [
       "[('Rohit', 'Photography'),\n",
       " ('Rohit', 'Photo Creation'),\n",
       " ('Rohit', 'Adobe Effects'),\n",
       " ('Rohit', 'Video Editing'),\n",
       " ('Rohit', 'Youtube video making'),\n",
       " ('Rahul', 'Photography'),\n",
       " ('Rahul', 'Instagram growth'),\n",
       " ('Rahul', 'Photo Creation'),\n",
       " ('Rahul', 'digital marketing'),\n",
       " ('Rahul', 'Blogging'),\n",
       " ('Sachin', 'Photo Creation'),\n",
       " ('Sachin', 'Blogging'),\n",
       " ('Sachin', 'Adobe Effects'),\n",
       " ('Sachin', 'Video Editing'),\n",
       " ('Sachin', 'Youtube video making'),\n",
       " ('Saurav', 'Youtube video making'),\n",
       " ('Saurav', 'UI/UX designs'),\n",
       " ('Saurav', 'Instagram growth'),\n",
       " ('Saurav', 'Web development'),\n",
       " ('Saurav', 'Blogging'),\n",
       " ('Irfan', 'UI/UX designs'),\n",
       " ('Irfan', 'Web development'),\n",
       " ('Irfan', 'Blogging'),\n",
       " ('Irfan', 'Adobe Effects'),\n",
       " ('Irfan', 'Video Editing')]"
      ]
     },
     "execution_count": 16,
     "metadata": {},
     "output_type": "execute_result"
    }
   ],
   "source": [
    "# convert eact list to a paired RDD\n",
    "user_pin3= user_pin2.map(lambda x: (x[0], x[1]))\n",
    "user_pin3.collect()"
   ]
  },
  {
   "cell_type": "code",
   "execution_count": 17,
   "metadata": {},
   "outputs": [
    {
     "data": {
      "text/plain": [
       "[('Rohit', 'Photography'),\n",
       " ('Rohit', 'Web development'),\n",
       " ('Rahul', 'Photography'),\n",
       " ('Rahul', 'Instagram growth'),\n",
       " ('Sachin', 'Photography'),\n",
       " ('Sachin', 'Instagram growth'),\n",
       " ('Sachin', 'Adobe Effects'),\n",
       " ('Irfan', 'Photography'),\n",
       " ('Irfan', 'Instagram growth')]"
      ]
     },
     "execution_count": 17,
     "metadata": {},
     "output_type": "execute_result"
    }
   ],
   "source": [
    "user_search3= user_search2.map(lambda x: (x[0], x[1]))\n",
    "user_search3.collect()"
   ]
  },
  {
   "cell_type": "code",
   "execution_count": 25,
   "metadata": {},
   "outputs": [
    {
     "name": "stdout",
     "output_type": "stream",
     "text": [
      "new categories that each user is searching for recently:\n"
     ]
    },
    {
     "data": {
      "text/plain": [
       "[('Sachin', 'Instagram growth'),\n",
       " ('Irfan', 'Photography'),\n",
       " ('Rohit', 'Web development'),\n",
       " ('Sachin', 'Photography'),\n",
       " ('Irfan', 'Instagram growth')]"
      ]
     },
     "execution_count": 25,
     "metadata": {},
     "output_type": "execute_result"
    }
   ],
   "source": [
    "new_interest= user_search3.subtract(user_pin3)\n",
    "print(\"new categories that each user is searching for recently:\")\n",
    "new_interest.collect()\n"
   ]
  },
  {
   "cell_type": "code",
   "execution_count": 22,
   "metadata": {},
   "outputs": [
    {
     "data": {
      "text/plain": [
       "[('Irfan', 'Photography'),\n",
       " ('Irfan', 'Instagram growth'),\n",
       " ('Rohit', 'Web development'),\n",
       " ('Sachin', 'Instagram growth'),\n",
       " ('Sachin', 'Photography')]"
      ]
     },
     "execution_count": 22,
     "metadata": {},
     "output_type": "execute_result"
    }
   ],
   "source": [
    "sorted_data=new_interest.sortByKey()\n",
    "sorted_data.collect()"
   ]
  },
  {
   "cell_type": "code",
   "execution_count": 26,
   "metadata": {},
   "outputs": [
    {
     "name": "stdout",
     "output_type": "stream",
     "text": [
      "old categories that each user is searching:\n"
     ]
    },
    {
     "data": {
      "text/plain": [
       "[('Rahul', 'Photography'),\n",
       " ('Sachin', 'Adobe Effects'),\n",
       " ('Rohit', 'Photography'),\n",
       " ('Rahul', 'Instagram growth')]"
      ]
     },
     "execution_count": 26,
     "metadata": {},
     "output_type": "execute_result"
    }
   ],
   "source": [
    "# old categories still interested in \n",
    "old_interest= user_search3.intersection(user_pin3)\n",
    "print(\"old categories that each user is searching:\")\n",
    "old_interest.collect()"
   ]
  },
  {
   "cell_type": "code",
   "execution_count": null,
   "metadata": {},
   "outputs": [],
   "source": []
  }
 ],
 "metadata": {
  "kernelspec": {
   "display_name": "Python 3.9.13 64-bit",
   "language": "python",
   "name": "python3"
  },
  "language_info": {
   "codemirror_mode": {
    "name": "ipython",
    "version": 3
   },
   "file_extension": ".py",
   "mimetype": "text/x-python",
   "name": "python",
   "nbconvert_exporter": "python",
   "pygments_lexer": "ipython3",
   "version": "3.9.13"
  },
  "orig_nbformat": 4,
  "vscode": {
   "interpreter": {
    "hash": "b0fa6594d8f4cbf19f97940f81e996739fb7646882a419484c72d19e05852a7e"
   }
  }
 },
 "nbformat": 4,
 "nbformat_minor": 2
}
