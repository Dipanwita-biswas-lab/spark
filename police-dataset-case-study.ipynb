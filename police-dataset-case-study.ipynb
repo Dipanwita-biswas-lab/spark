{
 "cells": [
  {
   "cell_type": "code",
   "execution_count": null,
   "metadata": {},
   "outputs": [],
   "source": []
  },
  {
   "cell_type": "markdown",
   "metadata": {},
   "source": [
    "This case study involves the data regarding incidents that are reported in various police stations across San Francisco. \n"
   ]
  },
  {
   "cell_type": "code",
   "execution_count": 1,
   "metadata": {},
   "outputs": [],
   "source": [
    "#!wget https://police-incidents-dataset-ds.s3.amazonaws.com/Police_Department_Incident_Reports__2018_to_Present.csv"
   ]
  },
  {
   "cell_type": "code",
   "execution_count": 2,
   "metadata": {},
   "outputs": [],
   "source": [
    "# import libraries\n",
    "from pyspark.sql import SparkSession"
   ]
  },
  {
   "cell_type": "code",
   "execution_count": 3,
   "metadata": {},
   "outputs": [
    {
     "name": "stdout",
     "output_type": "stream",
     "text": [
      "22/12/15 23:46:16 WARN Utils: Your hostname, Dipanwitas-MacBook-Pro.local resolves to a loopback address: 127.0.0.1; using 192.168.0.5 instead (on interface en0)\n",
      "22/12/15 23:46:16 WARN Utils: Set SPARK_LOCAL_IP if you need to bind to another address\n"
     ]
    },
    {
     "name": "stderr",
     "output_type": "stream",
     "text": [
      "Setting default log level to \"WARN\".\n",
      "To adjust logging level use sc.setLogLevel(newLevel). For SparkR, use setLogLevel(newLevel).\n"
     ]
    },
    {
     "name": "stdout",
     "output_type": "stream",
     "text": [
      "22/12/15 23:46:16 WARN NativeCodeLoader: Unable to load native-hadoop library for your platform... using builtin-java classes where applicable\n",
      "22/12/15 23:46:16 WARN Utils: Service 'SparkUI' could not bind on port 4040. Attempting port 4041.\n"
     ]
    }
   ],
   "source": [
    "spark= SparkSession.builder.appName(\"police_data\").master(\"local\").getOrCreate()"
   ]
  },
  {
   "cell_type": "code",
   "execution_count": 4,
   "metadata": {},
   "outputs": [
    {
     "name": "stderr",
     "output_type": "stream",
     "text": [
      "                                                                                \r"
     ]
    }
   ],
   "source": [
    "df= spark.read.csv(\"Police_Department_Incident_Reports__2018_to_Present.csv\", header=True, inferSchema=True)"
   ]
  },
  {
   "cell_type": "code",
   "execution_count": 5,
   "metadata": {},
   "outputs": [
    {
     "name": "stdout",
     "output_type": "stream",
     "text": [
      "22/12/15 23:46:20 WARN package: Truncated the string representation of a plan since it was too large. This behavior can be adjusted by setting 'spark.sql.debug.maxToStringFields'.\n",
      "+--------------------+-------------+-------------------+-------------+--------------------+--------------------+-----------+-----------+---------------+----------+----------------+-----------------------+------------+-------------+--------------------+--------------------+--------------------+--------------------+--------------------+--------+---------------+---------------------+-------------------+------------------+-------------------+--------------------+\n",
      "|   Incident Datetime|Incident Date|      Incident Time|Incident Year|Incident Day of Week|     Report Datetime|     Row ID|Incident ID|Incident Number|CAD Number|Report Type Code|Report Type Description|Filed Online|Incident Code|   Incident Category|Incident Subcategory|Incident Description|          Resolution|        Intersection|     CNN|Police District|Analysis Neighborhood|Supervisor District|          Latitude|          Longitude|               point|\n",
      "+--------------------+-------------+-------------------+-------------+--------------------+--------------------+-----------+-----------+---------------+----------+----------------+-----------------------+------------+-------------+--------------------+--------------------+--------------------+--------------------+--------------------+--------+---------------+---------------------+-------------------+------------------+-------------------+--------------------+\n",
      "|2020/05/12 05:45:...|   2020/05/12|2022-12-15 17:45:00|         2020|             Tuesday|2020/05/13 09:46:...|92897328150|     928973|      206082743|      null|              II|       Coplogic Initial|        true|        28150|  Malicious Mischief|           Vandalism|Malicious Mischie...|      Open or Active|                null|    null|        Bayview|                 null|               null|              null|               null|                null|\n",
      "|2020/05/19 09:00:...|   2020/05/19|2022-12-15 21:00:00|         2020|             Tuesday|2020/05/20 05:43:...|92899306244|     928993|      206082709|      null|              II|       Coplogic Initial|        true|         6244|       Larceny Theft|Larceny - From Ve...|Theft, From Locke...|      Open or Active|                null|    null|       Southern|                 null|               null|              null|               null|                null|\n",
      "|2020/05/16 06:00:...|   2020/05/16|2022-12-15 18:00:00|         2020|            Saturday|2020/05/16 10:26:...|92902428150|     929024|      206083296|      null|              II|       Coplogic Initial|        true|        28150|  Malicious Mischief|           Vandalism|Malicious Mischie...|      Open or Active|                null|    null|        Mission|                 null|               null|              null|               null|                null|\n",
      "|2020/03/30 12:00:...|   2020/03/30|2022-12-15 00:00:00|         2020|              Monday|2020/05/04 11:47:...|92905305073|     929053|      206062193|      null|              IS|    Coplogic Supplement|        true|         5073|            Burglary|    Burglary - Other|Burglary, Other B...|      Open or Active|                null|    null|        Mission|                 null|               null|              null|               null|                null|\n",
      "|2020/02/03 02:45:...|   2020/02/03|2022-12-15 14:45:00|         2020|              Monday|2020/02/03 05:50:...|89881675000|     898816|      200085557| 200342870|              II|                Initial|        null|        75000|      Missing Person|      Missing Person|        Found Person|      Open or Active|20TH AVE \\ WINSTO...|3.3719E7|        Taraval|            Lakeshore|                  7| 37.72694991292525|-122.47603947349434|(37.7269499129252...|\n",
      "|2020/05/22 10:30:...|   2020/05/22|2022-12-15 10:30:00|         2020|              Friday|2020/05/22 10:30:...|92915671012|     929156|      200271370|      null|              VS|     Vehicle Supplement|        null|        71012|      Other Offenses|      Other Offenses|License Plate, Re...|      Open or Active|                null|    null|      Out of SF|                 null|               null|              null|               null|                null|\n",
      "|2020/02/03 03:45:...|   2020/02/03|2022-12-15 03:45:00|         2020|              Monday|2020/02/03 03:45:...|89860711012|     898607|      200083749| 200340316|              II|                Initial|        null|        11012|     Stolen Property|     Stolen Property|Stolen Property, ...|Cite or Arrest Adult|24TH ST \\ SHOTWEL...|2.4064E7|        Mission|              Mission|                  9|37.752439644389675|-122.41517229045435|(37.7524396443896...|\n",
      "|2020/02/03 10:00:...|   2020/02/03|2022-12-15 10:00:00|         2020|              Monday|2020/02/03 10:06:...|89867264015|     898672|      200084060| 200340808|              II|                Initial|        null|        64015|        Non-Criminal|               Other|Aided Case, Injur...|      Open or Active|MARKET ST \\ POWEL...|3.4016E7|     Tenderloin| Financial Distric...|                  3|37.784560141211806|-122.40733704162238|(37.7845601412118...|\n",
      "|2020/01/19 05:12:...|   2020/01/19|2022-12-15 17:12:00|         2020|              Sunday|2020/02/01 01:01:...|89863571000|     898635|      206024187|      null|              II|       Coplogic Initial|        true|        71000|       Lost Property|       Lost Property|       Lost Property|      Open or Active|                null|    null|        Taraval|                 null|               null|              null|               null|                null|\n",
      "|2020/01/05 12:00:...|   2020/01/05|2022-12-15 00:00:00|         2020|              Sunday|2020/02/03 04:09:...|89877368020|     898773|      200085193| 200342341|              II|                Initial|        null|        68020|Miscellaneous Inv...|Miscellaneous Inv...|Miscellaneous Inv...|      Open or Active|PINE ST \\ DIVISAD...|2.6643E7|       Richmond|      Pacific Heights|                  2| 37.78711245591735|-122.44024995765258|(37.7871124559173...|\n",
      "|2020/02/03 08:36:...|   2020/02/03|2022-12-15 08:36:00|         2020|              Monday|2020/02/03 08:36:...|89876268020|     898762|      200083909| 200340826|              II|                Initial|        null|        68020|Miscellaneous Inv...|Miscellaneous Inv...|Miscellaneous Inv...|      Open or Active|FRONT ST \\ JACKSO...|2.4697E7|        Central| Financial Distric...|                  3|37.796926429317054|-122.39950750040278|(37.7969264293170...|\n",
      "|2020/01/16 12:01:...|   2020/01/16|2022-12-15 00:01:00|         2020|            Thursday|2020/01/21 08:05:...|89745215041|     897452|      200050964| 200050964|              IS|     Initial Supplement|        null|        15041|Offences Against ...|     Family Offenses|Elder Adult or De...|           Unfounded|18TH ST \\ SANCHEZ ST| 2.572E7|        Mission|  Castro/Upper Market|                  8| 37.76115547557552| -122.4305735690657|(37.7611554755755...|\n",
      "|2020/01/29 01:41:...|   2020/01/29|2022-12-15 13:41:00|         2020|           Wednesday|2020/01/31 10:18:...|89862206372|     898622|      206024290|      null|              II|       Coplogic Initial|        true|         6372|       Larceny Theft|Larceny Theft - O...|Theft, Other Prop...|      Open or Active|                null|    null|      Out of SF|                 null|               null|              null|               null|                null|\n",
      "|2020/01/23 05:34:...|   2020/01/23|2022-12-15 17:34:00|         2020|            Thursday|2020/02/03 10:28:...|89870064085|     898700|      200084167| 200341210|              II|                Initial|        null|        64085| Other Miscellaneous|               Other|Investigative Det...|      Open or Active|MARKET ST \\ COLLI...| 2.582E7|        Mission|  Castro/Upper Market|                  8| 37.76213762477359|-122.43624180667507|(37.7621376247735...|\n",
      "|2020/02/03 07:28:...|   2020/02/03|2022-12-15 07:28:00|         2020|              Monday|2020/02/03 07:37:...|89865164020|     898651|      200083830| 200340622|              II|                Initial|        null|        64020|        Non-Criminal|               Other|Mental Health Det...|      Open or Active|  OTIS ST \\ BRADY ST|2.4393E7|       Southern|              Mission|                  6| 37.77230320284353|-122.41967183064224|(37.7723032028435...|\n",
      "|2020/02/03 01:50:...|   2020/02/03|2022-12-15 13:50:00|         2020|              Monday|2020/02/03 01:50:...|89874775025|     898747|      200083761| 200340461|              IS|     Initial Supplement|        null|        75025|        Non-Criminal|        Non-Criminal|Search Warrant Se...|      Open or Active| 26TH ST \\ FOLSOM ST|2.1178E7|        Mission|              Mission|                  9| 37.74930406746458|  -122.413770628689|(37.7493040674645...|\n",
      "|2020/01/10 05:00:...|   2020/01/10|2022-12-15 17:00:00|         2020|              Friday|2020/02/03 06:54:...|89880771000|     898807|      200085698| 200343140|              II|                Initial|        null|        71000|       Lost Property|       Lost Property|       Lost Property|      Open or Active|VISTA LN \\ CRESTL...|3.2986E7|           Park|           Twin Peaks|                  8| 37.75166941216422|-122.44624479108757|(37.7516694121642...|\n",
      "|2020/02/03 07:00:...|   2020/02/03|2022-12-15 19:00:00|         2020|              Monday|2020/02/03 08:18:...|89883906153|     898839|      200085905| 200343364|              II|                Initial|        null|         6153|       Larceny Theft|Larceny Theft - O...|Theft, From Perso...|      Open or Active|03RD ST \\ KIRKWOO...|2.0223E7|        Bayview| Bayview Hunters P...|                 10|   37.737955394873|-122.38958738129647|(37.737955394873,...|\n",
      "|2020/01/31 04:00:...|   2020/01/31|2022-12-15 04:00:00|         2020|              Friday|2020/02/02 11:08:...|89848168020|     898481|      200082246| 200331285|              II|                Initial|        null|        68020|Miscellaneous Inv...|Miscellaneous Inv...|Miscellaneous Inv...|      Open or Active|FILLMORE ST \\ PAC...|2.6657E7|       Northern|      Pacific Heights|                  2| 37.79334728396327|-122.43473366442743|(37.7933472839632...|\n",
      "|2020/01/31 08:00:...|   2020/01/31|2022-12-15 08:00:00|         2020|              Friday|2020/02/03 08:12:...|89865606241|     898656|      200083846| 200340732|              II|                Initial|        null|         6241|       Larceny Theft|Larceny - From Ve...|Theft, From Locke...|      Open or Active|WEBSTER ST \\ PACI...|2.6656E7|       Northern|      Pacific Heights|                  2|  37.7935575533924|-122.43308841758456|(37.7935575533924...|\n",
      "+--------------------+-------------+-------------------+-------------+--------------------+--------------------+-----------+-----------+---------------+----------+----------------+-----------------------+------------+-------------+--------------------+--------------------+--------------------+--------------------+--------------------+--------+---------------+---------------------+-------------------+------------------+-------------------+--------------------+\n",
      "only showing top 20 rows\n",
      "\n"
     ]
    }
   ],
   "source": [
    "df.show()"
   ]
  },
  {
   "cell_type": "code",
   "execution_count": 6,
   "metadata": {},
   "outputs": [
    {
     "name": "stdout",
     "output_type": "stream",
     "text": [
      "root\n",
      " |-- Incident Datetime: string (nullable = true)\n",
      " |-- Incident Date: string (nullable = true)\n",
      " |-- Incident Time: timestamp (nullable = true)\n",
      " |-- Incident Year: integer (nullable = true)\n",
      " |-- Incident Day of Week: string (nullable = true)\n",
      " |-- Report Datetime: string (nullable = true)\n",
      " |-- Row ID: long (nullable = true)\n",
      " |-- Incident ID: integer (nullable = true)\n",
      " |-- Incident Number: integer (nullable = true)\n",
      " |-- CAD Number: integer (nullable = true)\n",
      " |-- Report Type Code: string (nullable = true)\n",
      " |-- Report Type Description: string (nullable = true)\n",
      " |-- Filed Online: boolean (nullable = true)\n",
      " |-- Incident Code: integer (nullable = true)\n",
      " |-- Incident Category: string (nullable = true)\n",
      " |-- Incident Subcategory: string (nullable = true)\n",
      " |-- Incident Description: string (nullable = true)\n",
      " |-- Resolution: string (nullable = true)\n",
      " |-- Intersection: string (nullable = true)\n",
      " |-- CNN: double (nullable = true)\n",
      " |-- Police District: string (nullable = true)\n",
      " |-- Analysis Neighborhood: string (nullable = true)\n",
      " |-- Supervisor District: integer (nullable = true)\n",
      " |-- Latitude: double (nullable = true)\n",
      " |-- Longitude: double (nullable = true)\n",
      " |-- point: string (nullable = true)\n",
      "\n"
     ]
    }
   ],
   "source": [
    "df.printSchema()"
   ]
  },
  {
   "cell_type": "code",
   "execution_count": 7,
   "metadata": {},
   "outputs": [],
   "source": [
    "from pyspark.sql.types import StructType, StructField, StringType, IntegerType, BooleanType, DoubleType, LongType"
   ]
  },
  {
   "cell_type": "code",
   "execution_count": 8,
   "metadata": {},
   "outputs": [],
   "source": [
    "# create a new schema according to our need\n",
    "\n",
    "fileSchema= StructType([StructField('Incident_Datetime', StringType()),\n",
    " StructField('Incident_Date', StringType()),\n",
    " StructField('Incident_Time', StringType()),\n",
    " StructField('Incident_Year', IntegerType()),\n",
    " StructField('Incident_Day_of_Week', StringType()),\n",
    " StructField('Report_Datetime', StringType()),\n",
    " StructField('Row_ID', LongType()),\n",
    " StructField('Incident_ID', IntegerType()),\n",
    " StructField('Incident_Number', IntegerType()),\n",
    " StructField('CAD_Number', IntegerType()),\n",
    " StructField('Report_Type_Code', StringType()),\n",
    " StructField('Report_Type_Description', StringType()),\n",
    " StructField('Filed_Online', BooleanType()),\n",
    " StructField('Incident_Code', IntegerType()),\n",
    " StructField('Incident_Category', StringType()),\n",
    " StructField('Incident_Subcategory', StringType()),\n",
    " StructField('Incident_Description', StringType()),\n",
    " StructField('Resolution', StringType()),\n",
    " StructField('Intersection', StringType()),\n",
    " StructField('CNN', DoubleType()),\n",
    " StructField('Police_District', StringType()),\n",
    " StructField('Analysis_Neighborhood', StringType()),\n",
    " StructField('Supervisor_District', IntegerType()),\n",
    " StructField('Latitude', DoubleType()),\n",
    " StructField('Longitude', DoubleType()),\n",
    " StructField('point', StringType()),])"
   ]
  },
  {
   "cell_type": "code",
   "execution_count": 9,
   "metadata": {},
   "outputs": [],
   "source": [
    "df_withschema= spark.read.csv(\"Police_Department_Incident_Reports__2018_to_Present.csv\", header=True, schema=fileSchema)"
   ]
  },
  {
   "cell_type": "code",
   "execution_count": 10,
   "metadata": {},
   "outputs": [
    {
     "name": "stdout",
     "output_type": "stream",
     "text": [
      "22/12/15 23:46:20 WARN CSVHeaderChecker: CSV header does not conform to the schema.\n",
      " Header: Incident Datetime, Incident Date, Incident Time, Incident Year, Incident Day of Week, Report Datetime, Row ID, Incident ID, Incident Number, CAD Number, Report Type Code, Report Type Description, Filed Online, Incident Code, Incident Category, Incident Subcategory, Incident Description, Resolution, Intersection, CNN, Police District, Analysis Neighborhood, Supervisor District, Latitude, Longitude, point\n",
      " Schema: Incident_Datetime, Incident_Date, Incident_Time, Incident_Year, Incident_Day_of_Week, Report_Datetime, Row_ID, Incident_ID, Incident_Number, CAD_Number, Report_Type_Code, Report_Type_Description, Filed_Online, Incident_Code, Incident_Category, Incident_Subcategory, Incident_Description, Resolution, Intersection, CNN, Police_District, Analysis_Neighborhood, Supervisor_District, Latitude, Longitude, point\n",
      "Expected: Incident_Datetime but found: Incident Datetime\n",
      "CSV file: file:///Users/dipanwitabiswas/Desktop/Data%20Engineering/spark/RDD_structured/Police_Department_Incident_Reports__2018_to_Present.csv\n",
      "+--------------------+-------------+-------------+-------------+--------------------+--------------------+-----------+-----------+---------------+----------+----------------+-----------------------+------------+-------------+--------------------+--------------------+--------------------+--------------------+--------------------+--------+---------------+---------------------+-------------------+------------------+-------------------+--------------------+\n",
      "|   Incident_Datetime|Incident_Date|Incident_Time|Incident_Year|Incident_Day_of_Week|     Report_Datetime|     Row_ID|Incident_ID|Incident_Number|CAD_Number|Report_Type_Code|Report_Type_Description|Filed_Online|Incident_Code|   Incident_Category|Incident_Subcategory|Incident_Description|          Resolution|        Intersection|     CNN|Police_District|Analysis_Neighborhood|Supervisor_District|          Latitude|          Longitude|               point|\n",
      "+--------------------+-------------+-------------+-------------+--------------------+--------------------+-----------+-----------+---------------+----------+----------------+-----------------------+------------+-------------+--------------------+--------------------+--------------------+--------------------+--------------------+--------+---------------+---------------------+-------------------+------------------+-------------------+--------------------+\n",
      "|2020/05/12 05:45:...|   2020/05/12|        17:45|         2020|             Tuesday|2020/05/13 09:46:...|92897328150|     928973|      206082743|      null|              II|       Coplogic Initial|        true|        28150|  Malicious Mischief|           Vandalism|Malicious Mischie...|      Open or Active|                null|    null|        Bayview|                 null|               null|              null|               null|                null|\n",
      "|2020/05/19 09:00:...|   2020/05/19|        21:00|         2020|             Tuesday|2020/05/20 05:43:...|92899306244|     928993|      206082709|      null|              II|       Coplogic Initial|        true|         6244|       Larceny Theft|Larceny - From Ve...|Theft, From Locke...|      Open or Active|                null|    null|       Southern|                 null|               null|              null|               null|                null|\n",
      "|2020/05/16 06:00:...|   2020/05/16|        18:00|         2020|            Saturday|2020/05/16 10:26:...|92902428150|     929024|      206083296|      null|              II|       Coplogic Initial|        true|        28150|  Malicious Mischief|           Vandalism|Malicious Mischie...|      Open or Active|                null|    null|        Mission|                 null|               null|              null|               null|                null|\n",
      "|2020/03/30 12:00:...|   2020/03/30|        00:00|         2020|              Monday|2020/05/04 11:47:...|92905305073|     929053|      206062193|      null|              IS|    Coplogic Supplement|        true|         5073|            Burglary|    Burglary - Other|Burglary, Other B...|      Open or Active|                null|    null|        Mission|                 null|               null|              null|               null|                null|\n",
      "|2020/02/03 02:45:...|   2020/02/03|        14:45|         2020|              Monday|2020/02/03 05:50:...|89881675000|     898816|      200085557| 200342870|              II|                Initial|        null|        75000|      Missing Person|      Missing Person|        Found Person|      Open or Active|20TH AVE \\ WINSTO...|3.3719E7|        Taraval|            Lakeshore|                  7| 37.72694991292525|-122.47603947349434|(37.7269499129252...|\n",
      "|2020/05/22 10:30:...|   2020/05/22|        10:30|         2020|              Friday|2020/05/22 10:30:...|92915671012|     929156|      200271370|      null|              VS|     Vehicle Supplement|        null|        71012|      Other Offenses|      Other Offenses|License Plate, Re...|      Open or Active|                null|    null|      Out of SF|                 null|               null|              null|               null|                null|\n",
      "|2020/02/03 03:45:...|   2020/02/03|        03:45|         2020|              Monday|2020/02/03 03:45:...|89860711012|     898607|      200083749| 200340316|              II|                Initial|        null|        11012|     Stolen Property|     Stolen Property|Stolen Property, ...|Cite or Arrest Adult|24TH ST \\ SHOTWEL...|2.4064E7|        Mission|              Mission|                  9|37.752439644389675|-122.41517229045435|(37.7524396443896...|\n",
      "|2020/02/03 10:00:...|   2020/02/03|        10:00|         2020|              Monday|2020/02/03 10:06:...|89867264015|     898672|      200084060| 200340808|              II|                Initial|        null|        64015|        Non-Criminal|               Other|Aided Case, Injur...|      Open or Active|MARKET ST \\ POWEL...|3.4016E7|     Tenderloin| Financial Distric...|                  3|37.784560141211806|-122.40733704162238|(37.7845601412118...|\n",
      "|2020/01/19 05:12:...|   2020/01/19|        17:12|         2020|              Sunday|2020/02/01 01:01:...|89863571000|     898635|      206024187|      null|              II|       Coplogic Initial|        true|        71000|       Lost Property|       Lost Property|       Lost Property|      Open or Active|                null|    null|        Taraval|                 null|               null|              null|               null|                null|\n",
      "|2020/01/05 12:00:...|   2020/01/05|        00:00|         2020|              Sunday|2020/02/03 04:09:...|89877368020|     898773|      200085193| 200342341|              II|                Initial|        null|        68020|Miscellaneous Inv...|Miscellaneous Inv...|Miscellaneous Inv...|      Open or Active|PINE ST \\ DIVISAD...|2.6643E7|       Richmond|      Pacific Heights|                  2| 37.78711245591735|-122.44024995765258|(37.7871124559173...|\n",
      "|2020/02/03 08:36:...|   2020/02/03|        08:36|         2020|              Monday|2020/02/03 08:36:...|89876268020|     898762|      200083909| 200340826|              II|                Initial|        null|        68020|Miscellaneous Inv...|Miscellaneous Inv...|Miscellaneous Inv...|      Open or Active|FRONT ST \\ JACKSO...|2.4697E7|        Central| Financial Distric...|                  3|37.796926429317054|-122.39950750040278|(37.7969264293170...|\n",
      "|2020/01/16 12:01:...|   2020/01/16|        00:01|         2020|            Thursday|2020/01/21 08:05:...|89745215041|     897452|      200050964| 200050964|              IS|     Initial Supplement|        null|        15041|Offences Against ...|     Family Offenses|Elder Adult or De...|           Unfounded|18TH ST \\ SANCHEZ ST| 2.572E7|        Mission|  Castro/Upper Market|                  8| 37.76115547557552| -122.4305735690657|(37.7611554755755...|\n",
      "|2020/01/29 01:41:...|   2020/01/29|        13:41|         2020|           Wednesday|2020/01/31 10:18:...|89862206372|     898622|      206024290|      null|              II|       Coplogic Initial|        true|         6372|       Larceny Theft|Larceny Theft - O...|Theft, Other Prop...|      Open or Active|                null|    null|      Out of SF|                 null|               null|              null|               null|                null|\n",
      "|2020/01/23 05:34:...|   2020/01/23|        17:34|         2020|            Thursday|2020/02/03 10:28:...|89870064085|     898700|      200084167| 200341210|              II|                Initial|        null|        64085| Other Miscellaneous|               Other|Investigative Det...|      Open or Active|MARKET ST \\ COLLI...| 2.582E7|        Mission|  Castro/Upper Market|                  8| 37.76213762477359|-122.43624180667507|(37.7621376247735...|\n",
      "|2020/02/03 07:28:...|   2020/02/03|        07:28|         2020|              Monday|2020/02/03 07:37:...|89865164020|     898651|      200083830| 200340622|              II|                Initial|        null|        64020|        Non-Criminal|               Other|Mental Health Det...|      Open or Active|  OTIS ST \\ BRADY ST|2.4393E7|       Southern|              Mission|                  6| 37.77230320284353|-122.41967183064224|(37.7723032028435...|\n",
      "|2020/02/03 01:50:...|   2020/02/03|        13:50|         2020|              Monday|2020/02/03 01:50:...|89874775025|     898747|      200083761| 200340461|              IS|     Initial Supplement|        null|        75025|        Non-Criminal|        Non-Criminal|Search Warrant Se...|      Open or Active| 26TH ST \\ FOLSOM ST|2.1178E7|        Mission|              Mission|                  9| 37.74930406746458|  -122.413770628689|(37.7493040674645...|\n",
      "|2020/01/10 05:00:...|   2020/01/10|        17:00|         2020|              Friday|2020/02/03 06:54:...|89880771000|     898807|      200085698| 200343140|              II|                Initial|        null|        71000|       Lost Property|       Lost Property|       Lost Property|      Open or Active|VISTA LN \\ CRESTL...|3.2986E7|           Park|           Twin Peaks|                  8| 37.75166941216422|-122.44624479108757|(37.7516694121642...|\n",
      "|2020/02/03 07:00:...|   2020/02/03|        19:00|         2020|              Monday|2020/02/03 08:18:...|89883906153|     898839|      200085905| 200343364|              II|                Initial|        null|         6153|       Larceny Theft|Larceny Theft - O...|Theft, From Perso...|      Open or Active|03RD ST \\ KIRKWOO...|2.0223E7|        Bayview| Bayview Hunters P...|                 10|   37.737955394873|-122.38958738129647|(37.737955394873,...|\n",
      "|2020/01/31 04:00:...|   2020/01/31|        04:00|         2020|              Friday|2020/02/02 11:08:...|89848168020|     898481|      200082246| 200331285|              II|                Initial|        null|        68020|Miscellaneous Inv...|Miscellaneous Inv...|Miscellaneous Inv...|      Open or Active|FILLMORE ST \\ PAC...|2.6657E7|       Northern|      Pacific Heights|                  2| 37.79334728396327|-122.43473366442743|(37.7933472839632...|\n",
      "|2020/01/31 08:00:...|   2020/01/31|        08:00|         2020|              Friday|2020/02/03 08:12:...|89865606241|     898656|      200083846| 200340732|              II|                Initial|        null|         6241|       Larceny Theft|Larceny - From Ve...|Theft, From Locke...|      Open or Active|WEBSTER ST \\ PACI...|2.6656E7|       Northern|      Pacific Heights|                  2|  37.7935575533924|-122.43308841758456|(37.7935575533924...|\n",
      "+--------------------+-------------+-------------+-------------+--------------------+--------------------+-----------+-----------+---------------+----------+----------------+-----------------------+------------+-------------+--------------------+--------------------+--------------------+--------------------+--------------------+--------+---------------+---------------------+-------------------+------------------+-------------------+--------------------+\n",
      "only showing top 20 rows\n",
      "\n"
     ]
    }
   ],
   "source": [
    "df_withschema.show()"
   ]
  },
  {
   "cell_type": "code",
   "execution_count": 11,
   "metadata": {},
   "outputs": [
    {
     "name": "stdout",
     "output_type": "stream",
     "text": [
      "root\n",
      " |-- Incident_Datetime: string (nullable = true)\n",
      " |-- Incident_Date: string (nullable = true)\n",
      " |-- Incident_Time: string (nullable = true)\n",
      " |-- Incident_Year: integer (nullable = true)\n",
      " |-- Incident_Day_of_Week: string (nullable = true)\n",
      " |-- Report_Datetime: string (nullable = true)\n",
      " |-- Row_ID: long (nullable = true)\n",
      " |-- Incident_ID: integer (nullable = true)\n",
      " |-- Incident_Number: integer (nullable = true)\n",
      " |-- CAD_Number: integer (nullable = true)\n",
      " |-- Report_Type_Code: string (nullable = true)\n",
      " |-- Report_Type_Description: string (nullable = true)\n",
      " |-- Filed_Online: boolean (nullable = true)\n",
      " |-- Incident_Code: integer (nullable = true)\n",
      " |-- Incident_Category: string (nullable = true)\n",
      " |-- Incident_Subcategory: string (nullable = true)\n",
      " |-- Incident_Description: string (nullable = true)\n",
      " |-- Resolution: string (nullable = true)\n",
      " |-- Intersection: string (nullable = true)\n",
      " |-- CNN: double (nullable = true)\n",
      " |-- Police_District: string (nullable = true)\n",
      " |-- Analysis_Neighborhood: string (nullable = true)\n",
      " |-- Supervisor_District: integer (nullable = true)\n",
      " |-- Latitude: double (nullable = true)\n",
      " |-- Longitude: double (nullable = true)\n",
      " |-- point: string (nullable = true)\n",
      "\n"
     ]
    }
   ],
   "source": [
    "df_withschema.printSchema()"
   ]
  },
  {
   "cell_type": "code",
   "execution_count": 12,
   "metadata": {},
   "outputs": [
    {
     "name": "stdout",
     "output_type": "stream",
     "text": [
      "22/12/15 23:46:21 WARN CSVHeaderChecker: CSV header does not conform to the schema.\n",
      " Header: Incident Datetime, Incident Date, Incident Time, Incident Year, Incident Day of Week, Report Datetime, Row ID, Incident ID, Incident Number, CAD Number, Report Type Code, Report Type Description, Filed Online, Incident Code, Incident Category, Incident Subcategory, Incident Description, Resolution, Intersection, CNN, Police District, Analysis Neighborhood, Supervisor District, Latitude, Longitude, point\n",
      " Schema: Incident_Datetime, Incident_Date, Incident_Time, Incident_Year, Incident_Day_of_Week, Report_Datetime, Row_ID, Incident_ID, Incident_Number, CAD_Number, Report_Type_Code, Report_Type_Description, Filed_Online, Incident_Code, Incident_Category, Incident_Subcategory, Incident_Description, Resolution, Intersection, CNN, Police_District, Analysis_Neighborhood, Supervisor_District, Latitude, Longitude, point\n",
      "Expected: Incident_Datetime but found: Incident Datetime\n",
      "CSV file: file:///Users/dipanwitabiswas/Desktop/Data%20Engineering/spark/RDD_structured/Police_Department_Incident_Reports__2018_to_Present.csv\n",
      "+--------------------+-------------+-------------+-------------+--------------------+--------------------+-----------+-----------+---------------+----------+----------------+-----------------------+------------+-------------+------------------+--------------------+--------------------+--------------+--------------------+--------+---------------+---------------------+-------------------+-----------------+-------------------+--------------------+\n",
      "|   Incident_Datetime|Incident_Date|Incident_Time|Incident_Year|Incident_Day_of_Week|     Report_Datetime|     Row_ID|Incident_ID|Incident_Number|CAD_Number|Report_Type_Code|Report_Type_Description|Filed_Online|Incident_Code| Incident_Category|Incident_Subcategory|Incident_Description|    Resolution|        Intersection|     CNN|Police_District|Analysis_Neighborhood|Supervisor_District|         Latitude|          Longitude|               point|\n",
      "+--------------------+-------------+-------------+-------------+--------------------+--------------------+-----------+-----------+---------------+----------+----------------+-----------------------+------------+-------------+------------------+--------------------+--------------------+--------------+--------------------+--------+---------------+---------------------+-------------------+-----------------+-------------------+--------------------+\n",
      "|2020/05/12 05:45:...|   2020/05/12|        17:45|         2020|             Tuesday|2020/05/13 09:46:...|92897328150|     928973|      206082743|      null|              II|       Coplogic Initial|        true|        28150|Malicious Mischief|           Vandalism|Malicious Mischie...|Open or Active|                null|    null|        Bayview|                 null|               null|             null|               null|                null|\n",
      "|2020/05/19 09:00:...|   2020/05/19|        21:00|         2020|             Tuesday|2020/05/20 05:43:...|92899306244|     928993|      206082709|      null|              II|       Coplogic Initial|        true|         6244|     Larceny Theft|Larceny - From Ve...|Theft, From Locke...|Open or Active|                null|    null|       Southern|                 null|               null|             null|               null|                null|\n",
      "|2020/05/16 06:00:...|   2020/05/16|        18:00|         2020|            Saturday|2020/05/16 10:26:...|92902428150|     929024|      206083296|      null|              II|       Coplogic Initial|        true|        28150|Malicious Mischief|           Vandalism|Malicious Mischie...|Open or Active|                null|    null|        Mission|                 null|               null|             null|               null|                null|\n",
      "|2020/03/30 12:00:...|   2020/03/30|        00:00|         2020|              Monday|2020/05/04 11:47:...|92905305073|     929053|      206062193|      null|              IS|    Coplogic Supplement|        true|         5073|          Burglary|    Burglary - Other|Burglary, Other B...|Open or Active|                null|    null|        Mission|                 null|               null|             null|               null|                null|\n",
      "|2020/02/03 02:45:...|   2020/02/03|        14:45|         2020|              Monday|2020/02/03 05:50:...|89881675000|     898816|      200085557| 200342870|              II|                Initial|        null|        75000|    Missing Person|      Missing Person|        Found Person|Open or Active|20TH AVE \\ WINSTO...|3.3719E7|        Taraval|            Lakeshore|                  7|37.72694991292525|-122.47603947349434|(37.7269499129252...|\n",
      "+--------------------+-------------+-------------+-------------+--------------------+--------------------+-----------+-----------+---------------+----------+----------------+-----------------------+------------+-------------+------------------+--------------------+--------------------+--------------+--------------------+--------+---------------+---------------------+-------------------+-----------------+-------------------+--------------------+\n",
      "only showing top 5 rows\n",
      "\n"
     ]
    }
   ],
   "source": [
    "df_withschema.show(5)"
   ]
  },
  {
   "cell_type": "code",
   "execution_count": 13,
   "metadata": {},
   "outputs": [
    {
     "data": {
      "text/plain": [
       "['Incident_Datetime',\n",
       " 'Incident_Date',\n",
       " 'Incident_Time',\n",
       " 'Incident_Year',\n",
       " 'Incident_Day_of_Week',\n",
       " 'Report_Datetime',\n",
       " 'Row_ID',\n",
       " 'Incident_ID',\n",
       " 'Incident_Number',\n",
       " 'CAD_Number',\n",
       " 'Report_Type_Code',\n",
       " 'Report_Type_Description',\n",
       " 'Filed_Online',\n",
       " 'Incident_Code',\n",
       " 'Incident_Category',\n",
       " 'Incident_Subcategory',\n",
       " 'Incident_Description',\n",
       " 'Resolution',\n",
       " 'Intersection',\n",
       " 'CNN',\n",
       " 'Police_District',\n",
       " 'Analysis_Neighborhood',\n",
       " 'Supervisor_District',\n",
       " 'Latitude',\n",
       " 'Longitude',\n",
       " 'point']"
      ]
     },
     "execution_count": 13,
     "metadata": {},
     "output_type": "execute_result"
    }
   ],
   "source": [
    "df_withschema.columns"
   ]
  },
  {
   "cell_type": "code",
   "execution_count": 14,
   "metadata": {},
   "outputs": [
    {
     "name": "stdout",
     "output_type": "stream",
     "text": [
      "22/12/15 23:46:21 WARN CSVHeaderChecker: CSV header does not conform to the schema.\n",
      " Header: Incident ID, Incident Category\n",
      " Schema: Incident_ID, Incident_Category\n",
      "Expected: Incident_ID but found: Incident ID\n",
      "CSV file: file:///Users/dipanwitabiswas/Desktop/Data%20Engineering/spark/RDD_structured/Police_Department_Incident_Reports__2018_to_Present.csv\n",
      "+-----------+--------------------+\n",
      "|Incident_ID|   Incident_Category|\n",
      "+-----------+--------------------+\n",
      "|     928973|  Malicious Mischief|\n",
      "|     928993|       Larceny Theft|\n",
      "|     929024|  Malicious Mischief|\n",
      "|     929053|            Burglary|\n",
      "|     898816|      Missing Person|\n",
      "|     929156|      Other Offenses|\n",
      "|     898607|     Stolen Property|\n",
      "|     898672|        Non-Criminal|\n",
      "|     898635|       Lost Property|\n",
      "|     898773|Miscellaneous Inv...|\n",
      "|     898762|Miscellaneous Inv...|\n",
      "|     897452|Offences Against ...|\n",
      "|     898622|       Larceny Theft|\n",
      "|     898700| Other Miscellaneous|\n",
      "|     898651|        Non-Criminal|\n",
      "|     898747|        Non-Criminal|\n",
      "|     898807|       Lost Property|\n",
      "|     898839|       Larceny Theft|\n",
      "|     898481|Miscellaneous Inv...|\n",
      "|     898656|       Larceny Theft|\n",
      "+-----------+--------------------+\n",
      "only showing top 20 rows\n",
      "\n"
     ]
    }
   ],
   "source": [
    "# select(): It is used to select particular columns.\n",
    "# show(): It is used to show the rows in a dataframe. default it shows only 20 rows.\n",
    "# \n",
    "df_withschema.select(['Incident_ID','Incident_Category' ]).show()"
   ]
  },
  {
   "cell_type": "code",
   "execution_count": 15,
   "metadata": {},
   "outputs": [
    {
     "name": "stdout",
     "output_type": "stream",
     "text": [
      "22/12/15 23:46:21 WARN CSVHeaderChecker: CSV header does not conform to the schema.\n",
      " Header: Incident Category\n",
      " Schema: Incident_Category\n",
      "Expected: Incident_Category but found: Incident Category\n",
      "CSV file: file:///Users/dipanwitabiswas/Desktop/Data%20Engineering/spark/RDD_structured/Police_Department_Incident_Reports__2018_to_Present.csv\n",
      "+--------------------+\n",
      "|   Incident_Category|\n",
      "+--------------------+\n",
      "|   Vehicle Misplaced|\n",
      "|          Suspicious|\n",
      "|Forgery And Count...|\n",
      "|         Sex Offense|\n",
      "|      Family Offense|\n",
      "+--------------------+\n",
      "only showing top 5 rows\n",
      "\n"
     ]
    },
    {
     "name": "stderr",
     "output_type": "stream",
     "text": [
      "                                                                                \r"
     ]
    }
   ],
   "source": [
    "# show disctinct category\n",
    "df_withschema.select('Incident_Category').distinct().show(5)"
   ]
  },
  {
   "cell_type": "code",
   "execution_count": 16,
   "metadata": {},
   "outputs": [
    {
     "name": "stdout",
     "output_type": "stream",
     "text": [
      "22/12/15 23:46:22 WARN CSVHeaderChecker: CSV header does not conform to the schema.\n",
      " Header: Incident Category\n",
      " Schema: Incident_Category\n",
      "Expected: Incident_Category but found: Incident Category\n",
      "CSV file: file:///Users/dipanwitabiswas/Desktop/Data%20Engineering/spark/RDD_structured/Police_Department_Incident_Reports__2018_to_Present.csv\n",
      "+--------------------------------------------+\n",
      "|Incident_Category                           |\n",
      "+--------------------------------------------+\n",
      "|Vehicle Misplaced                           |\n",
      "|Suspicious                                  |\n",
      "|Forgery And Counterfeiting                  |\n",
      "|Sex Offense                                 |\n",
      "|Family Offense                              |\n",
      "|Fire Report                                 |\n",
      "|Assault                                     |\n",
      "|Recovered Vehicle                           |\n",
      "|Drug Violation                              |\n",
      "|Robbery                                     |\n",
      "|Motor Vehicle Theft?                        |\n",
      "|Embezzlement                                |\n",
      "|Vehicle Impounded                           |\n",
      "|null                                        |\n",
      "|Missing Person                              |\n",
      "|Rape                                        |\n",
      "|Human Trafficking (B), Involuntary Servitude|\n",
      "|Human Trafficking, Commercial Sex Acts      |\n",
      "|Lost Property                               |\n",
      "|Arson                                       |\n",
      "+--------------------------------------------+\n",
      "only showing top 20 rows\n",
      "\n"
     ]
    }
   ],
   "source": [
    "# show all data\n",
    "df_withschema.select('Incident_Category').distinct().show(truncate=False)"
   ]
  },
  {
   "cell_type": "code",
   "execution_count": 17,
   "metadata": {},
   "outputs": [
    {
     "name": "stdout",
     "output_type": "stream",
     "text": [
      "22/12/15 23:46:22 WARN CSVHeaderChecker: CSV header does not conform to the schema.\n",
      " Header: Incident Category\n",
      " Schema: Incident_Category\n",
      "Expected: Incident_Category but found: Incident Category\n",
      "CSV file: file:///Users/dipanwitabiswas/Desktop/Data%20Engineering/spark/RDD_structured/Police_Department_Incident_Reports__2018_to_Present.csv\n",
      "+--------------------+------+\n",
      "|   Incident_Category| count|\n",
      "+--------------------+------+\n",
      "|       Larceny Theft|112063|\n",
      "| Other Miscellaneous| 26651|\n",
      "|        Non-Criminal| 21916|\n",
      "|  Malicious Mischief| 21721|\n",
      "|             Assault| 20939|\n",
      "|            Burglary| 16694|\n",
      "| Motor Vehicle Theft| 13406|\n",
      "|             Warrant| 12575|\n",
      "|       Lost Property| 12488|\n",
      "|   Recovered Vehicle| 10660|\n",
      "|               Fraud| 10423|\n",
      "|        Drug Offense|  8937|\n",
      "|             Robbery|  8364|\n",
      "|      Missing Person|  8099|\n",
      "|Offences Against ...|  6890|\n",
      "|      Suspicious Occ|  6684|\n",
      "|  Disorderly Conduct|  6231|\n",
      "|Traffic Violation...|  4458|\n",
      "|Miscellaneous Inv...|  3175|\n",
      "|      Other Offenses|  2814|\n",
      "+--------------------+------+\n",
      "only showing top 20 rows\n",
      "\n"
     ]
    }
   ],
   "source": [
    "# count of each category\n",
    "# groupBy('Incident_Category'): It groups the same incident categories so that some aggregation can be applied on the grouped data.\n",
    "# count(): we count the number of rows in each group.\n",
    "# orderby(): The count is ordered such that the incident category with the most number of incidents appear first.\n",
    "df_withschema.groupBy('Incident_Category').count().orderBy('count', ascending=False).show()\n"
   ]
  },
  {
   "cell_type": "code",
   "execution_count": 18,
   "metadata": {},
   "outputs": [
    {
     "name": "stdout",
     "output_type": "stream",
     "text": [
      "22/12/15 23:46:23 WARN CSVHeaderChecker: CSV header does not conform to the schema.\n",
      " Header: Incident Category\n",
      " Schema: Incident_Category\n",
      "Expected: Incident_Category but found: Incident Category\n",
      "CSV file: file:///Users/dipanwitabiswas/Desktop/Data%20Engineering/spark/RDD_structured/Police_Department_Incident_Reports__2018_to_Present.csv\n",
      "+----------------------------------------+------+\n",
      "|Incident_Category                       |count |\n",
      "+----------------------------------------+------+\n",
      "|Larceny Theft                           |112063|\n",
      "|Other Miscellaneous                     |26651 |\n",
      "|Non-Criminal                            |21916 |\n",
      "|Malicious Mischief                      |21721 |\n",
      "|Assault                                 |20939 |\n",
      "|Burglary                                |16694 |\n",
      "|Motor Vehicle Theft                     |13406 |\n",
      "|Warrant                                 |12575 |\n",
      "|Lost Property                           |12488 |\n",
      "|Recovered Vehicle                       |10660 |\n",
      "|Fraud                                   |10423 |\n",
      "|Drug Offense                            |8937  |\n",
      "|Robbery                                 |8364  |\n",
      "|Missing Person                          |8099  |\n",
      "|Offences Against The Family And Children|6890  |\n",
      "|Suspicious Occ                          |6684  |\n",
      "|Disorderly Conduct                      |6231  |\n",
      "|Traffic Violation Arrest                |4458  |\n",
      "|Miscellaneous Investigation             |3175  |\n",
      "|Other Offenses                          |2814  |\n",
      "+----------------------------------------+------+\n",
      "only showing top 20 rows\n",
      "\n"
     ]
    }
   ],
   "source": [
    "# count of each category\n",
    "# truncate: This attribute is used to specify whether the full Incident Category string should appear or not.\n",
    "df_category_count=df_withschema.groupBy('Incident_Category').count()\n",
    "df_category_count.orderBy(df_category_count['count'].desc()).show( truncate=False)"
   ]
  },
  {
   "cell_type": "code",
   "execution_count": 19,
   "metadata": {},
   "outputs": [],
   "source": [
    "# convert date from string to datetime\n",
    "from pyspark.sql.functions import *\n",
    "\n"
   ]
  },
  {
   "cell_type": "code",
   "execution_count": 20,
   "metadata": {},
   "outputs": [
    {
     "name": "stdout",
     "output_type": "stream",
     "text": [
      "22/12/15 23:46:24 WARN CSVHeaderChecker: CSV header does not conform to the schema.\n",
      " Header: Incident Datetime\n",
      " Schema: Incident_Datetime\n",
      "Expected: Incident_Datetime but found: Incident Datetime\n",
      "CSV file: file:///Users/dipanwitabiswas/Desktop/Data%20Engineering/spark/RDD_structured/Police_Department_Incident_Reports__2018_to_Present.csv\n",
      "+----------------------+\n",
      "|Incident_Datetime     |\n",
      "+----------------------+\n",
      "|2020/05/12 05:45:00 PM|\n",
      "|2020/05/19 09:00:00 PM|\n",
      "|2020/05/16 06:00:00 PM|\n",
      "|2020/03/30 12:00:00 AM|\n",
      "|2020/02/03 02:45:00 PM|\n",
      "+----------------------+\n",
      "only showing top 5 rows\n",
      "\n"
     ]
    }
   ],
   "source": [
    "df_withschema.select('Incident_Datetime').show(5, truncate=False)"
   ]
  },
  {
   "cell_type": "code",
   "execution_count": 21,
   "metadata": {},
   "outputs": [],
   "source": [
    "pattern= 'yyyy/MM/dd hh:mm:ss a'\n",
    "df_withschema2= df_withschema.withColumn('Incident_Datetime', to_timestamp(df_withschema['Incident_Datetime'], pattern))"
   ]
  },
  {
   "cell_type": "code",
   "execution_count": 22,
   "metadata": {},
   "outputs": [
    {
     "name": "stdout",
     "output_type": "stream",
     "text": [
      "22/12/15 23:46:24 WARN CSVHeaderChecker: CSV header does not conform to the schema.\n",
      " Header: Incident Datetime, Incident Date, Incident Time, Incident Year, Incident Day of Week, Report Datetime, Row ID, Incident ID, Incident Number, CAD Number, Report Type Code, Report Type Description, Filed Online, Incident Code, Incident Category, Incident Subcategory, Incident Description, Resolution, Intersection, CNN, Police District, Analysis Neighborhood, Supervisor District, Latitude, Longitude, point\n",
      " Schema: Incident_Datetime, Incident_Date, Incident_Time, Incident_Year, Incident_Day_of_Week, Report_Datetime, Row_ID, Incident_ID, Incident_Number, CAD_Number, Report_Type_Code, Report_Type_Description, Filed_Online, Incident_Code, Incident_Category, Incident_Subcategory, Incident_Description, Resolution, Intersection, CNN, Police_District, Analysis_Neighborhood, Supervisor_District, Latitude, Longitude, point\n",
      "Expected: Incident_Datetime but found: Incident Datetime\n",
      "CSV file: file:///Users/dipanwitabiswas/Desktop/Data%20Engineering/spark/RDD_structured/Police_Department_Incident_Reports__2018_to_Present.csv\n",
      "+-------------------+-------------+-------------+-------------+--------------------+--------------------+-----------+-----------+---------------+----------+----------------+-----------------------+------------+-------------+------------------+--------------------+--------------------+--------------+------------+----+---------------+---------------------+-------------------+--------+---------+-----+\n",
      "|  Incident_Datetime|Incident_Date|Incident_Time|Incident_Year|Incident_Day_of_Week|     Report_Datetime|     Row_ID|Incident_ID|Incident_Number|CAD_Number|Report_Type_Code|Report_Type_Description|Filed_Online|Incident_Code| Incident_Category|Incident_Subcategory|Incident_Description|    Resolution|Intersection| CNN|Police_District|Analysis_Neighborhood|Supervisor_District|Latitude|Longitude|point|\n",
      "+-------------------+-------------+-------------+-------------+--------------------+--------------------+-----------+-----------+---------------+----------+----------------+-----------------------+------------+-------------+------------------+--------------------+--------------------+--------------+------------+----+---------------+---------------------+-------------------+--------+---------+-----+\n",
      "|2020-05-12 17:45:00|   2020/05/12|        17:45|         2020|             Tuesday|2020/05/13 09:46:...|92897328150|     928973|      206082743|      null|              II|       Coplogic Initial|        true|        28150|Malicious Mischief|           Vandalism|Malicious Mischie...|Open or Active|        null|null|        Bayview|                 null|               null|    null|     null| null|\n",
      "+-------------------+-------------+-------------+-------------+--------------------+--------------------+-----------+-----------+---------------+----------+----------------+-----------------------+------------+-------------+------------------+--------------------+--------------------+--------------+------------+----+---------------+---------------------+-------------------+--------+---------+-----+\n",
      "only showing top 1 row\n",
      "\n"
     ]
    }
   ],
   "source": [
    "df_withschema2.show(1)"
   ]
  },
  {
   "cell_type": "code",
   "execution_count": 23,
   "metadata": {},
   "outputs": [
    {
     "name": "stdout",
     "output_type": "stream",
     "text": [
      "root\n",
      " |-- Incident_Datetime: timestamp (nullable = true)\n",
      " |-- Incident_Date: string (nullable = true)\n",
      " |-- Incident_Time: string (nullable = true)\n",
      " |-- Incident_Year: integer (nullable = true)\n",
      " |-- Incident_Day_of_Week: string (nullable = true)\n",
      " |-- Report_Datetime: string (nullable = true)\n",
      " |-- Row_ID: long (nullable = true)\n",
      " |-- Incident_ID: integer (nullable = true)\n",
      " |-- Incident_Number: integer (nullable = true)\n",
      " |-- CAD_Number: integer (nullable = true)\n",
      " |-- Report_Type_Code: string (nullable = true)\n",
      " |-- Report_Type_Description: string (nullable = true)\n",
      " |-- Filed_Online: boolean (nullable = true)\n",
      " |-- Incident_Code: integer (nullable = true)\n",
      " |-- Incident_Category: string (nullable = true)\n",
      " |-- Incident_Subcategory: string (nullable = true)\n",
      " |-- Incident_Description: string (nullable = true)\n",
      " |-- Resolution: string (nullable = true)\n",
      " |-- Intersection: string (nullable = true)\n",
      " |-- CNN: double (nullable = true)\n",
      " |-- Police_District: string (nullable = true)\n",
      " |-- Analysis_Neighborhood: string (nullable = true)\n",
      " |-- Supervisor_District: integer (nullable = true)\n",
      " |-- Latitude: double (nullable = true)\n",
      " |-- Longitude: double (nullable = true)\n",
      " |-- point: string (nullable = true)\n",
      "\n"
     ]
    }
   ],
   "source": [
    "df_withschema2.printSchema()"
   ]
  },
  {
   "cell_type": "code",
   "execution_count": 24,
   "metadata": {},
   "outputs": [
    {
     "name": "stdout",
     "output_type": "stream",
     "text": [
      "22/12/15 23:46:24 WARN CSVHeaderChecker: CSV header does not conform to the schema.\n",
      " Header: Incident Datetime\n",
      " Schema: Incident_Datetime\n",
      "Expected: Incident_Datetime but found: Incident Datetime\n",
      "CSV file: file:///Users/dipanwitabiswas/Desktop/Data%20Engineering/spark/RDD_structured/Police_Department_Incident_Reports__2018_to_Present.csv\n"
     ]
    },
    {
     "name": "stderr",
     "output_type": "stream",
     "text": [
      "[Stage 20:>                                                         (0 + 1) / 1]\r"
     ]
    },
    {
     "name": "stdout",
     "output_type": "stream",
     "text": [
      "+-----------------------+\n",
      "|year(Incident_Datetime)|\n",
      "+-----------------------+\n",
      "|                   2018|\n",
      "|                   2019|\n",
      "|                   2020|\n",
      "+-----------------------+\n",
      "\n"
     ]
    },
    {
     "name": "stderr",
     "output_type": "stream",
     "text": [
      "                                                                                \r"
     ]
    }
   ],
   "source": [
    "df_withschema2.select(year('Incident_Datetime')).distinct().show()"
   ]
  },
  {
   "cell_type": "code",
   "execution_count": 25,
   "metadata": {},
   "outputs": [
    {
     "data": {
      "text/plain": [
       "DataFrame[Incident_Datetime: timestamp, Incident_Date: string, Incident_Time: string, Incident_Year: int, Incident_Day_of_Week: string, Report_Datetime: string, Row_ID: bigint, Incident_ID: int, Incident_Number: int, CAD_Number: int, Report_Type_Code: string, Report_Type_Description: string, Filed_Online: boolean, Incident_Code: int, Incident_Category: string, Incident_Subcategory: string, Incident_Description: string, Resolution: string, Intersection: string, CNN: double, Police_District: string, Neighbourhood: string, Supervisor_District: int, Latitude: double, Longitude: double, point: string]"
      ]
     },
     "execution_count": 25,
     "metadata": {},
     "output_type": "execute_result"
    }
   ],
   "source": [
    "# rename column\n",
    "\n",
    "df_withschema2.withColumnRenamed('Analysis_Neighborhood', 'Neighbourhood')"
   ]
  },
  {
   "cell_type": "code",
   "execution_count": 26,
   "metadata": {},
   "outputs": [
    {
     "name": "stdout",
     "output_type": "stream",
     "text": [
      "root\n",
      " |-- Incident_Datetime: timestamp (nullable = true)\n",
      " |-- Incident_Date: string (nullable = true)\n",
      " |-- Incident_Time: string (nullable = true)\n",
      " |-- Incident_Year: integer (nullable = true)\n",
      " |-- Incident_Day_of_Week: string (nullable = true)\n",
      " |-- Report_Datetime: string (nullable = true)\n",
      " |-- Row_ID: long (nullable = true)\n",
      " |-- Incident_ID: integer (nullable = true)\n",
      " |-- Incident_Number: integer (nullable = true)\n",
      " |-- CAD_Number: integer (nullable = true)\n",
      " |-- Report_Type_Code: string (nullable = true)\n",
      " |-- Report_Type_Description: string (nullable = true)\n",
      " |-- Filed_Online: boolean (nullable = true)\n",
      " |-- Incident_Code: integer (nullable = true)\n",
      " |-- Incident_Category: string (nullable = true)\n",
      " |-- Incident_Subcategory: string (nullable = true)\n",
      " |-- Incident_Description: string (nullable = true)\n",
      " |-- Resolution: string (nullable = true)\n",
      " |-- Intersection: string (nullable = true)\n",
      " |-- CNN: double (nullable = true)\n",
      " |-- Police_District: string (nullable = true)\n",
      " |-- Analysis_Neighborhood: string (nullable = true)\n",
      " |-- Supervisor_District: integer (nullable = true)\n",
      " |-- Latitude: double (nullable = true)\n",
      " |-- Longitude: double (nullable = true)\n",
      " |-- point: string (nullable = true)\n",
      "\n"
     ]
    }
   ],
   "source": [
    "df_withschema2.printSchema()"
   ]
  },
  {
   "cell_type": "code",
   "execution_count": 27,
   "metadata": {},
   "outputs": [
    {
     "data": {
      "text/plain": [
       "['Incident_Datetime',\n",
       " 'Incident_Date',\n",
       " 'Incident_Time',\n",
       " 'Incident_Year',\n",
       " 'Incident_Day_of_Week',\n",
       " 'Report_Datetime',\n",
       " 'Row_ID',\n",
       " 'Incident_ID',\n",
       " 'Incident_Number',\n",
       " 'CAD_Number',\n",
       " 'Report_Type_Code',\n",
       " 'Report_Type_Description',\n",
       " 'Filed_Online',\n",
       " 'Incident_Code',\n",
       " 'Incident_Category',\n",
       " 'Incident_Subcategory',\n",
       " 'Incident_Description',\n",
       " 'Resolution',\n",
       " 'Intersection',\n",
       " 'CNN',\n",
       " 'Police_District',\n",
       " 'Supervisor_District',\n",
       " 'Latitude',\n",
       " 'Longitude',\n",
       " 'point']"
      ]
     },
     "execution_count": 27,
     "metadata": {},
     "output_type": "execute_result"
    }
   ],
   "source": [
    "\n",
    " # drop column\n",
    "\n",
    "df_withschema2.drop('Analysis_Neighborhood').columns\n"
   ]
  },
  {
   "cell_type": "code",
   "execution_count": 28,
   "metadata": {},
   "outputs": [
    {
     "data": {
      "text/plain": [
       "DataFrame[Incident_Datetime: timestamp, Incident_Date: string, Incident_Time: string, Incident_Year: int, Incident_Day_of_Week: string, Report_Datetime: string, Row_ID: bigint, Incident_ID: int, Incident_Number: int, CAD_Number: int, Report_Type_Code: string, Report_Type_Description: string, Filed_Online: boolean, Incident_Code: int, Incident_Category: string, Incident_Subcategory: string, Incident_Description: string, Resolution: string, Intersection: string, CNN: double, Police_District: string, Analysis_Neighborhood: int, Supervisor_District: int, Latitude: double, Longitude: double, point: string]"
      ]
     },
     "execution_count": 28,
     "metadata": {},
     "output_type": "execute_result"
    }
   ],
   "source": [
    "# chage datatype\n",
    "\n",
    "df_withschema2.withColumn('Analysis_Neighborhood', col('Analysis_Neighborhood').cast('Int'))\n"
   ]
  },
  {
   "cell_type": "code",
   "execution_count": 29,
   "metadata": {},
   "outputs": [
    {
     "name": "stdout",
     "output_type": "stream",
     "text": [
      "root\n",
      " |-- Incident_Datetime: timestamp (nullable = true)\n",
      " |-- Incident_Date: string (nullable = true)\n",
      " |-- Incident_Time: string (nullable = true)\n",
      " |-- Incident_Year: integer (nullable = true)\n",
      " |-- Incident_Day_of_Week: string (nullable = true)\n",
      " |-- Report_Datetime: string (nullable = true)\n",
      " |-- Row_ID: long (nullable = true)\n",
      " |-- Incident_ID: integer (nullable = true)\n",
      " |-- Incident_Number: integer (nullable = true)\n",
      " |-- CAD_Number: integer (nullable = true)\n",
      " |-- Report_Type_Code: string (nullable = true)\n",
      " |-- Report_Type_Description: string (nullable = true)\n",
      " |-- Filed_Online: boolean (nullable = true)\n",
      " |-- Incident_Code: integer (nullable = true)\n",
      " |-- Incident_Category: string (nullable = true)\n",
      " |-- Incident_Subcategory: string (nullable = true)\n",
      " |-- Incident_Description: string (nullable = true)\n",
      " |-- Resolution: string (nullable = true)\n",
      " |-- Intersection: string (nullable = true)\n",
      " |-- CNN: double (nullable = true)\n",
      " |-- Police_District: string (nullable = true)\n",
      " |-- Analysis_Neighborhood: string (nullable = true)\n",
      " |-- Supervisor_District: integer (nullable = true)\n",
      " |-- Latitude: double (nullable = true)\n",
      " |-- Longitude: double (nullable = true)\n",
      " |-- point: string (nullable = true)\n",
      "\n"
     ]
    }
   ],
   "source": [
    "df_withschema2.printSchema()"
   ]
  },
  {
   "cell_type": "code",
   "execution_count": 30,
   "metadata": {},
   "outputs": [
    {
     "name": "stdout",
     "output_type": "stream",
     "text": [
      "22/12/15 23:46:25 WARN CSVHeaderChecker: CSV header does not conform to the schema.\n",
      " Header: Incident Date, Incident Time, Incident Year, Report Datetime\n",
      " Schema: Incident_Date, Incident_Time, Incident_Year, Report_Datetime\n",
      "Expected: Incident_Date but found: Incident Date\n",
      "CSV file: file:///Users/dipanwitabiswas/Desktop/Data%20Engineering/spark/RDD_structured/Police_Department_Incident_Reports__2018_to_Present.csv\n",
      "+-------------+-------------+-------------+--------------------+\n",
      "|Incident_Date|Incident_Time|Incident_Year|     Report_Datetime|\n",
      "+-------------+-------------+-------------+--------------------+\n",
      "|   2020/05/12|        17:45|         2020|2020/05/13 09:46:...|\n",
      "|   2020/05/19|        21:00|         2020|2020/05/20 05:43:...|\n",
      "|   2020/05/16|        18:00|         2020|2020/05/16 10:26:...|\n",
      "|   2020/03/30|        00:00|         2020|2020/05/04 11:47:...|\n",
      "|   2020/02/03|        14:45|         2020|2020/02/03 05:50:...|\n",
      "|   2020/05/22|        10:30|         2020|2020/05/22 10:30:...|\n",
      "|   2020/02/03|        03:45|         2020|2020/02/03 03:45:...|\n",
      "|   2020/02/03|        10:00|         2020|2020/02/03 10:06:...|\n",
      "|   2020/01/19|        17:12|         2020|2020/02/01 01:01:...|\n",
      "|   2020/01/05|        00:00|         2020|2020/02/03 04:09:...|\n",
      "|   2020/02/03|        08:36|         2020|2020/02/03 08:36:...|\n",
      "|   2020/01/16|        00:01|         2020|2020/01/21 08:05:...|\n",
      "|   2020/01/29|        13:41|         2020|2020/01/31 10:18:...|\n",
      "|   2020/01/23|        17:34|         2020|2020/02/03 10:28:...|\n",
      "|   2020/02/03|        07:28|         2020|2020/02/03 07:37:...|\n",
      "|   2020/02/03|        13:50|         2020|2020/02/03 01:50:...|\n",
      "|   2020/01/10|        17:00|         2020|2020/02/03 06:54:...|\n",
      "|   2020/02/03|        19:00|         2020|2020/02/03 08:18:...|\n",
      "|   2020/01/31|        04:00|         2020|2020/02/02 11:08:...|\n",
      "|   2020/01/31|        08:00|         2020|2020/02/03 08:12:...|\n",
      "+-------------+-------------+-------------+--------------------+\n",
      "only showing top 20 rows\n",
      "\n"
     ]
    }
   ],
   "source": [
    "# convert to datetime\n",
    "\n",
    "df_withschema2.select([ 'Incident_Date', 'Incident_Time', 'Incident_Year', 'Report_Datetime']).show()"
   ]
  },
  {
   "cell_type": "code",
   "execution_count": 31,
   "metadata": {},
   "outputs": [],
   "source": [
    "pattern1='yyyy/MM/dd'\n",
    "pattern2='hh:mm'\n",
    "pattern3= 'yyyy'\n"
   ]
  },
  {
   "cell_type": "code",
   "execution_count": 32,
   "metadata": {},
   "outputs": [],
   "source": [
    "\n",
    "df_withschema3= df_withschema2.withColumn('Incident_Date', to_date(df_withschema2['Incident_Date'], pattern1))\\\n",
    "    .withColumn('Incident_Time', to_timestamp(df_withschema2['Incident_Time'], pattern2))\\\n",
    "    .withColumn('Report_Datetime', to_timestamp(df_withschema2['Report_Datetime'], pattern))\n"
   ]
  },
  {
   "cell_type": "code",
   "execution_count": 33,
   "metadata": {},
   "outputs": [
    {
     "name": "stdout",
     "output_type": "stream",
     "text": [
      "22/12/15 23:46:25 WARN CSVHeaderChecker: CSV header does not conform to the schema.\n",
      " Header: Incident Date, Incident Time, Incident Year, Report Datetime\n",
      " Schema: Incident_Date, Incident_Time, Incident_Year, Report_Datetime\n",
      "Expected: Incident_Date but found: Incident Date\n",
      "CSV file: file:///Users/dipanwitabiswas/Desktop/Data%20Engineering/spark/RDD_structured/Police_Department_Incident_Reports__2018_to_Present.csv\n",
      "+-------------+-------------------+-------------+-------------------+\n",
      "|Incident_Date|      Incident_Time|Incident_Year|    Report_Datetime|\n",
      "+-------------+-------------------+-------------+-------------------+\n",
      "|   2020-05-12|               null|         2020|2020-05-13 09:46:00|\n",
      "|   2020-05-19|               null|         2020|2020-05-20 17:43:00|\n",
      "|   2020-05-16|               null|         2020|2020-05-16 22:26:00|\n",
      "|   2020-03-30|               null|         2020|2020-05-04 11:47:00|\n",
      "|   2020-02-03|               null|         2020|2020-02-03 17:50:00|\n",
      "|   2020-05-22|1970-01-01 10:30:00|         2020|2020-05-22 10:30:00|\n",
      "|   2020-02-03|1970-01-01 03:45:00|         2020|2020-02-03 03:45:00|\n",
      "|   2020-02-03|1970-01-01 10:00:00|         2020|2020-02-03 10:06:00|\n",
      "|   2020-01-19|               null|         2020|2020-02-01 13:01:00|\n",
      "|   2020-01-05|               null|         2020|2020-02-03 16:09:00|\n",
      "|   2020-02-03|1970-01-01 08:36:00|         2020|2020-02-03 08:36:00|\n",
      "|   2020-01-16|               null|         2020|2020-01-21 08:05:00|\n",
      "|   2020-01-29|               null|         2020|2020-01-31 10:18:00|\n",
      "|   2020-01-23|               null|         2020|2020-02-03 10:28:00|\n",
      "|   2020-02-03|1970-01-01 07:28:00|         2020|2020-02-03 07:37:00|\n",
      "|   2020-02-03|               null|         2020|2020-02-03 13:50:00|\n",
      "|   2020-01-10|               null|         2020|2020-02-03 18:54:00|\n",
      "|   2020-02-03|               null|         2020|2020-02-03 20:18:00|\n",
      "|   2020-01-31|1970-01-01 04:00:00|         2020|2020-02-02 11:08:00|\n",
      "|   2020-01-31|1970-01-01 08:00:00|         2020|2020-02-03 08:12:00|\n",
      "+-------------+-------------------+-------------+-------------------+\n",
      "only showing top 20 rows\n",
      "\n"
     ]
    }
   ],
   "source": [
    "# convert to datetime\n",
    "\n",
    "df_withschema3.select([ 'Incident_Date', 'Incident_Time', 'Incident_Year', 'Report_Datetime']).show()"
   ]
  },
  {
   "cell_type": "code",
   "execution_count": 34,
   "metadata": {},
   "outputs": [
    {
     "name": "stdout",
     "output_type": "stream",
     "text": [
      "22/12/15 23:46:25 WARN CSVHeaderChecker: CSV header does not conform to the schema.\n",
      " Header: Report Datetime\n",
      " Schema: Report_Datetime\n",
      "Expected: Report_Datetime but found: Report Datetime\n",
      "CSV file: file:///Users/dipanwitabiswas/Desktop/Data%20Engineering/spark/RDD_structured/Police_Department_Incident_Reports__2018_to_Present.csv\n",
      "+--------------------------+\n",
      "|dayofweek(Report_Datetime)|\n",
      "+--------------------------+\n",
      "|                         4|\n",
      "|                         4|\n",
      "|                         7|\n",
      "|                         2|\n",
      "|                         2|\n",
      "|                         6|\n",
      "|                         2|\n",
      "|                         2|\n",
      "|                         7|\n",
      "|                         2|\n",
      "|                         2|\n",
      "|                         3|\n",
      "|                         6|\n",
      "|                         2|\n",
      "|                         2|\n",
      "|                         2|\n",
      "|                         2|\n",
      "|                         2|\n",
      "|                         1|\n",
      "|                         2|\n",
      "+--------------------------+\n",
      "only showing top 20 rows\n",
      "\n"
     ]
    }
   ],
   "source": [
    "# datetime operations\n",
    "df_withschema3.select(dayofweek('Report_Datetime')).show()\n"
   ]
  },
  {
   "cell_type": "code",
   "execution_count": 35,
   "metadata": {},
   "outputs": [
    {
     "name": "stdout",
     "output_type": "stream",
     "text": [
      "22/12/15 23:46:25 WARN CSVHeaderChecker: CSV header does not conform to the schema.\n",
      " Header: Report Datetime\n",
      " Schema: Report_Datetime\n",
      "Expected: Report_Datetime but found: Report Datetime\n",
      "CSV file: file:///Users/dipanwitabiswas/Desktop/Data%20Engineering/spark/RDD_structured/Police_Department_Incident_Reports__2018_to_Present.csv\n",
      "+-------------------------------+\n",
      "|date_format(Report_Datetime, E)|\n",
      "+-------------------------------+\n",
      "|                            Wed|\n",
      "|                            Wed|\n",
      "|                            Sat|\n",
      "|                            Mon|\n",
      "|                            Mon|\n",
      "|                            Fri|\n",
      "|                            Mon|\n",
      "|                            Mon|\n",
      "|                            Sat|\n",
      "|                            Mon|\n",
      "|                            Mon|\n",
      "|                            Tue|\n",
      "|                            Fri|\n",
      "|                            Mon|\n",
      "|                            Mon|\n",
      "|                            Mon|\n",
      "|                            Mon|\n",
      "|                            Mon|\n",
      "|                            Sun|\n",
      "|                            Mon|\n",
      "+-------------------------------+\n",
      "only showing top 20 rows\n",
      "\n"
     ]
    }
   ],
   "source": [
    "# weekday\n",
    "df_withschema3.select(date_format('Report_Datetime', 'E')).show()"
   ]
  },
  {
   "cell_type": "code",
   "execution_count": 36,
   "metadata": {},
   "outputs": [],
   "source": [
    "\n",
    "# create a new column with the weekday\n",
    "df_withschema4= df_withschema3.withColumn('dayofweek', date_format('Report_Datetime', 'E'))"
   ]
  },
  {
   "cell_type": "code",
   "execution_count": 37,
   "metadata": {},
   "outputs": [
    {
     "name": "stdout",
     "output_type": "stream",
     "text": [
      "22/12/15 23:46:25 WARN CSVHeaderChecker: CSV header does not conform to the schema.\n",
      " Header: Report Datetime\n",
      " Schema: Report_Datetime\n",
      "Expected: Report_Datetime but found: Report Datetime\n",
      "CSV file: file:///Users/dipanwitabiswas/Desktop/Data%20Engineering/spark/RDD_structured/Police_Department_Incident_Reports__2018_to_Present.csv\n"
     ]
    },
    {
     "name": "stderr",
     "output_type": "stream",
     "text": [
      "                                                                                \r"
     ]
    },
    {
     "name": "stdout",
     "output_type": "stream",
     "text": [
      "+---------+-----+\n",
      "|dayofweek|count|\n",
      "+---------+-----+\n",
      "|      Mon|55468|\n",
      "+---------+-----+\n",
      "only showing top 1 row\n",
      "\n"
     ]
    }
   ],
   "source": [
    "####   Analysis 1 ##############\n",
    "# Find the days of the week on which maximum incidents has happened\n",
    "\n",
    "# perform group by on that\n",
    "df_withschema4.groupBy(\"dayofweek\").count().orderBy('count', ascending=False).show(1)"
   ]
  },
  {
   "cell_type": "code",
   "execution_count": 62,
   "metadata": {},
   "outputs": [
    {
     "name": "stderr",
     "output_type": "stream",
     "text": [
      "/opt/homebrew/lib/python3.9/site-packages/pyspark/sql/dataframe.py:229: FutureWarning: Deprecated in 2.0, use createOrReplaceTempView instead.\n",
      "  warnings.warn(\"Deprecated in 2.0, use createOrReplaceTempView instead.\", FutureWarning)\n"
     ]
    }
   ],
   "source": []
  },
  {
   "cell_type": "code",
   "execution_count": 38,
   "metadata": {},
   "outputs": [],
   "source": [
    "#################  Analysis 2    ####################\n",
    "\n",
    "# What percent of the incidents has been recorded online\n",
    "df_withschema4= df_withschema4.withColumn('Filed_Online', when(col('Filed_Online')== True, True).otherwise(False))\n"
   ]
  },
  {
   "cell_type": "code",
   "execution_count": 41,
   "metadata": {},
   "outputs": [],
   "source": [
    "data= df_withschema4.groupBy('Filed_Online').count()"
   ]
  },
  {
   "cell_type": "code",
   "execution_count": 49,
   "metadata": {},
   "outputs": [
    {
     "name": "stdout",
     "output_type": "stream",
     "text": [
      "22/12/15 23:50:10 WARN WindowExec: No Partition Defined for Window operation! Moving all data to a single partition, this can cause serious performance degradation.\n",
      "22/12/15 23:50:10 WARN WindowExec: No Partition Defined for Window operation! Moving all data to a single partition, this can cause serious performance degradation.\n",
      "22/12/15 23:50:10 WARN WindowExec: No Partition Defined for Window operation! Moving all data to a single partition, this can cause serious performance degradation.\n",
      "22/12/15 23:50:10 WARN CSVHeaderChecker: CSV header does not conform to the schema.\n",
      " Header: Filed Online\n",
      " Schema: Filed_Online\n",
      "Expected: Filed_Online but found: Filed Online\n",
      "CSV file: file:///Users/dipanwitabiswas/Desktop/Data%20Engineering/spark/RDD_structured/Police_Department_Incident_Reports__2018_to_Present.csv\n",
      "22/12/15 23:50:11 WARN WindowExec: No Partition Defined for Window operation! Moving all data to a single partition, this can cause serious performance degradation.\n",
      "22/12/15 23:50:11 WARN WindowExec: No Partition Defined for Window operation! Moving all data to a single partition, this can cause serious performance degradation.\n",
      "22/12/15 23:50:11 WARN WindowExec: No Partition Defined for Window operation! Moving all data to a single partition, this can cause serious performance degradation.\n",
      "22/12/15 23:50:11 WARN WindowExec: No Partition Defined for Window operation! Moving all data to a single partition, this can cause serious performance degradation.\n",
      "+------------+------+------------------+\n",
      "|Filed_Online| count|             value|\n",
      "+------------+------+------------------+\n",
      "|        true| 75607|0.2131041266781101|\n",
      "|       false|279182|0.7868958733218899|\n",
      "+------------+------+------------------+\n",
      "\n"
     ]
    }
   ],
   "source": [
    "from pyspark.sql.window import Window\n",
    "data.withColumn(\"value\", col('count')/sum('count').over(Window.partitionBy())).show()"
   ]
  },
  {
   "cell_type": "code",
   "execution_count": 44,
   "metadata": {},
   "outputs": [
    {
     "name": "stdout",
     "output_type": "stream",
     "text": [
      "22/12/15 23:49:03 WARN CSVHeaderChecker: CSV header does not conform to the schema.\n",
      " Header: Filed Online\n",
      " Schema: Filed_Online\n",
      "Expected: Filed_Online but found: Filed Online\n",
      "CSV file: file:///Users/dipanwitabiswas/Desktop/Data%20Engineering/spark/RDD_structured/Police_Department_Incident_Reports__2018_to_Present.csv\n",
      "+------------+------+\n",
      "|Filed_Online| count|\n",
      "+------------+------+\n",
      "|        true| 75607|\n",
      "|       false|279182|\n",
      "+------------+------+\n",
      "\n"
     ]
    },
    {
     "name": "stderr",
     "output_type": "stream",
     "text": [
      "                                                                                \r"
     ]
    }
   ],
   "source": [
    "data.show()"
   ]
  },
  {
   "cell_type": "code",
   "execution_count": 50,
   "metadata": {},
   "outputs": [],
   "source": [
    "\n",
    "############   Analysis 3 ###################\n",
    "\n",
    "# Group by the numbers of incidents reported based on each Year"
   ]
  },
  {
   "cell_type": "code",
   "execution_count": 53,
   "metadata": {},
   "outputs": [
    {
     "name": "stdout",
     "output_type": "stream",
     "text": [
      "22/12/15 23:52:23 WARN CSVHeaderChecker: CSV header does not conform to the schema.\n",
      " Header: Incident Datetime\n",
      " Schema: Incident_Datetime\n",
      "Expected: Incident_Datetime but found: Incident Datetime\n",
      "CSV file: file:///Users/dipanwitabiswas/Desktop/Data%20Engineering/spark/RDD_structured/Police_Department_Incident_Reports__2018_to_Present.csv\n"
     ]
    },
    {
     "name": "stderr",
     "output_type": "stream",
     "text": [
      "[Stage 42:>                                                         (0 + 1) / 1]\r"
     ]
    },
    {
     "name": "stdout",
     "output_type": "stream",
     "text": [
      "+-----------------------+------+\n",
      "|year(Incident_Datetime)| count|\n",
      "+-----------------------+------+\n",
      "|                   2018|153705|\n",
      "|                   2019|148929|\n",
      "|                   2020| 52155|\n",
      "+-----------------------+------+\n",
      "\n"
     ]
    },
    {
     "name": "stderr",
     "output_type": "stream",
     "text": [
      "                                                                                \r"
     ]
    }
   ],
   "source": [
    "df_withschema3.select('Incident_Datetime').groupBy(year('Incident_Datetime')).count().show()"
   ]
  },
  {
   "cell_type": "code",
   "execution_count": 54,
   "metadata": {},
   "outputs": [
    {
     "data": {
      "text/plain": [
       "DataFrame[Incident_Datetime: timestamp, Incident_Date: date, Incident_Time: timestamp, Incident_Year: int, Incident_Day_of_Week: string, Report_Datetime: timestamp, Row_ID: bigint, Incident_ID: int, Incident_Number: int, CAD_Number: int, Report_Type_Code: string, Report_Type_Description: string, Filed_Online: boolean, Incident_Code: int, Incident_Category: string, Incident_Subcategory: string, Incident_Description: string, Resolution: string, Intersection: string, CNN: double, Police_District: string, Analysis_Neighborhood: string, Supervisor_District: int, Latitude: double, Longitude: double, point: string]"
      ]
     },
     "execution_count": 54,
     "metadata": {},
     "output_type": "execute_result"
    }
   ],
   "source": [
    "# drop null values\n",
    "df_withschema3.na.drop()"
   ]
  },
  {
   "cell_type": "code",
   "execution_count": 57,
   "metadata": {},
   "outputs": [],
   "source": [
    "# ggregation\n",
    "\n",
    "sum_of_incidents= df_withschema3.agg({'Incident_Datetime' : 'count'})"
   ]
  },
  {
   "cell_type": "code",
   "execution_count": 59,
   "metadata": {},
   "outputs": [
    {
     "name": "stdout",
     "output_type": "stream",
     "text": [
      "22/12/16 00:04:13 WARN CSVHeaderChecker: CSV header does not conform to the schema.\n",
      " Header: Incident Datetime\n",
      " Schema: Incident_Datetime\n",
      "Expected: Incident_Datetime but found: Incident Datetime\n",
      "CSV file: file:///Users/dipanwitabiswas/Desktop/Data%20Engineering/spark/RDD_structured/Police_Department_Incident_Reports__2018_to_Present.csv\n"
     ]
    },
    {
     "name": "stderr",
     "output_type": "stream",
     "text": [
      "[Stage 45:>                                                         (0 + 1) / 1]\r"
     ]
    },
    {
     "name": "stdout",
     "output_type": "stream",
     "text": [
      "+------------------------+\n",
      "|count(Incident_Datetime)|\n",
      "+------------------------+\n",
      "|                  354789|\n",
      "+------------------------+\n",
      "\n"
     ]
    },
    {
     "name": "stderr",
     "output_type": "stream",
     "text": [
      "                                                                                \r"
     ]
    }
   ],
   "source": [
    "sum_of_incidents.show()"
   ]
  },
  {
   "cell_type": "code",
   "execution_count": 61,
   "metadata": {},
   "outputs": [
    {
     "name": "stdout",
     "output_type": "stream",
     "text": [
      "22/12/16 00:06:05 WARN CSVHeaderChecker: CSV header does not conform to the schema.\n",
      " Header: Incident Datetime, Incident Date, Incident Time, Incident Year, Incident Day of Week, Report Datetime, Row ID, Incident ID, Incident Number, CAD Number, Report Type Code, Report Type Description, Filed Online, Incident Code, Incident Category, Incident Subcategory, Incident Description, Resolution, Intersection, CNN, Police District, Analysis Neighborhood, Supervisor District, Latitude, Longitude, point\n",
      " Schema: Incident_Datetime, Incident_Date, Incident_Time, Incident_Year, Incident_Day_of_Week, Report_Datetime, Row_ID, Incident_ID, Incident_Number, CAD_Number, Report_Type_Code, Report_Type_Description, Filed_Online, Incident_Code, Incident_Category, Incident_Subcategory, Incident_Description, Resolution, Intersection, CNN, Police_District, Analysis_Neighborhood, Supervisor_District, Latitude, Longitude, point\n",
      "Expected: Incident_Datetime but found: Incident Datetime\n",
      "CSV file: file:///Users/dipanwitabiswas/Desktop/Data%20Engineering/spark/RDD_structured/Police_Department_Incident_Reports__2018_to_Present.csv\n",
      "+-----------------+-------------+-------------+-------------+--------------------+---------------+------+-----------+---------------+----------+----------------+-----------------------+------------+-------------+-----------------+--------------------+--------------------+----------+------------+---+---------------+---------------------+-------------------+--------+---------+-----+\n",
      "|Incident_Datetime|Incident_Date|Incident_Time|Incident_Year|Incident_Day_of_Week|Report_Datetime|Row_ID|Incident_ID|Incident_Number|CAD_Number|Report_Type_Code|Report_Type_Description|Filed_Online|Incident_Code|Incident_Category|Incident_Subcategory|Incident_Description|Resolution|Intersection|CNN|Police_District|Analysis_Neighborhood|Supervisor_District|Latitude|Longitude|point|\n",
      "+-----------------+-------------+-------------+-------------+--------------------+---------------+------+-----------+---------------+----------+----------------+-----------------------+------------+-------------+-----------------+--------------------+--------------------+----------+------------+---+---------------+---------------------+-------------------+--------+---------+-----+\n",
      "+-----------------+-------------+-------------+-------------+--------------------+---------------+------+-----------+---------------+----------+----------------+-----------------------+------------+-------------+-----------------+--------------------+--------------------+----------+------------+---+---------------+---------------------+-------------------+--------+---------+-----+\n",
      "\n"
     ]
    },
    {
     "name": "stderr",
     "output_type": "stream",
     "text": [
      "                                                                                \r"
     ]
    }
   ],
   "source": [
    "# filter based on multiple consitions\n",
    "df_withschema3.filter(((col('Filed_Online')== True) & (col('Incident_Year')==2009))).show()"
   ]
  },
  {
   "cell_type": "code",
   "execution_count": 63,
   "metadata": {},
   "outputs": [],
   "source": [
    "####   Analysis 1  Spark SQL##############\n",
    "# Find the days of the week on which maximum incidents has happened\n",
    "df_withschema4.registerTempTable('police_data')"
   ]
  },
  {
   "cell_type": "code",
   "execution_count": 66,
   "metadata": {},
   "outputs": [
    {
     "name": "stdout",
     "output_type": "stream",
     "text": [
      "22/12/16 00:08:06 WARN CSVHeaderChecker: CSV header does not conform to the schema.\n",
      " Header: Incident Datetime, Incident Date, Incident Time, Incident Year, Incident Day of Week, Report Datetime, Row ID, Incident ID, Incident Number, CAD Number, Report Type Code, Report Type Description, Filed Online, Incident Code, Incident Category, Incident Subcategory, Incident Description, Resolution, Intersection, CNN, Police District, Analysis Neighborhood, Supervisor District, Latitude, Longitude, point\n",
      " Schema: Incident_Datetime, Incident_Date, Incident_Time, Incident_Year, Incident_Day_of_Week, Report_Datetime, Row_ID, Incident_ID, Incident_Number, CAD_Number, Report_Type_Code, Report_Type_Description, Filed_Online, Incident_Code, Incident_Category, Incident_Subcategory, Incident_Description, Resolution, Intersection, CNN, Police_District, Analysis_Neighborhood, Supervisor_District, Latitude, Longitude, point\n",
      "Expected: Incident_Datetime but found: Incident Datetime\n",
      "CSV file: file:///Users/dipanwitabiswas/Desktop/Data%20Engineering/spark/RDD_structured/Police_Department_Incident_Reports__2018_to_Present.csv\n",
      "+-------------------+-------------+-------------------+-------------+--------------------+-------------------+-----------+-----------+---------------+----------+----------------+-----------------------+------------+-------------+--------------------+--------------------+--------------------+--------------------+--------------------+--------+---------------+---------------------+-------------------+------------------+-------------------+--------------------+---------+\n",
      "|  Incident_Datetime|Incident_Date|      Incident_Time|Incident_Year|Incident_Day_of_Week|    Report_Datetime|     Row_ID|Incident_ID|Incident_Number|CAD_Number|Report_Type_Code|Report_Type_Description|Filed_Online|Incident_Code|   Incident_Category|Incident_Subcategory|Incident_Description|          Resolution|        Intersection|     CNN|Police_District|Analysis_Neighborhood|Supervisor_District|          Latitude|          Longitude|               point|dayofweek|\n",
      "+-------------------+-------------+-------------------+-------------+--------------------+-------------------+-----------+-----------+---------------+----------+----------------+-----------------------+------------+-------------+--------------------+--------------------+--------------------+--------------------+--------------------+--------+---------------+---------------------+-------------------+------------------+-------------------+--------------------+---------+\n",
      "|2020-05-12 17:45:00|   2020-05-12|               null|         2020|             Tuesday|2020-05-13 09:46:00|92897328150|     928973|      206082743|      null|              II|       Coplogic Initial|        true|        28150|  Malicious Mischief|           Vandalism|Malicious Mischie...|      Open or Active|                null|    null|        Bayview|                 null|               null|              null|               null|                null|      Wed|\n",
      "|2020-05-19 21:00:00|   2020-05-19|               null|         2020|             Tuesday|2020-05-20 17:43:00|92899306244|     928993|      206082709|      null|              II|       Coplogic Initial|        true|         6244|       Larceny Theft|Larceny - From Ve...|Theft, From Locke...|      Open or Active|                null|    null|       Southern|                 null|               null|              null|               null|                null|      Wed|\n",
      "|2020-05-16 18:00:00|   2020-05-16|               null|         2020|            Saturday|2020-05-16 22:26:00|92902428150|     929024|      206083296|      null|              II|       Coplogic Initial|        true|        28150|  Malicious Mischief|           Vandalism|Malicious Mischie...|      Open or Active|                null|    null|        Mission|                 null|               null|              null|               null|                null|      Sat|\n",
      "|2020-03-30 00:00:00|   2020-03-30|               null|         2020|              Monday|2020-05-04 11:47:00|92905305073|     929053|      206062193|      null|              IS|    Coplogic Supplement|        true|         5073|            Burglary|    Burglary - Other|Burglary, Other B...|      Open or Active|                null|    null|        Mission|                 null|               null|              null|               null|                null|      Mon|\n",
      "|2020-02-03 14:45:00|   2020-02-03|               null|         2020|              Monday|2020-02-03 17:50:00|89881675000|     898816|      200085557| 200342870|              II|                Initial|       false|        75000|      Missing Person|      Missing Person|        Found Person|      Open or Active|20TH AVE \\ WINSTO...|3.3719E7|        Taraval|            Lakeshore|                  7| 37.72694991292525|-122.47603947349434|(37.7269499129252...|      Mon|\n",
      "|2020-05-22 10:30:00|   2020-05-22|1970-01-01 10:30:00|         2020|              Friday|2020-05-22 10:30:00|92915671012|     929156|      200271370|      null|              VS|     Vehicle Supplement|       false|        71012|      Other Offenses|      Other Offenses|License Plate, Re...|      Open or Active|                null|    null|      Out of SF|                 null|               null|              null|               null|                null|      Fri|\n",
      "|2020-02-03 03:45:00|   2020-02-03|1970-01-01 03:45:00|         2020|              Monday|2020-02-03 03:45:00|89860711012|     898607|      200083749| 200340316|              II|                Initial|       false|        11012|     Stolen Property|     Stolen Property|Stolen Property, ...|Cite or Arrest Adult|24TH ST \\ SHOTWEL...|2.4064E7|        Mission|              Mission|                  9|37.752439644389675|-122.41517229045435|(37.7524396443896...|      Mon|\n",
      "|2020-02-03 10:00:00|   2020-02-03|1970-01-01 10:00:00|         2020|              Monday|2020-02-03 10:06:00|89867264015|     898672|      200084060| 200340808|              II|                Initial|       false|        64015|        Non-Criminal|               Other|Aided Case, Injur...|      Open or Active|MARKET ST \\ POWEL...|3.4016E7|     Tenderloin| Financial Distric...|                  3|37.784560141211806|-122.40733704162238|(37.7845601412118...|      Mon|\n",
      "|2020-01-19 17:12:00|   2020-01-19|               null|         2020|              Sunday|2020-02-01 13:01:00|89863571000|     898635|      206024187|      null|              II|       Coplogic Initial|        true|        71000|       Lost Property|       Lost Property|       Lost Property|      Open or Active|                null|    null|        Taraval|                 null|               null|              null|               null|                null|      Sat|\n",
      "|2020-01-05 00:00:00|   2020-01-05|               null|         2020|              Sunday|2020-02-03 16:09:00|89877368020|     898773|      200085193| 200342341|              II|                Initial|       false|        68020|Miscellaneous Inv...|Miscellaneous Inv...|Miscellaneous Inv...|      Open or Active|PINE ST \\ DIVISAD...|2.6643E7|       Richmond|      Pacific Heights|                  2| 37.78711245591735|-122.44024995765258|(37.7871124559173...|      Mon|\n",
      "|2020-02-03 08:36:00|   2020-02-03|1970-01-01 08:36:00|         2020|              Monday|2020-02-03 08:36:00|89876268020|     898762|      200083909| 200340826|              II|                Initial|       false|        68020|Miscellaneous Inv...|Miscellaneous Inv...|Miscellaneous Inv...|      Open or Active|FRONT ST \\ JACKSO...|2.4697E7|        Central| Financial Distric...|                  3|37.796926429317054|-122.39950750040278|(37.7969264293170...|      Mon|\n",
      "|2020-01-16 00:01:00|   2020-01-16|               null|         2020|            Thursday|2020-01-21 08:05:00|89745215041|     897452|      200050964| 200050964|              IS|     Initial Supplement|       false|        15041|Offences Against ...|     Family Offenses|Elder Adult or De...|           Unfounded|18TH ST \\ SANCHEZ ST| 2.572E7|        Mission|  Castro/Upper Market|                  8| 37.76115547557552| -122.4305735690657|(37.7611554755755...|      Tue|\n",
      "|2020-01-29 13:41:00|   2020-01-29|               null|         2020|           Wednesday|2020-01-31 10:18:00|89862206372|     898622|      206024290|      null|              II|       Coplogic Initial|        true|         6372|       Larceny Theft|Larceny Theft - O...|Theft, Other Prop...|      Open or Active|                null|    null|      Out of SF|                 null|               null|              null|               null|                null|      Fri|\n",
      "|2020-01-23 17:34:00|   2020-01-23|               null|         2020|            Thursday|2020-02-03 10:28:00|89870064085|     898700|      200084167| 200341210|              II|                Initial|       false|        64085| Other Miscellaneous|               Other|Investigative Det...|      Open or Active|MARKET ST \\ COLLI...| 2.582E7|        Mission|  Castro/Upper Market|                  8| 37.76213762477359|-122.43624180667507|(37.7621376247735...|      Mon|\n",
      "|2020-02-03 07:28:00|   2020-02-03|1970-01-01 07:28:00|         2020|              Monday|2020-02-03 07:37:00|89865164020|     898651|      200083830| 200340622|              II|                Initial|       false|        64020|        Non-Criminal|               Other|Mental Health Det...|      Open or Active|  OTIS ST \\ BRADY ST|2.4393E7|       Southern|              Mission|                  6| 37.77230320284353|-122.41967183064224|(37.7723032028435...|      Mon|\n",
      "|2020-02-03 13:50:00|   2020-02-03|               null|         2020|              Monday|2020-02-03 13:50:00|89874775025|     898747|      200083761| 200340461|              IS|     Initial Supplement|       false|        75025|        Non-Criminal|        Non-Criminal|Search Warrant Se...|      Open or Active| 26TH ST \\ FOLSOM ST|2.1178E7|        Mission|              Mission|                  9| 37.74930406746458|  -122.413770628689|(37.7493040674645...|      Mon|\n",
      "|2020-01-10 17:00:00|   2020-01-10|               null|         2020|              Friday|2020-02-03 18:54:00|89880771000|     898807|      200085698| 200343140|              II|                Initial|       false|        71000|       Lost Property|       Lost Property|       Lost Property|      Open or Active|VISTA LN \\ CRESTL...|3.2986E7|           Park|           Twin Peaks|                  8| 37.75166941216422|-122.44624479108757|(37.7516694121642...|      Mon|\n",
      "|2020-02-03 19:00:00|   2020-02-03|               null|         2020|              Monday|2020-02-03 20:18:00|89883906153|     898839|      200085905| 200343364|              II|                Initial|       false|         6153|       Larceny Theft|Larceny Theft - O...|Theft, From Perso...|      Open or Active|03RD ST \\ KIRKWOO...|2.0223E7|        Bayview| Bayview Hunters P...|                 10|   37.737955394873|-122.38958738129647|(37.737955394873,...|      Mon|\n",
      "|2020-01-31 04:00:00|   2020-01-31|1970-01-01 04:00:00|         2020|              Friday|2020-02-02 11:08:00|89848168020|     898481|      200082246| 200331285|              II|                Initial|       false|        68020|Miscellaneous Inv...|Miscellaneous Inv...|Miscellaneous Inv...|      Open or Active|FILLMORE ST \\ PAC...|2.6657E7|       Northern|      Pacific Heights|                  2| 37.79334728396327|-122.43473366442743|(37.7933472839632...|      Sun|\n",
      "|2020-01-31 08:00:00|   2020-01-31|1970-01-01 08:00:00|         2020|              Friday|2020-02-03 08:12:00|89865606241|     898656|      200083846| 200340732|              II|                Initial|       false|         6241|       Larceny Theft|Larceny - From Ve...|Theft, From Locke...|      Open or Active|WEBSTER ST \\ PACI...|2.6656E7|       Northern|      Pacific Heights|                  2|  37.7935575533924|-122.43308841758456|(37.7935575533924...|      Mon|\n",
      "+-------------------+-------------+-------------------+-------------+--------------------+-------------------+-----------+-----------+---------------+----------+----------------+-----------------------+------------+-------------+--------------------+--------------------+--------------------+--------------------+--------------------+--------+---------------+---------------------+-------------------+------------------+-------------------+--------------------+---------+\n",
      "only showing top 20 rows\n",
      "\n"
     ]
    }
   ],
   "source": [
    "spark.sql('select * from police_data').show()"
   ]
  },
  {
   "cell_type": "code",
   "execution_count": 68,
   "metadata": {},
   "outputs": [
    {
     "name": "stdout",
     "output_type": "stream",
     "text": [
      "22/12/16 00:09:25 WARN CSVHeaderChecker: CSV header does not conform to the schema.\n",
      " Header: Report Datetime\n",
      " Schema: Report_Datetime\n",
      "Expected: Report_Datetime but found: Report Datetime\n",
      "CSV file: file:///Users/dipanwitabiswas/Desktop/Data%20Engineering/spark/RDD_structured/Police_Department_Incident_Reports__2018_to_Present.csv\n",
      "+---------+----------------+\n",
      "|dayofweek|count(dayofweek)|\n",
      "+---------+----------------+\n",
      "|      Mon|           55468|\n",
      "|      Wed|           54923|\n",
      "|      Tue|           53354|\n",
      "|      Thu|           50900|\n",
      "|      Fri|           49948|\n",
      "|      Sun|           45117|\n",
      "|      Sat|           45079|\n",
      "+---------+----------------+\n",
      "\n"
     ]
    },
    {
     "name": "stderr",
     "output_type": "stream",
     "text": [
      "                                                                                \r"
     ]
    }
   ],
   "source": [
    "spark.sql('select dayofweek, count(dayofweek) from police_data group by dayofweek order by count(dayofweek) desc').show()"
   ]
  },
  {
   "cell_type": "code",
   "execution_count": null,
   "metadata": {},
   "outputs": [],
   "source": []
  }
 ],
 "metadata": {
  "kernelspec": {
   "display_name": "Python 3.9.13 64-bit",
   "language": "python",
   "name": "python3"
  },
  "language_info": {
   "codemirror_mode": {
    "name": "ipython",
    "version": 3
   },
   "file_extension": ".py",
   "mimetype": "text/x-python",
   "name": "python",
   "nbconvert_exporter": "python",
   "pygments_lexer": "ipython3",
   "version": "3.9.13"
  },
  "orig_nbformat": 4,
  "vscode": {
   "interpreter": {
    "hash": "b0fa6594d8f4cbf19f97940f81e996739fb7646882a419484c72d19e05852a7e"
   }
  }
 },
 "nbformat": 4,
 "nbformat_minor": 2
}
